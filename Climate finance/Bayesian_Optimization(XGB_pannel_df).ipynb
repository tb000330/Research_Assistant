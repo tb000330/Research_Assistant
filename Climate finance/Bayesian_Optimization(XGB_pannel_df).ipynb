{
  "cells": [
    {
      "cell_type": "markdown",
      "metadata": {
        "id": "view-in-github",
        "colab_type": "text"
      },
      "source": [
        "<a href=\"https://colab.research.google.com/github/tb000330/Research_Assistant/blob/main/Climate%20finance/Bayesian_Optimization(XGB_pannel_df).ipynb\" target=\"_parent\"><img src=\"https://colab.research.google.com/assets/colab-badge.svg\" alt=\"Open In Colab\"/></a>"
      ]
    },
    {
      "cell_type": "code",
      "execution_count": null,
      "metadata": {
        "colab": {
          "base_uri": "https://localhost:8080/"
        },
        "id": "kUKWaZPTELst",
        "outputId": "27161940-aead-474d-b731-b61b86cc0227"
      },
      "outputs": [
        {
          "output_type": "stream",
          "name": "stdout",
          "text": [
            "Mounted at /content/drive\n"
          ]
        }
      ],
      "source": [
        "from google.colab import drive\n",
        "drive.mount('/content/drive')"
      ]
    },
    {
      "cell_type": "code",
      "execution_count": null,
      "metadata": {
        "id": "y0dCDAE2EMUd"
      },
      "outputs": [],
      "source": [
        "import pandas as pd\n",
        "import numpy as np\n",
        "import re\n",
        "import datetime\n",
        "from tqdm import tqdm\n",
        "\n",
        "import seaborn as sns\n",
        "from matplotlib.patches import Patch\n",
        "from matplotlib import pyplot as plt\n",
        "plt.rc('font', family='NanumGothic')\n",
        "plt.rcParams.update({'figure.max_open_warning': 0})\n",
        "plt.style.use('fivethirtyeight')\n",
        "cmap_data = plt.cm.Paired\n",
        "cmap_cv = plt.cm.coolwarm\n",
        "\n",
        "from sklearn.model_selection import train_test_split\n",
        "from xgboost import plot_importance\n",
        "from xgboost import XGBClassifier\n",
        "from sklearn.metrics import accuracy_score\n",
        "\n",
        "from sklearn.model_selection import TimeSeriesSplit \n",
        "from matplotlib.patches import Patch "
      ]
    },
    {
      "cell_type": "code",
      "execution_count": null,
      "metadata": {
        "colab": {
          "base_uri": "https://localhost:8080/",
          "height": 551
        },
        "id": "dYyIzf9JFCMG",
        "outputId": "63e11171-964d-4d6e-bccb-e9f01f871443"
      },
      "outputs": [
        {
          "output_type": "stream",
          "name": "stderr",
          "text": [
            "/usr/local/lib/python3.8/dist-packages/IPython/core/interactiveshell.py:3326: DtypeWarning: Columns (44,45) have mixed types.Specify dtype option on import or set low_memory=False.\n",
            "  exec(code_obj, self.user_global_ns, self.user_ns)\n"
          ]
        },
        {
          "output_type": "execute_result",
          "data": {
            "text/plain": [
              "           code cor_name  Accounting_Closing  year  cash/assets  \\\n",
              "111901  A950180      SNK                 7.0  2019     0.817917   \n",
              "111902  A950180      SNK                 7.0  2020     0.600422   \n",
              "111903  A950180      SNK                 7.0  2021     0.694562   \n",
              "\n",
              "        liabilities/assets  liabilities-cash/assets  sales/cur_liabilities  \\\n",
              "111901            0.054197                -0.763720               7.171777   \n",
              "111902            0.065299                -0.535123               4.686278   \n",
              "111903            0.101859                -0.592702               2.830798   \n",
              "\n",
              "        cur_assets/cur_liabilities  retained_earnings/cur_liabilities  ...  \\\n",
              "111901                   21.456253                           6.256272  ...   \n",
              "111902                   17.116893                           6.287657  ...   \n",
              "111903                    9.826040                           1.322351  ...   \n",
              "\n",
              "        코드대분류   코드세분류  코드세세분류  코드소분류  코드중분류  주거래은행      최초상장일자        상장일자  \\\n",
              "111901      J  5821.0  5821.0  582.0   58.0  미츠호은행  20190507.0  20190507.0   \n",
              "111902      J  5821.0  5821.0  582.0   58.0  미츠호은행  20190507.0  20190507.0   \n",
              "111903      J  5821.0  5821.0  582.0   58.0  미츠호은행  20190507.0  20190507.0   \n",
              "\n",
              "        unlist_date       unlist_reason  \n",
              "111901   2022-05-18  상장폐지 신청('22.04.14)  \n",
              "111902   2022-05-18  상장폐지 신청('22.04.14)  \n",
              "111903   2022-05-18  상장폐지 신청('22.04.14)  \n",
              "\n",
              "[3 rows x 45 columns]"
            ],
            "text/html": [
              "\n",
              "  <div id=\"df-474554ca-33ee-44bc-be8e-ea6ee56251c9\">\n",
              "    <div class=\"colab-df-container\">\n",
              "      <div>\n",
              "<style scoped>\n",
              "    .dataframe tbody tr th:only-of-type {\n",
              "        vertical-align: middle;\n",
              "    }\n",
              "\n",
              "    .dataframe tbody tr th {\n",
              "        vertical-align: top;\n",
              "    }\n",
              "\n",
              "    .dataframe thead th {\n",
              "        text-align: right;\n",
              "    }\n",
              "</style>\n",
              "<table border=\"1\" class=\"dataframe\">\n",
              "  <thead>\n",
              "    <tr style=\"text-align: right;\">\n",
              "      <th></th>\n",
              "      <th>code</th>\n",
              "      <th>cor_name</th>\n",
              "      <th>Accounting_Closing</th>\n",
              "      <th>year</th>\n",
              "      <th>cash/assets</th>\n",
              "      <th>liabilities/assets</th>\n",
              "      <th>liabilities-cash/assets</th>\n",
              "      <th>sales/cur_liabilities</th>\n",
              "      <th>cur_assets/cur_liabilities</th>\n",
              "      <th>retained_earnings/cur_liabilities</th>\n",
              "      <th>...</th>\n",
              "      <th>코드대분류</th>\n",
              "      <th>코드세분류</th>\n",
              "      <th>코드세세분류</th>\n",
              "      <th>코드소분류</th>\n",
              "      <th>코드중분류</th>\n",
              "      <th>주거래은행</th>\n",
              "      <th>최초상장일자</th>\n",
              "      <th>상장일자</th>\n",
              "      <th>unlist_date</th>\n",
              "      <th>unlist_reason</th>\n",
              "    </tr>\n",
              "  </thead>\n",
              "  <tbody>\n",
              "    <tr>\n",
              "      <th>111901</th>\n",
              "      <td>A950180</td>\n",
              "      <td>SNK</td>\n",
              "      <td>7.0</td>\n",
              "      <td>2019</td>\n",
              "      <td>0.817917</td>\n",
              "      <td>0.054197</td>\n",
              "      <td>-0.763720</td>\n",
              "      <td>7.171777</td>\n",
              "      <td>21.456253</td>\n",
              "      <td>6.256272</td>\n",
              "      <td>...</td>\n",
              "      <td>J</td>\n",
              "      <td>5821.0</td>\n",
              "      <td>5821.0</td>\n",
              "      <td>582.0</td>\n",
              "      <td>58.0</td>\n",
              "      <td>미츠호은행</td>\n",
              "      <td>20190507.0</td>\n",
              "      <td>20190507.0</td>\n",
              "      <td>2022-05-18</td>\n",
              "      <td>상장폐지 신청('22.04.14)</td>\n",
              "    </tr>\n",
              "    <tr>\n",
              "      <th>111902</th>\n",
              "      <td>A950180</td>\n",
              "      <td>SNK</td>\n",
              "      <td>7.0</td>\n",
              "      <td>2020</td>\n",
              "      <td>0.600422</td>\n",
              "      <td>0.065299</td>\n",
              "      <td>-0.535123</td>\n",
              "      <td>4.686278</td>\n",
              "      <td>17.116893</td>\n",
              "      <td>6.287657</td>\n",
              "      <td>...</td>\n",
              "      <td>J</td>\n",
              "      <td>5821.0</td>\n",
              "      <td>5821.0</td>\n",
              "      <td>582.0</td>\n",
              "      <td>58.0</td>\n",
              "      <td>미츠호은행</td>\n",
              "      <td>20190507.0</td>\n",
              "      <td>20190507.0</td>\n",
              "      <td>2022-05-18</td>\n",
              "      <td>상장폐지 신청('22.04.14)</td>\n",
              "    </tr>\n",
              "    <tr>\n",
              "      <th>111903</th>\n",
              "      <td>A950180</td>\n",
              "      <td>SNK</td>\n",
              "      <td>7.0</td>\n",
              "      <td>2021</td>\n",
              "      <td>0.694562</td>\n",
              "      <td>0.101859</td>\n",
              "      <td>-0.592702</td>\n",
              "      <td>2.830798</td>\n",
              "      <td>9.826040</td>\n",
              "      <td>1.322351</td>\n",
              "      <td>...</td>\n",
              "      <td>J</td>\n",
              "      <td>5821.0</td>\n",
              "      <td>5821.0</td>\n",
              "      <td>582.0</td>\n",
              "      <td>58.0</td>\n",
              "      <td>미츠호은행</td>\n",
              "      <td>20190507.0</td>\n",
              "      <td>20190507.0</td>\n",
              "      <td>2022-05-18</td>\n",
              "      <td>상장폐지 신청('22.04.14)</td>\n",
              "    </tr>\n",
              "  </tbody>\n",
              "</table>\n",
              "<p>3 rows × 45 columns</p>\n",
              "</div>\n",
              "      <button class=\"colab-df-convert\" onclick=\"convertToInteractive('df-474554ca-33ee-44bc-be8e-ea6ee56251c9')\"\n",
              "              title=\"Convert this dataframe to an interactive table.\"\n",
              "              style=\"display:none;\">\n",
              "        \n",
              "  <svg xmlns=\"http://www.w3.org/2000/svg\" height=\"24px\"viewBox=\"0 0 24 24\"\n",
              "       width=\"24px\">\n",
              "    <path d=\"M0 0h24v24H0V0z\" fill=\"none\"/>\n",
              "    <path d=\"M18.56 5.44l.94 2.06.94-2.06 2.06-.94-2.06-.94-.94-2.06-.94 2.06-2.06.94zm-11 1L8.5 8.5l.94-2.06 2.06-.94-2.06-.94L8.5 2.5l-.94 2.06-2.06.94zm10 10l.94 2.06.94-2.06 2.06-.94-2.06-.94-.94-2.06-.94 2.06-2.06.94z\"/><path d=\"M17.41 7.96l-1.37-1.37c-.4-.4-.92-.59-1.43-.59-.52 0-1.04.2-1.43.59L10.3 9.45l-7.72 7.72c-.78.78-.78 2.05 0 2.83L4 21.41c.39.39.9.59 1.41.59.51 0 1.02-.2 1.41-.59l7.78-7.78 2.81-2.81c.8-.78.8-2.07 0-2.86zM5.41 20L4 18.59l7.72-7.72 1.47 1.35L5.41 20z\"/>\n",
              "  </svg>\n",
              "      </button>\n",
              "      \n",
              "  <style>\n",
              "    .colab-df-container {\n",
              "      display:flex;\n",
              "      flex-wrap:wrap;\n",
              "      gap: 12px;\n",
              "    }\n",
              "\n",
              "    .colab-df-convert {\n",
              "      background-color: #E8F0FE;\n",
              "      border: none;\n",
              "      border-radius: 50%;\n",
              "      cursor: pointer;\n",
              "      display: none;\n",
              "      fill: #1967D2;\n",
              "      height: 32px;\n",
              "      padding: 0 0 0 0;\n",
              "      width: 32px;\n",
              "    }\n",
              "\n",
              "    .colab-df-convert:hover {\n",
              "      background-color: #E2EBFA;\n",
              "      box-shadow: 0px 1px 2px rgba(60, 64, 67, 0.3), 0px 1px 3px 1px rgba(60, 64, 67, 0.15);\n",
              "      fill: #174EA6;\n",
              "    }\n",
              "\n",
              "    [theme=dark] .colab-df-convert {\n",
              "      background-color: #3B4455;\n",
              "      fill: #D2E3FC;\n",
              "    }\n",
              "\n",
              "    [theme=dark] .colab-df-convert:hover {\n",
              "      background-color: #434B5C;\n",
              "      box-shadow: 0px 1px 3px 1px rgba(0, 0, 0, 0.15);\n",
              "      filter: drop-shadow(0px 1px 2px rgba(0, 0, 0, 0.3));\n",
              "      fill: #FFFFFF;\n",
              "    }\n",
              "  </style>\n",
              "\n",
              "      <script>\n",
              "        const buttonEl =\n",
              "          document.querySelector('#df-474554ca-33ee-44bc-be8e-ea6ee56251c9 button.colab-df-convert');\n",
              "        buttonEl.style.display =\n",
              "          google.colab.kernel.accessAllowed ? 'block' : 'none';\n",
              "\n",
              "        async function convertToInteractive(key) {\n",
              "          const element = document.querySelector('#df-474554ca-33ee-44bc-be8e-ea6ee56251c9');\n",
              "          const dataTable =\n",
              "            await google.colab.kernel.invokeFunction('convertToInteractive',\n",
              "                                                     [key], {});\n",
              "          if (!dataTable) return;\n",
              "\n",
              "          const docLinkHtml = 'Like what you see? Visit the ' +\n",
              "            '<a target=\"_blank\" href=https://colab.research.google.com/notebooks/data_table.ipynb>data table notebook</a>'\n",
              "            + ' to learn more about interactive tables.';\n",
              "          element.innerHTML = '';\n",
              "          dataTable['output_type'] = 'display_data';\n",
              "          await google.colab.output.renderOutput(dataTable, element);\n",
              "          const docLink = document.createElement('div');\n",
              "          docLink.innerHTML = docLinkHtml;\n",
              "          element.appendChild(docLink);\n",
              "        }\n",
              "      </script>\n",
              "    </div>\n",
              "  </div>\n",
              "  "
            ]
          },
          "metadata": {},
          "execution_count": 3
        }
      ],
      "source": [
        "panel = pd.read_csv('/content/drive/MyDrive/학교/연구 자료/기후금융/finance_data/panel_df.csv')\n",
        "panel = panel.iloc[:,1:].reset_index(drop=True)\n",
        "panel.tail(3)"
      ]
    },
    {
      "cell_type": "markdown",
      "metadata": {
        "id": "1TNxDFj5BO8M"
      },
      "source": [
        "# #1. 전처리 & 파생변수"
      ]
    },
    {
      "cell_type": "code",
      "execution_count": null,
      "metadata": {
        "colab": {
          "base_uri": "https://localhost:8080/"
        },
        "id": "Eo2K8nKeIrxs",
        "outputId": "c73bb8e7-3758-455a-9704-0f8869011a4b"
      },
      "outputs": [
        {
          "output_type": "stream",
          "name": "stderr",
          "text": [
            "/usr/local/lib/python3.8/dist-packages/IPython/core/interactiveshell.py:3326: DtypeWarning: Columns (47,48) have mixed types.Specify dtype option on import or set low_memory=False.\n",
            "  exec(code_obj, self.user_global_ns, self.user_ns)\n"
          ]
        }
      ],
      "source": [
        "panel = pd.read_csv('/content/drive/MyDrive/학교/연구 자료/기후금융/finance_data/panel_df.csv')\n",
        "panel = panel.iloc[:,1:].reset_index(drop=True)\n",
        "\n",
        "# return 변수 float\n",
        "panel['return'] = panel['return'].astype(str)\n",
        "panel['return'] = [re.sub(\",\", \"\", row) for row in panel['return']]\n",
        "panel['return'] = panel['return'].astype(float)\n",
        "\n",
        "# astype 또는 to_datetime로 변환\n",
        "# panel['year'] = panel['year'].astype(str)\n",
        "panel['최초상장일자'] = panel['최초상장일자'].astype(str)\n",
        "panel['상장일자'] = panel['상장일자'].astype(str)\n",
        "panel['최초상장일자'] = [re.sub(\".0$\", \"\", row) for row in panel['최초상장일자']]\n",
        "panel['상장일자'] = [re.sub(\".0$\", \"\", row) for row in panel['상장일자']]\n",
        "panel['최초상장일자'] = pd.to_datetime(panel['최초상장일자'])\n",
        "panel['상장일자'] = pd.to_datetime(panel['상장일자'])\n",
        "\n",
        "panel['unlist_year'] = panel['unlist_date'].str.slice(stop=4)\n",
        "# panel['unlist_date'] = pd.to_datetime(panel['unlist_date'])\n",
        "# panel['Accounting_Closing'] = panel['Accounting_Closing'].astype(int) #오류남\n",
        "panel['unlist_reason'] = panel['unlist_reason'].astype(str)\n",
        "\n",
        "# 금융회사 제외\n",
        "panel = panel[panel['대분류']!='금융 및 보험업']\n",
        "panel = panel.drop(['대분류', '세분류', '세세분류','소분류', '중분류', '코드세분류', '코드세세분류', '코드소분류', '코드중분류', '주거래은행'], axis=1)"
      ]
    },
    {
      "cell_type": "markdown",
      "metadata": {
        "id": "oAJD8I_KVIzK"
      },
      "source": [
        "## (2) 상장폐지 사유 전처리 & 카테고리화"
      ]
    },
    {
      "cell_type": "code",
      "execution_count": null,
      "metadata": {
        "id": "fiICcuOSUqne"
      },
      "outputs": [],
      "source": [
        "panel['unlist_reason_ctg'] = panel['unlist_reason']\n",
        "\n",
        "## 상장폐지신청 dict로 class화 \n",
        "ctg_dict = {}\n",
        "ctg_list = ['(상장폐지 ?신청)|(^신청)','(신청)|(요청)|(자진)',\"(상장$)|(^시장)|(^증권)\",'(편입)|(흡수)',\"지주회사\", \"영업의 양도\", \"기타\", \"계약이전\",\n",
        "            '해산', \"부도\", '전액', '자본', \"(^감사(으로)? ?의견( 의견)? ?거절)|(범위 ?제한)|(감사의견 ?부적정)|(감사의견거절)\", \"경영\", \n",
        "            \"(시가 ?총액)|(시총)\",\"주식\",\"보통주\", \"정리\", \"영업\", \"유예\", \"정지\", \"제출\", \"부진\", \"액면가\", \"불성실\", \"화의 불인가\", \"회생\"]\n",
        "\n",
        "for ctg in ctg_list:\n",
        "  r = re.compile(ctg) \n",
        "  v = list(set([row for row in panel['unlist_reason_ctg'] if r.search(row) is not None]))\n",
        "  k = min(v, key=len)\n",
        "  ctg_dict[k] = v\n",
        "  panel['unlist_reason_ctg'] = panel['unlist_reason_ctg'].replace(v, '0')\n",
        "\n",
        "# keys 이름 수정\n",
        "# ctg_dict[\"자본잠식률 50% 이상\"] = ctg_dict[\"2회연속 자본잠식률 50%이상\"]\n",
        "# ctg_dict[\"불성실공시법인지정\"] = ctg_dict[\"최근 2년간 3회이상 불성실공시법인으로 지정\"]\n",
        "\n",
        "# del ctg_dict[\"2회연속 자본잠식률 50%이상\"], ctg_dict[\"최근 2년간 3회이상 불성실공시법인으로 지정\"]"
      ]
    },
    {
      "cell_type": "code",
      "execution_count": null,
      "metadata": {
        "colab": {
          "base_uri": "https://localhost:8080/"
        },
        "id": "v_c3H2wxjeIH",
        "outputId": "c96d0227-1ad2-4614-90bf-2c9a7f85cb63"
      },
      "outputs": [
        {
          "output_type": "execute_result",
          "data": {
            "text/plain": [
              "dict_keys(['신청에 의한 상장폐지', '자진등록취소', '코스닥시장 상장', '피흡수합병', '지주회사(최대주주등)의 완전자회사화 등', '주된영업의 양도', '기타 등록취소', '계약이전', '해산 사유 발생', '부도', '자본전액잠식', '2연속 자본잠식률 50% 이상', '감사의견거절', '기업의 계속성 및 경영의 투명성 등을 종합적으로 고려하여 상장폐지기준에 해당', '시가총액 미달', '주식양도 제한', '보통주 주가수준미달', '회사정리절차 폐지 결정', '영업활동정지 6월 계속', '상장폐지유예기간종료', '당좌거래정지', '공시서류 미제출(분기보고서) 후 차기보고서 미제출', '2분기 연속 거래실적부진사유 미해소', '액면가액일정비율 미달', '최근 2년간 3회이상 불성실공시법인으로 지정', '화의 불인가', '회생절차폐지결정사유 및 당해 코스닥시장상장법인의 계속기업 가능성 유무를 고려한 결과 상장폐지기준에 해당한다고 결정'])"
            ]
          },
          "metadata": {},
          "execution_count": 5
        }
      ],
      "source": [
        "ctg_dict.keys()"
      ]
    },
    {
      "cell_type": "code",
      "execution_count": null,
      "metadata": {
        "colab": {
          "base_uri": "https://localhost:8080/"
        },
        "id": "cL8foTYYKlGJ",
        "outputId": "3a704ec1-ed35-48c0-b9dc-0ee2a39d3d9c"
      },
      "outputs": [
        {
          "output_type": "execute_result",
          "data": {
            "text/plain": [
              "       unlist_reason_ctg       unlist_reason\n",
              "76864             자본전액잠식        자본전액잠식 2년 계속\n",
              "76865             자본전액잠식        자본전액잠식 2년 계속\n",
              "76866             자본전액잠식        자본전액잠식 2년 계속\n",
              "76867             자본전액잠식        자본전액잠식 2년 계속\n",
              "76868             자본전액잠식        자본전액잠식 2년 계속\n",
              "...                  ...                 ...\n",
              "111899       신청에 의한 상장폐지  상장폐지 신청('22.04.14)\n",
              "111900       신청에 의한 상장폐지  상장폐지 신청('22.04.14)\n",
              "111901       신청에 의한 상장폐지  상장폐지 신청('22.04.14)\n",
              "111902       신청에 의한 상장폐지  상장폐지 신청('22.04.14)\n",
              "111903       신청에 의한 상장폐지  상장폐지 신청('22.04.14)\n",
              "\n",
              "[19584 rows x 2 columns]"
            ],
            "text/html": [
              "\n",
              "  <div id=\"df-3cc9afa9-9021-419c-b401-cb01f315ea36\">\n",
              "    <div class=\"colab-df-container\">\n",
              "      <div>\n",
              "<style scoped>\n",
              "    .dataframe tbody tr th:only-of-type {\n",
              "        vertical-align: middle;\n",
              "    }\n",
              "\n",
              "    .dataframe tbody tr th {\n",
              "        vertical-align: top;\n",
              "    }\n",
              "\n",
              "    .dataframe thead th {\n",
              "        text-align: right;\n",
              "    }\n",
              "</style>\n",
              "<table border=\"1\" class=\"dataframe\">\n",
              "  <thead>\n",
              "    <tr style=\"text-align: right;\">\n",
              "      <th></th>\n",
              "      <th>unlist_reason_ctg</th>\n",
              "      <th>unlist_reason</th>\n",
              "    </tr>\n",
              "  </thead>\n",
              "  <tbody>\n",
              "    <tr>\n",
              "      <th>76864</th>\n",
              "      <td>자본전액잠식</td>\n",
              "      <td>자본전액잠식 2년 계속</td>\n",
              "    </tr>\n",
              "    <tr>\n",
              "      <th>76865</th>\n",
              "      <td>자본전액잠식</td>\n",
              "      <td>자본전액잠식 2년 계속</td>\n",
              "    </tr>\n",
              "    <tr>\n",
              "      <th>76866</th>\n",
              "      <td>자본전액잠식</td>\n",
              "      <td>자본전액잠식 2년 계속</td>\n",
              "    </tr>\n",
              "    <tr>\n",
              "      <th>76867</th>\n",
              "      <td>자본전액잠식</td>\n",
              "      <td>자본전액잠식 2년 계속</td>\n",
              "    </tr>\n",
              "    <tr>\n",
              "      <th>76868</th>\n",
              "      <td>자본전액잠식</td>\n",
              "      <td>자본전액잠식 2년 계속</td>\n",
              "    </tr>\n",
              "    <tr>\n",
              "      <th>...</th>\n",
              "      <td>...</td>\n",
              "      <td>...</td>\n",
              "    </tr>\n",
              "    <tr>\n",
              "      <th>111899</th>\n",
              "      <td>신청에 의한 상장폐지</td>\n",
              "      <td>상장폐지 신청('22.04.14)</td>\n",
              "    </tr>\n",
              "    <tr>\n",
              "      <th>111900</th>\n",
              "      <td>신청에 의한 상장폐지</td>\n",
              "      <td>상장폐지 신청('22.04.14)</td>\n",
              "    </tr>\n",
              "    <tr>\n",
              "      <th>111901</th>\n",
              "      <td>신청에 의한 상장폐지</td>\n",
              "      <td>상장폐지 신청('22.04.14)</td>\n",
              "    </tr>\n",
              "    <tr>\n",
              "      <th>111902</th>\n",
              "      <td>신청에 의한 상장폐지</td>\n",
              "      <td>상장폐지 신청('22.04.14)</td>\n",
              "    </tr>\n",
              "    <tr>\n",
              "      <th>111903</th>\n",
              "      <td>신청에 의한 상장폐지</td>\n",
              "      <td>상장폐지 신청('22.04.14)</td>\n",
              "    </tr>\n",
              "  </tbody>\n",
              "</table>\n",
              "<p>19584 rows × 2 columns</p>\n",
              "</div>\n",
              "      <button class=\"colab-df-convert\" onclick=\"convertToInteractive('df-3cc9afa9-9021-419c-b401-cb01f315ea36')\"\n",
              "              title=\"Convert this dataframe to an interactive table.\"\n",
              "              style=\"display:none;\">\n",
              "        \n",
              "  <svg xmlns=\"http://www.w3.org/2000/svg\" height=\"24px\"viewBox=\"0 0 24 24\"\n",
              "       width=\"24px\">\n",
              "    <path d=\"M0 0h24v24H0V0z\" fill=\"none\"/>\n",
              "    <path d=\"M18.56 5.44l.94 2.06.94-2.06 2.06-.94-2.06-.94-.94-2.06-.94 2.06-2.06.94zm-11 1L8.5 8.5l.94-2.06 2.06-.94-2.06-.94L8.5 2.5l-.94 2.06-2.06.94zm10 10l.94 2.06.94-2.06 2.06-.94-2.06-.94-.94-2.06-.94 2.06-2.06.94z\"/><path d=\"M17.41 7.96l-1.37-1.37c-.4-.4-.92-.59-1.43-.59-.52 0-1.04.2-1.43.59L10.3 9.45l-7.72 7.72c-.78.78-.78 2.05 0 2.83L4 21.41c.39.39.9.59 1.41.59.51 0 1.02-.2 1.41-.59l7.78-7.78 2.81-2.81c.8-.78.8-2.07 0-2.86zM5.41 20L4 18.59l7.72-7.72 1.47 1.35L5.41 20z\"/>\n",
              "  </svg>\n",
              "      </button>\n",
              "      \n",
              "  <style>\n",
              "    .colab-df-container {\n",
              "      display:flex;\n",
              "      flex-wrap:wrap;\n",
              "      gap: 12px;\n",
              "    }\n",
              "\n",
              "    .colab-df-convert {\n",
              "      background-color: #E8F0FE;\n",
              "      border: none;\n",
              "      border-radius: 50%;\n",
              "      cursor: pointer;\n",
              "      display: none;\n",
              "      fill: #1967D2;\n",
              "      height: 32px;\n",
              "      padding: 0 0 0 0;\n",
              "      width: 32px;\n",
              "    }\n",
              "\n",
              "    .colab-df-convert:hover {\n",
              "      background-color: #E2EBFA;\n",
              "      box-shadow: 0px 1px 2px rgba(60, 64, 67, 0.3), 0px 1px 3px 1px rgba(60, 64, 67, 0.15);\n",
              "      fill: #174EA6;\n",
              "    }\n",
              "\n",
              "    [theme=dark] .colab-df-convert {\n",
              "      background-color: #3B4455;\n",
              "      fill: #D2E3FC;\n",
              "    }\n",
              "\n",
              "    [theme=dark] .colab-df-convert:hover {\n",
              "      background-color: #434B5C;\n",
              "      box-shadow: 0px 1px 3px 1px rgba(0, 0, 0, 0.15);\n",
              "      filter: drop-shadow(0px 1px 2px rgba(0, 0, 0, 0.3));\n",
              "      fill: #FFFFFF;\n",
              "    }\n",
              "  </style>\n",
              "\n",
              "      <script>\n",
              "        const buttonEl =\n",
              "          document.querySelector('#df-3cc9afa9-9021-419c-b401-cb01f315ea36 button.colab-df-convert');\n",
              "        buttonEl.style.display =\n",
              "          google.colab.kernel.accessAllowed ? 'block' : 'none';\n",
              "\n",
              "        async function convertToInteractive(key) {\n",
              "          const element = document.querySelector('#df-3cc9afa9-9021-419c-b401-cb01f315ea36');\n",
              "          const dataTable =\n",
              "            await google.colab.kernel.invokeFunction('convertToInteractive',\n",
              "                                                     [key], {});\n",
              "          if (!dataTable) return;\n",
              "\n",
              "          const docLinkHtml = 'Like what you see? Visit the ' +\n",
              "            '<a target=\"_blank\" href=https://colab.research.google.com/notebooks/data_table.ipynb>data table notebook</a>'\n",
              "            + ' to learn more about interactive tables.';\n",
              "          element.innerHTML = '';\n",
              "          dataTable['output_type'] = 'display_data';\n",
              "          await google.colab.output.renderOutput(dataTable, element);\n",
              "          const docLink = document.createElement('div');\n",
              "          docLink.innerHTML = docLinkHtml;\n",
              "          element.appendChild(docLink);\n",
              "        }\n",
              "      </script>\n",
              "    </div>\n",
              "  </div>\n",
              "  "
            ]
          },
          "metadata": {},
          "execution_count": 6
        }
      ],
      "source": [
        "## dict로 replace\n",
        "panel['unlist_reason_ctg'] = panel['unlist_reason']\n",
        "\n",
        "# values에 해당되면 key로 치환\n",
        "key_list = []\n",
        "\n",
        "for reason in panel['unlist_reason_ctg']:\n",
        "  key = [k for k, v in ctg_dict.items() if reason in v]\n",
        "  if len(key)==0:\n",
        "    key_list.extend(reason)\n",
        "  else:\n",
        "    key_list.extend(key)\n",
        "\n",
        "panel['unlist_reason_ctg'] = key_list\n",
        "panel[panel['unlist_reason_ctg']!=panel['unlist_reason']][['unlist_reason_ctg', 'unlist_reason']]"
      ]
    },
    {
      "cell_type": "markdown",
      "metadata": {
        "id": "IsnYk-ENcRIO"
      },
      "source": [
        "## (3) 재무부실 사유 상장폐지기업 class 파생변수"
      ]
    },
    {
      "cell_type": "code",
      "execution_count": null,
      "metadata": {
        "colab": {
          "base_uri": "https://localhost:8080/"
        },
        "id": "lNH0PqXX8pqC",
        "outputId": "d00278b0-7846-4b9b-cb13-54ceb23d7af6"
      },
      "outputs": [
        {
          "output_type": "execute_result",
          "data": {
            "text/plain": [
              "       unlist_reason_ctg fnc_rsn_unlst\n",
              "0                      0             0\n",
              "1                      0             0\n",
              "2                      0             0\n",
              "3                      0             0\n",
              "4                      0             0\n",
              "...                  ...           ...\n",
              "111899       신청에 의한 상장폐지             0\n",
              "111900       신청에 의한 상장폐지             0\n",
              "111901       신청에 의한 상장폐지             0\n",
              "111902       신청에 의한 상장폐지             0\n",
              "111903       신청에 의한 상장폐지             0\n",
              "\n",
              "[101280 rows x 2 columns]"
            ],
            "text/html": [
              "\n",
              "  <div id=\"df-2b0fc06b-0695-4602-a1b8-bbc70465a39b\">\n",
              "    <div class=\"colab-df-container\">\n",
              "      <div>\n",
              "<style scoped>\n",
              "    .dataframe tbody tr th:only-of-type {\n",
              "        vertical-align: middle;\n",
              "    }\n",
              "\n",
              "    .dataframe tbody tr th {\n",
              "        vertical-align: top;\n",
              "    }\n",
              "\n",
              "    .dataframe thead th {\n",
              "        text-align: right;\n",
              "    }\n",
              "</style>\n",
              "<table border=\"1\" class=\"dataframe\">\n",
              "  <thead>\n",
              "    <tr style=\"text-align: right;\">\n",
              "      <th></th>\n",
              "      <th>unlist_reason_ctg</th>\n",
              "      <th>fnc_rsn_unlst</th>\n",
              "    </tr>\n",
              "  </thead>\n",
              "  <tbody>\n",
              "    <tr>\n",
              "      <th>0</th>\n",
              "      <td>0</td>\n",
              "      <td>0</td>\n",
              "    </tr>\n",
              "    <tr>\n",
              "      <th>1</th>\n",
              "      <td>0</td>\n",
              "      <td>0</td>\n",
              "    </tr>\n",
              "    <tr>\n",
              "      <th>2</th>\n",
              "      <td>0</td>\n",
              "      <td>0</td>\n",
              "    </tr>\n",
              "    <tr>\n",
              "      <th>3</th>\n",
              "      <td>0</td>\n",
              "      <td>0</td>\n",
              "    </tr>\n",
              "    <tr>\n",
              "      <th>4</th>\n",
              "      <td>0</td>\n",
              "      <td>0</td>\n",
              "    </tr>\n",
              "    <tr>\n",
              "      <th>...</th>\n",
              "      <td>...</td>\n",
              "      <td>...</td>\n",
              "    </tr>\n",
              "    <tr>\n",
              "      <th>111899</th>\n",
              "      <td>신청에 의한 상장폐지</td>\n",
              "      <td>0</td>\n",
              "    </tr>\n",
              "    <tr>\n",
              "      <th>111900</th>\n",
              "      <td>신청에 의한 상장폐지</td>\n",
              "      <td>0</td>\n",
              "    </tr>\n",
              "    <tr>\n",
              "      <th>111901</th>\n",
              "      <td>신청에 의한 상장폐지</td>\n",
              "      <td>0</td>\n",
              "    </tr>\n",
              "    <tr>\n",
              "      <th>111902</th>\n",
              "      <td>신청에 의한 상장폐지</td>\n",
              "      <td>0</td>\n",
              "    </tr>\n",
              "    <tr>\n",
              "      <th>111903</th>\n",
              "      <td>신청에 의한 상장폐지</td>\n",
              "      <td>0</td>\n",
              "    </tr>\n",
              "  </tbody>\n",
              "</table>\n",
              "<p>101280 rows × 2 columns</p>\n",
              "</div>\n",
              "      <button class=\"colab-df-convert\" onclick=\"convertToInteractive('df-2b0fc06b-0695-4602-a1b8-bbc70465a39b')\"\n",
              "              title=\"Convert this dataframe to an interactive table.\"\n",
              "              style=\"display:none;\">\n",
              "        \n",
              "  <svg xmlns=\"http://www.w3.org/2000/svg\" height=\"24px\"viewBox=\"0 0 24 24\"\n",
              "       width=\"24px\">\n",
              "    <path d=\"M0 0h24v24H0V0z\" fill=\"none\"/>\n",
              "    <path d=\"M18.56 5.44l.94 2.06.94-2.06 2.06-.94-2.06-.94-.94-2.06-.94 2.06-2.06.94zm-11 1L8.5 8.5l.94-2.06 2.06-.94-2.06-.94L8.5 2.5l-.94 2.06-2.06.94zm10 10l.94 2.06.94-2.06 2.06-.94-2.06-.94-.94-2.06-.94 2.06-2.06.94z\"/><path d=\"M17.41 7.96l-1.37-1.37c-.4-.4-.92-.59-1.43-.59-.52 0-1.04.2-1.43.59L10.3 9.45l-7.72 7.72c-.78.78-.78 2.05 0 2.83L4 21.41c.39.39.9.59 1.41.59.51 0 1.02-.2 1.41-.59l7.78-7.78 2.81-2.81c.8-.78.8-2.07 0-2.86zM5.41 20L4 18.59l7.72-7.72 1.47 1.35L5.41 20z\"/>\n",
              "  </svg>\n",
              "      </button>\n",
              "      \n",
              "  <style>\n",
              "    .colab-df-container {\n",
              "      display:flex;\n",
              "      flex-wrap:wrap;\n",
              "      gap: 12px;\n",
              "    }\n",
              "\n",
              "    .colab-df-convert {\n",
              "      background-color: #E8F0FE;\n",
              "      border: none;\n",
              "      border-radius: 50%;\n",
              "      cursor: pointer;\n",
              "      display: none;\n",
              "      fill: #1967D2;\n",
              "      height: 32px;\n",
              "      padding: 0 0 0 0;\n",
              "      width: 32px;\n",
              "    }\n",
              "\n",
              "    .colab-df-convert:hover {\n",
              "      background-color: #E2EBFA;\n",
              "      box-shadow: 0px 1px 2px rgba(60, 64, 67, 0.3), 0px 1px 3px 1px rgba(60, 64, 67, 0.15);\n",
              "      fill: #174EA6;\n",
              "    }\n",
              "\n",
              "    [theme=dark] .colab-df-convert {\n",
              "      background-color: #3B4455;\n",
              "      fill: #D2E3FC;\n",
              "    }\n",
              "\n",
              "    [theme=dark] .colab-df-convert:hover {\n",
              "      background-color: #434B5C;\n",
              "      box-shadow: 0px 1px 3px 1px rgba(0, 0, 0, 0.15);\n",
              "      filter: drop-shadow(0px 1px 2px rgba(0, 0, 0, 0.3));\n",
              "      fill: #FFFFFF;\n",
              "    }\n",
              "  </style>\n",
              "\n",
              "      <script>\n",
              "        const buttonEl =\n",
              "          document.querySelector('#df-2b0fc06b-0695-4602-a1b8-bbc70465a39b button.colab-df-convert');\n",
              "        buttonEl.style.display =\n",
              "          google.colab.kernel.accessAllowed ? 'block' : 'none';\n",
              "\n",
              "        async function convertToInteractive(key) {\n",
              "          const element = document.querySelector('#df-2b0fc06b-0695-4602-a1b8-bbc70465a39b');\n",
              "          const dataTable =\n",
              "            await google.colab.kernel.invokeFunction('convertToInteractive',\n",
              "                                                     [key], {});\n",
              "          if (!dataTable) return;\n",
              "\n",
              "          const docLinkHtml = 'Like what you see? Visit the ' +\n",
              "            '<a target=\"_blank\" href=https://colab.research.google.com/notebooks/data_table.ipynb>data table notebook</a>'\n",
              "            + ' to learn more about interactive tables.';\n",
              "          element.innerHTML = '';\n",
              "          dataTable['output_type'] = 'display_data';\n",
              "          await google.colab.output.renderOutput(dataTable, element);\n",
              "          const docLink = document.createElement('div');\n",
              "          docLink.innerHTML = docLinkHtml;\n",
              "          element.appendChild(docLink);\n",
              "        }\n",
              "      </script>\n",
              "    </div>\n",
              "  </div>\n",
              "  "
            ]
          },
          "metadata": {},
          "execution_count": 7
        }
      ],
      "source": [
        "## 재무적 이유로 상장폐지 하지 않은 사유 필터\n",
        "panel['fnc_rsn_unlst'] = panel['unlist_reason_ctg']\n",
        "\n",
        "panel['fnc_rsn_unlst'] = panel['fnc_rsn_unlst'].replace(['해산 사유 발생', '영업활동정지 6월 계속', '자본전액잠식', '회사정리절차 폐지 결정', \n",
        "                                                         '감사의견거절', '주식양도 제한', '상장폐지유예기간종료', '부도', \n",
        "                                                         '보고서 또는 서류 미제출', '자본잠식률 50% 이상', '시가총액 미달', '보통주 주가수준미달', \n",
        "                                                         '당좌거래정지', '액면가액일정비율 미달', '기업의 계속성 및 경영의 투명성 등을 종합적으로 고려하여 상장폐지기준에 해당',\n",
        "                                                         '화의 불인가', '불성실공시법인지정', '2분기 연속 거래실적부진사유 미해소',\n",
        "                                                         '회생절차폐지결정사유 및 당해 코스닥시장상장법인의 계속기업 가능성 유무를 고려한 결과 상장폐지기준에 해당한다고 결정'],\"1\")\n",
        "panel['fnc_rsn_unlst'] = panel['fnc_rsn_unlst'].replace(['피흡수합병','자진등록취소','신청에 의한 상장폐지', '지주회사(최대주주등)의 완전자회사화 등',\n",
        "                                                          '코스닥시장 상장', '기타 등록취소', '주된영업의 양도','계약이전'],\"0\")\n",
        "panel[['unlist_reason_ctg', 'fnc_rsn_unlst']] # {상장폐지X, 그외사유 상장폐지: 0}, {재무사유 상장폐지: 1}"
      ]
    },
    {
      "cell_type": "markdown",
      "source": [
        "## (4) 기업코드 레이블 인코딩"
      ],
      "metadata": {
        "id": "2p1LCbHTAM-x"
      }
    },
    {
      "cell_type": "code",
      "source": [
        "## 기업코드 레이블 인코딩\n",
        "panel['code_label'] = [int(re.sub(\"^A\", \"\", row) )for row in panel['code']]"
      ],
      "metadata": {
        "id": "33GJvH6_A4qS"
      },
      "execution_count": null,
      "outputs": []
    },
    {
      "cell_type": "code",
      "source": [
        "## 되돌리기 위한 매칭 함수 {기업코드_int:기업코드}\n",
        "def df_to_dict(df, keys_col, values_col):\n",
        "      \n",
        "  trans = df.loc[:,[keys_col, values_col]].transpose()\n",
        "  trans.columns = trans.iloc[0]\n",
        "  trans = trans.iloc[1].to_dict()\n",
        "\n",
        "  for k in list(trans.keys()):\n",
        "    if pd.isnull(trans[k])==True:\n",
        "      del trans[k]\n",
        "\n",
        "  return trans\n",
        "\n",
        "# code_dict = df_to_dict(panel, 'code_label','code')\n",
        "# print(code_dict)"
      ],
      "metadata": {
        "id": "l_8eaYe7ASMj"
      },
      "execution_count": null,
      "outputs": []
    },
    {
      "cell_type": "markdown",
      "metadata": {
        "id": "PljmI03XBoBX"
      },
      "source": [
        "## (5) 결측치 제거 \n",
        "- 재무정보columns('cash/assets':'retained_earning')이 모두 Nan값인 경우만 row drop\n",
        "- 열 하나라도 Nan값이 아니라면 drop하지 않음\n",
        "- 주가정보 제외하고 재무정보가 없으면"
      ]
    },
    {
      "cell_type": "code",
      "source": [
        "panel = panel.dropna(subset = panel.loc[:,'cash/assets':'net_income_grow'].columns,axis = 0, how='all').reset_index(drop=True)\n",
        "panel.apply(lambda x: pd.isna(x).sum()) "
      ],
      "metadata": {
        "colab": {
          "base_uri": "https://localhost:8080/"
        },
        "id": "mQpJIWHHhmSX",
        "outputId": "d0530830-785c-434a-f495-3edc21b0128c"
      },
      "execution_count": null,
      "outputs": [
        {
          "output_type": "execute_result",
          "data": {
            "text/plain": [
              "code                                     0\n",
              "cor_name                                 0\n",
              "Accounting_Closing                       0\n",
              "year                                     0\n",
              "cash/assets                              6\n",
              "liabilities/assets                       5\n",
              "liabilities-cash/assets                  5\n",
              "sales/cur_liabilities                    6\n",
              "cur_assets/cur_liabilities               5\n",
              "retained_earnings/cur_liabilities        6\n",
              "non_cur_lia/non_cur_lia+worth            6\n",
              "interest/cash_flow                      13\n",
              "interest/ebitda                         23\n",
              "inven/sales                            158\n",
              "sales/net_income                        13\n",
              "gross_margin/sales                     191\n",
              "sales/retained_earnings                 15\n",
              "change_in_roa                         9303\n",
              "change_in_AR                          2896\n",
              "change_in_TP                          4317\n",
              "assets                                   5\n",
              "sales                                    0\n",
              "roa                                   4691\n",
              "sales_grow                            4874\n",
              "net_income                               0\n",
              "net_income_grow                       4727\n",
              "gross_profit                             0\n",
              "operating_profit                      4727\n",
              "retained_earning                         5\n",
              "closing_price                        12285\n",
              "revised_price                        12285\n",
              "market_capital                       12285\n",
              "return                               14951\n",
              "코드대분류                                  177\n",
              "최초상장일자                                  88\n",
              "상장일자                                    88\n",
              "unlist_date                          44788\n",
              "unlist_reason                            0\n",
              "bsn_code                                 0\n",
              "grngas                               53536\n",
              "unlist_year                          44788\n",
              "unlist_reason_ctg                        0\n",
              "fnc_rsn_unlst                            0\n",
              "code_label                               0\n",
              "dtype: int64"
            ]
          },
          "metadata": {},
          "execution_count": 10
        }
      ]
    },
    {
      "cell_type": "code",
      "execution_count": null,
      "metadata": {
        "colab": {
          "base_uri": "https://localhost:8080/"
        },
        "id": "t3eWfHn6rbxY",
        "outputId": "5d9ca2f4-7878-4421-f797-eddd26674771"
      },
      "outputs": [
        {
          "output_type": "execute_result",
          "data": {
            "text/plain": [
              "(55904, 44)"
            ]
          },
          "metadata": {},
          "execution_count": 11
        }
      ],
      "source": [
        "panel.shape"
      ]
    },
    {
      "cell_type": "markdown",
      "source": [
        "## (6) 상장폐지 날짜 class 형태 파생변수"
      ],
      "metadata": {
        "id": "CapMfgxQXobp"
      }
    },
    {
      "cell_type": "markdown",
      "source": [
        "### a. 상장폐지날짜 정보 기준 (panel_a)"
      ],
      "metadata": {
        "id": "Bnh7s2wyaJnn"
      }
    },
    {
      "cell_type": "code",
      "source": [
        "## 상장폐지일이 지난 후에도 재무정보가 있는 행 drop\n",
        "panel['unlist_year'] = panel['unlist_year'].fillna(10000).astype(int)\n",
        "panel_a = panel[panel['year']<=panel['unlist_year']].reset_index(drop=True) # year > unlist_year인 행 제외"
      ],
      "metadata": {
        "id": "VrX5N9fzfMKk"
      },
      "execution_count": null,
      "outputs": []
    },
    {
      "cell_type": "code",
      "source": [
        "## 상장폐지일이 지난 후에 회계결산한 재무정보 행 drop (월이 같아도 회계결산은 월말에 이뤄지므로 같거나 회계결산월이 더 크면 drop)\n",
        "panel_a['unlist_mon'] = panel_a['unlist_date'].str.slice(start=5, stop=7)\n",
        "panel_a['unlist_mon'] = panel_a['unlist_mon'].fillna(10000).astype(float)\n",
        "panel_a = panel_a[(panel_a['year']!=panel_a['unlist_year'])|((panel_a['year']==panel_a['unlist_year'])&(panel_a['Accounting_Closing']<panel_a['unlist_mon']))].reset_index(drop=True)\n",
        "print(54920-220)\n",
        "print(panel_a.shape)"
      ],
      "metadata": {
        "colab": {
          "base_uri": "https://localhost:8080/"
        },
        "id": "xNChJgzBttOn",
        "outputId": "03d906a3-c8a2-4bc9-eec3-dbd5afcff916"
      },
      "execution_count": null,
      "outputs": [
        {
          "output_type": "stream",
          "name": "stdout",
          "text": [
            "54700\n",
            "(54728, 45)\n"
          ]
        }
      ]
    },
    {
      "cell_type": "code",
      "source": [
        "## [선택]\n",
        "### (1) 오직 전년도 재무정보를 가지고 다음해 상장폐지를 예측할 것인가? -> 아래 코드 필요 O\n",
        "### (2) 상장폐지 당해 연도 재무정보가 반영되어 상장폐지가 결정된 경우도 고려할 것인가? (상장폐지 당해연도 재무정보 사용할 것인가?) -> 아래코드 필요X\n",
        "print(54920-220-10)\n",
        "# panel_a = panel_a[panel_a['year']!=panel_a['unlist_year']].reset_index(drop=True)\n",
        "panel_a"
      ],
      "metadata": {
        "colab": {
          "base_uri": "https://localhost:8080/"
        },
        "id": "Uom0L18h9qEX",
        "outputId": "ea9f22bc-882b-4885-a97f-f0f32c5a082b"
      },
      "execution_count": null,
      "outputs": [
        {
          "output_type": "stream",
          "name": "stdout",
          "text": [
            "54690\n"
          ]
        },
        {
          "output_type": "execute_result",
          "data": {
            "text/plain": [
              "          code cor_name  Accounting_Closing  year  cash/assets  \\\n",
              "0      A005930     삼성전자                12.0  1990     0.026243   \n",
              "1      A005930     삼성전자                12.0  1991     0.011561   \n",
              "2      A005930     삼성전자                12.0  1992     0.026253   \n",
              "3      A005930     삼성전자                12.0  1993     0.033530   \n",
              "4      A005930     삼성전자                12.0  1994     0.022999   \n",
              "...        ...      ...                 ...   ...          ...   \n",
              "54723  A950180      SNK                 7.0  2017     0.611887   \n",
              "54724  A950180      SNK                 7.0  2018     0.527099   \n",
              "54725  A950180      SNK                 7.0  2019     0.817917   \n",
              "54726  A950180      SNK                 7.0  2020     0.600422   \n",
              "54727  A950180      SNK                 7.0  2021     0.694562   \n",
              "\n",
              "       liabilities/assets  liabilities-cash/assets  sales/cur_liabilities  \\\n",
              "0                0.805812                 0.779569               2.738511   \n",
              "1                0.825602                 0.814041               1.887630   \n",
              "2                0.819760                 0.793507               2.032037   \n",
              "3                0.793795                 0.760265               2.495139   \n",
              "4                0.692778                 0.669779               3.189266   \n",
              "...                   ...                      ...                    ...   \n",
              "54723            0.168936                -0.442952               4.380337   \n",
              "54724            0.165288                -0.361812               4.341584   \n",
              "54725            0.054197                -0.763720               7.171777   \n",
              "54726            0.065299                -0.535123               4.686278   \n",
              "54727            0.101859                -0.592702               2.830798   \n",
              "\n",
              "       cur_assets/cur_liabilities  retained_earnings/cur_liabilities  ...  \\\n",
              "0                        0.948362                           0.223232  ...   \n",
              "1                        0.740129                           0.145565  ...   \n",
              "2                        0.708325                           0.146367  ...   \n",
              "3                        0.815311                           0.162677  ...   \n",
              "4                        1.128719                           0.412265  ...   \n",
              "...                           ...                                ...  ...   \n",
              "54723                    5.477438                           2.218058  ...   \n",
              "54724                    6.356767                           3.357695  ...   \n",
              "54725                   21.456253                           6.256272  ...   \n",
              "54726                   17.116893                           6.287657  ...   \n",
              "54727                    9.826040                           1.322351  ...   \n",
              "\n",
              "            상장일자  unlist_date       unlist_reason      bsn_code  grngas  \\\n",
              "0     1975-06-11          NaN                   0  124-81-00998     NaN   \n",
              "1     1975-06-11          NaN                   0  124-81-00998     NaN   \n",
              "2     1975-06-11          NaN                   0  124-81-00998     NaN   \n",
              "3     1975-06-11          NaN                   0  124-81-00998     NaN   \n",
              "4     1975-06-11          NaN                   0  124-81-00998     NaN   \n",
              "...          ...          ...                 ...           ...     ...   \n",
              "54723 2019-05-07   2022-05-18  상장폐지 신청('22.04.14)  000-81-20024     NaN   \n",
              "54724 2019-05-07   2022-05-18  상장폐지 신청('22.04.14)  000-81-20024     NaN   \n",
              "54725 2019-05-07   2022-05-18  상장폐지 신청('22.04.14)  000-81-20024     NaN   \n",
              "54726 2019-05-07   2022-05-18  상장폐지 신청('22.04.14)  000-81-20024     NaN   \n",
              "54727 2019-05-07   2022-05-18  상장폐지 신청('22.04.14)  000-81-20024     NaN   \n",
              "\n",
              "       unlist_year  unlist_reason_ctg  fnc_rsn_unlst  code_label  unlist_mon  \n",
              "0            10000                  0              0        5930     10000.0  \n",
              "1            10000                  0              0        5930     10000.0  \n",
              "2            10000                  0              0        5930     10000.0  \n",
              "3            10000                  0              0        5930     10000.0  \n",
              "4            10000                  0              0        5930     10000.0  \n",
              "...            ...                ...            ...         ...         ...  \n",
              "54723         2022        신청에 의한 상장폐지              0      950180         5.0  \n",
              "54724         2022        신청에 의한 상장폐지              0      950180         5.0  \n",
              "54725         2022        신청에 의한 상장폐지              0      950180         5.0  \n",
              "54726         2022        신청에 의한 상장폐지              0      950180         5.0  \n",
              "54727         2022        신청에 의한 상장폐지              0      950180         5.0  \n",
              "\n",
              "[54728 rows x 45 columns]"
            ],
            "text/html": [
              "\n",
              "  <div id=\"df-4f33874c-4225-447e-87c4-b374588d3666\">\n",
              "    <div class=\"colab-df-container\">\n",
              "      <div>\n",
              "<style scoped>\n",
              "    .dataframe tbody tr th:only-of-type {\n",
              "        vertical-align: middle;\n",
              "    }\n",
              "\n",
              "    .dataframe tbody tr th {\n",
              "        vertical-align: top;\n",
              "    }\n",
              "\n",
              "    .dataframe thead th {\n",
              "        text-align: right;\n",
              "    }\n",
              "</style>\n",
              "<table border=\"1\" class=\"dataframe\">\n",
              "  <thead>\n",
              "    <tr style=\"text-align: right;\">\n",
              "      <th></th>\n",
              "      <th>code</th>\n",
              "      <th>cor_name</th>\n",
              "      <th>Accounting_Closing</th>\n",
              "      <th>year</th>\n",
              "      <th>cash/assets</th>\n",
              "      <th>liabilities/assets</th>\n",
              "      <th>liabilities-cash/assets</th>\n",
              "      <th>sales/cur_liabilities</th>\n",
              "      <th>cur_assets/cur_liabilities</th>\n",
              "      <th>retained_earnings/cur_liabilities</th>\n",
              "      <th>...</th>\n",
              "      <th>상장일자</th>\n",
              "      <th>unlist_date</th>\n",
              "      <th>unlist_reason</th>\n",
              "      <th>bsn_code</th>\n",
              "      <th>grngas</th>\n",
              "      <th>unlist_year</th>\n",
              "      <th>unlist_reason_ctg</th>\n",
              "      <th>fnc_rsn_unlst</th>\n",
              "      <th>code_label</th>\n",
              "      <th>unlist_mon</th>\n",
              "    </tr>\n",
              "  </thead>\n",
              "  <tbody>\n",
              "    <tr>\n",
              "      <th>0</th>\n",
              "      <td>A005930</td>\n",
              "      <td>삼성전자</td>\n",
              "      <td>12.0</td>\n",
              "      <td>1990</td>\n",
              "      <td>0.026243</td>\n",
              "      <td>0.805812</td>\n",
              "      <td>0.779569</td>\n",
              "      <td>2.738511</td>\n",
              "      <td>0.948362</td>\n",
              "      <td>0.223232</td>\n",
              "      <td>...</td>\n",
              "      <td>1975-06-11</td>\n",
              "      <td>NaN</td>\n",
              "      <td>0</td>\n",
              "      <td>124-81-00998</td>\n",
              "      <td>NaN</td>\n",
              "      <td>10000</td>\n",
              "      <td>0</td>\n",
              "      <td>0</td>\n",
              "      <td>5930</td>\n",
              "      <td>10000.0</td>\n",
              "    </tr>\n",
              "    <tr>\n",
              "      <th>1</th>\n",
              "      <td>A005930</td>\n",
              "      <td>삼성전자</td>\n",
              "      <td>12.0</td>\n",
              "      <td>1991</td>\n",
              "      <td>0.011561</td>\n",
              "      <td>0.825602</td>\n",
              "      <td>0.814041</td>\n",
              "      <td>1.887630</td>\n",
              "      <td>0.740129</td>\n",
              "      <td>0.145565</td>\n",
              "      <td>...</td>\n",
              "      <td>1975-06-11</td>\n",
              "      <td>NaN</td>\n",
              "      <td>0</td>\n",
              "      <td>124-81-00998</td>\n",
              "      <td>NaN</td>\n",
              "      <td>10000</td>\n",
              "      <td>0</td>\n",
              "      <td>0</td>\n",
              "      <td>5930</td>\n",
              "      <td>10000.0</td>\n",
              "    </tr>\n",
              "    <tr>\n",
              "      <th>2</th>\n",
              "      <td>A005930</td>\n",
              "      <td>삼성전자</td>\n",
              "      <td>12.0</td>\n",
              "      <td>1992</td>\n",
              "      <td>0.026253</td>\n",
              "      <td>0.819760</td>\n",
              "      <td>0.793507</td>\n",
              "      <td>2.032037</td>\n",
              "      <td>0.708325</td>\n",
              "      <td>0.146367</td>\n",
              "      <td>...</td>\n",
              "      <td>1975-06-11</td>\n",
              "      <td>NaN</td>\n",
              "      <td>0</td>\n",
              "      <td>124-81-00998</td>\n",
              "      <td>NaN</td>\n",
              "      <td>10000</td>\n",
              "      <td>0</td>\n",
              "      <td>0</td>\n",
              "      <td>5930</td>\n",
              "      <td>10000.0</td>\n",
              "    </tr>\n",
              "    <tr>\n",
              "      <th>3</th>\n",
              "      <td>A005930</td>\n",
              "      <td>삼성전자</td>\n",
              "      <td>12.0</td>\n",
              "      <td>1993</td>\n",
              "      <td>0.033530</td>\n",
              "      <td>0.793795</td>\n",
              "      <td>0.760265</td>\n",
              "      <td>2.495139</td>\n",
              "      <td>0.815311</td>\n",
              "      <td>0.162677</td>\n",
              "      <td>...</td>\n",
              "      <td>1975-06-11</td>\n",
              "      <td>NaN</td>\n",
              "      <td>0</td>\n",
              "      <td>124-81-00998</td>\n",
              "      <td>NaN</td>\n",
              "      <td>10000</td>\n",
              "      <td>0</td>\n",
              "      <td>0</td>\n",
              "      <td>5930</td>\n",
              "      <td>10000.0</td>\n",
              "    </tr>\n",
              "    <tr>\n",
              "      <th>4</th>\n",
              "      <td>A005930</td>\n",
              "      <td>삼성전자</td>\n",
              "      <td>12.0</td>\n",
              "      <td>1994</td>\n",
              "      <td>0.022999</td>\n",
              "      <td>0.692778</td>\n",
              "      <td>0.669779</td>\n",
              "      <td>3.189266</td>\n",
              "      <td>1.128719</td>\n",
              "      <td>0.412265</td>\n",
              "      <td>...</td>\n",
              "      <td>1975-06-11</td>\n",
              "      <td>NaN</td>\n",
              "      <td>0</td>\n",
              "      <td>124-81-00998</td>\n",
              "      <td>NaN</td>\n",
              "      <td>10000</td>\n",
              "      <td>0</td>\n",
              "      <td>0</td>\n",
              "      <td>5930</td>\n",
              "      <td>10000.0</td>\n",
              "    </tr>\n",
              "    <tr>\n",
              "      <th>...</th>\n",
              "      <td>...</td>\n",
              "      <td>...</td>\n",
              "      <td>...</td>\n",
              "      <td>...</td>\n",
              "      <td>...</td>\n",
              "      <td>...</td>\n",
              "      <td>...</td>\n",
              "      <td>...</td>\n",
              "      <td>...</td>\n",
              "      <td>...</td>\n",
              "      <td>...</td>\n",
              "      <td>...</td>\n",
              "      <td>...</td>\n",
              "      <td>...</td>\n",
              "      <td>...</td>\n",
              "      <td>...</td>\n",
              "      <td>...</td>\n",
              "      <td>...</td>\n",
              "      <td>...</td>\n",
              "      <td>...</td>\n",
              "      <td>...</td>\n",
              "    </tr>\n",
              "    <tr>\n",
              "      <th>54723</th>\n",
              "      <td>A950180</td>\n",
              "      <td>SNK</td>\n",
              "      <td>7.0</td>\n",
              "      <td>2017</td>\n",
              "      <td>0.611887</td>\n",
              "      <td>0.168936</td>\n",
              "      <td>-0.442952</td>\n",
              "      <td>4.380337</td>\n",
              "      <td>5.477438</td>\n",
              "      <td>2.218058</td>\n",
              "      <td>...</td>\n",
              "      <td>2019-05-07</td>\n",
              "      <td>2022-05-18</td>\n",
              "      <td>상장폐지 신청('22.04.14)</td>\n",
              "      <td>000-81-20024</td>\n",
              "      <td>NaN</td>\n",
              "      <td>2022</td>\n",
              "      <td>신청에 의한 상장폐지</td>\n",
              "      <td>0</td>\n",
              "      <td>950180</td>\n",
              "      <td>5.0</td>\n",
              "    </tr>\n",
              "    <tr>\n",
              "      <th>54724</th>\n",
              "      <td>A950180</td>\n",
              "      <td>SNK</td>\n",
              "      <td>7.0</td>\n",
              "      <td>2018</td>\n",
              "      <td>0.527099</td>\n",
              "      <td>0.165288</td>\n",
              "      <td>-0.361812</td>\n",
              "      <td>4.341584</td>\n",
              "      <td>6.356767</td>\n",
              "      <td>3.357695</td>\n",
              "      <td>...</td>\n",
              "      <td>2019-05-07</td>\n",
              "      <td>2022-05-18</td>\n",
              "      <td>상장폐지 신청('22.04.14)</td>\n",
              "      <td>000-81-20024</td>\n",
              "      <td>NaN</td>\n",
              "      <td>2022</td>\n",
              "      <td>신청에 의한 상장폐지</td>\n",
              "      <td>0</td>\n",
              "      <td>950180</td>\n",
              "      <td>5.0</td>\n",
              "    </tr>\n",
              "    <tr>\n",
              "      <th>54725</th>\n",
              "      <td>A950180</td>\n",
              "      <td>SNK</td>\n",
              "      <td>7.0</td>\n",
              "      <td>2019</td>\n",
              "      <td>0.817917</td>\n",
              "      <td>0.054197</td>\n",
              "      <td>-0.763720</td>\n",
              "      <td>7.171777</td>\n",
              "      <td>21.456253</td>\n",
              "      <td>6.256272</td>\n",
              "      <td>...</td>\n",
              "      <td>2019-05-07</td>\n",
              "      <td>2022-05-18</td>\n",
              "      <td>상장폐지 신청('22.04.14)</td>\n",
              "      <td>000-81-20024</td>\n",
              "      <td>NaN</td>\n",
              "      <td>2022</td>\n",
              "      <td>신청에 의한 상장폐지</td>\n",
              "      <td>0</td>\n",
              "      <td>950180</td>\n",
              "      <td>5.0</td>\n",
              "    </tr>\n",
              "    <tr>\n",
              "      <th>54726</th>\n",
              "      <td>A950180</td>\n",
              "      <td>SNK</td>\n",
              "      <td>7.0</td>\n",
              "      <td>2020</td>\n",
              "      <td>0.600422</td>\n",
              "      <td>0.065299</td>\n",
              "      <td>-0.535123</td>\n",
              "      <td>4.686278</td>\n",
              "      <td>17.116893</td>\n",
              "      <td>6.287657</td>\n",
              "      <td>...</td>\n",
              "      <td>2019-05-07</td>\n",
              "      <td>2022-05-18</td>\n",
              "      <td>상장폐지 신청('22.04.14)</td>\n",
              "      <td>000-81-20024</td>\n",
              "      <td>NaN</td>\n",
              "      <td>2022</td>\n",
              "      <td>신청에 의한 상장폐지</td>\n",
              "      <td>0</td>\n",
              "      <td>950180</td>\n",
              "      <td>5.0</td>\n",
              "    </tr>\n",
              "    <tr>\n",
              "      <th>54727</th>\n",
              "      <td>A950180</td>\n",
              "      <td>SNK</td>\n",
              "      <td>7.0</td>\n",
              "      <td>2021</td>\n",
              "      <td>0.694562</td>\n",
              "      <td>0.101859</td>\n",
              "      <td>-0.592702</td>\n",
              "      <td>2.830798</td>\n",
              "      <td>9.826040</td>\n",
              "      <td>1.322351</td>\n",
              "      <td>...</td>\n",
              "      <td>2019-05-07</td>\n",
              "      <td>2022-05-18</td>\n",
              "      <td>상장폐지 신청('22.04.14)</td>\n",
              "      <td>000-81-20024</td>\n",
              "      <td>NaN</td>\n",
              "      <td>2022</td>\n",
              "      <td>신청에 의한 상장폐지</td>\n",
              "      <td>0</td>\n",
              "      <td>950180</td>\n",
              "      <td>5.0</td>\n",
              "    </tr>\n",
              "  </tbody>\n",
              "</table>\n",
              "<p>54728 rows × 45 columns</p>\n",
              "</div>\n",
              "      <button class=\"colab-df-convert\" onclick=\"convertToInteractive('df-4f33874c-4225-447e-87c4-b374588d3666')\"\n",
              "              title=\"Convert this dataframe to an interactive table.\"\n",
              "              style=\"display:none;\">\n",
              "        \n",
              "  <svg xmlns=\"http://www.w3.org/2000/svg\" height=\"24px\"viewBox=\"0 0 24 24\"\n",
              "       width=\"24px\">\n",
              "    <path d=\"M0 0h24v24H0V0z\" fill=\"none\"/>\n",
              "    <path d=\"M18.56 5.44l.94 2.06.94-2.06 2.06-.94-2.06-.94-.94-2.06-.94 2.06-2.06.94zm-11 1L8.5 8.5l.94-2.06 2.06-.94-2.06-.94L8.5 2.5l-.94 2.06-2.06.94zm10 10l.94 2.06.94-2.06 2.06-.94-2.06-.94-.94-2.06-.94 2.06-2.06.94z\"/><path d=\"M17.41 7.96l-1.37-1.37c-.4-.4-.92-.59-1.43-.59-.52 0-1.04.2-1.43.59L10.3 9.45l-7.72 7.72c-.78.78-.78 2.05 0 2.83L4 21.41c.39.39.9.59 1.41.59.51 0 1.02-.2 1.41-.59l7.78-7.78 2.81-2.81c.8-.78.8-2.07 0-2.86zM5.41 20L4 18.59l7.72-7.72 1.47 1.35L5.41 20z\"/>\n",
              "  </svg>\n",
              "      </button>\n",
              "      \n",
              "  <style>\n",
              "    .colab-df-container {\n",
              "      display:flex;\n",
              "      flex-wrap:wrap;\n",
              "      gap: 12px;\n",
              "    }\n",
              "\n",
              "    .colab-df-convert {\n",
              "      background-color: #E8F0FE;\n",
              "      border: none;\n",
              "      border-radius: 50%;\n",
              "      cursor: pointer;\n",
              "      display: none;\n",
              "      fill: #1967D2;\n",
              "      height: 32px;\n",
              "      padding: 0 0 0 0;\n",
              "      width: 32px;\n",
              "    }\n",
              "\n",
              "    .colab-df-convert:hover {\n",
              "      background-color: #E2EBFA;\n",
              "      box-shadow: 0px 1px 2px rgba(60, 64, 67, 0.3), 0px 1px 3px 1px rgba(60, 64, 67, 0.15);\n",
              "      fill: #174EA6;\n",
              "    }\n",
              "\n",
              "    [theme=dark] .colab-df-convert {\n",
              "      background-color: #3B4455;\n",
              "      fill: #D2E3FC;\n",
              "    }\n",
              "\n",
              "    [theme=dark] .colab-df-convert:hover {\n",
              "      background-color: #434B5C;\n",
              "      box-shadow: 0px 1px 3px 1px rgba(0, 0, 0, 0.15);\n",
              "      filter: drop-shadow(0px 1px 2px rgba(0, 0, 0, 0.3));\n",
              "      fill: #FFFFFF;\n",
              "    }\n",
              "  </style>\n",
              "\n",
              "      <script>\n",
              "        const buttonEl =\n",
              "          document.querySelector('#df-4f33874c-4225-447e-87c4-b374588d3666 button.colab-df-convert');\n",
              "        buttonEl.style.display =\n",
              "          google.colab.kernel.accessAllowed ? 'block' : 'none';\n",
              "\n",
              "        async function convertToInteractive(key) {\n",
              "          const element = document.querySelector('#df-4f33874c-4225-447e-87c4-b374588d3666');\n",
              "          const dataTable =\n",
              "            await google.colab.kernel.invokeFunction('convertToInteractive',\n",
              "                                                     [key], {});\n",
              "          if (!dataTable) return;\n",
              "\n",
              "          const docLinkHtml = 'Like what you see? Visit the ' +\n",
              "            '<a target=\"_blank\" href=https://colab.research.google.com/notebooks/data_table.ipynb>data table notebook</a>'\n",
              "            + ' to learn more about interactive tables.';\n",
              "          element.innerHTML = '';\n",
              "          dataTable['output_type'] = 'display_data';\n",
              "          await google.colab.output.renderOutput(dataTable, element);\n",
              "          const docLink = document.createElement('div');\n",
              "          docLink.innerHTML = docLinkHtml;\n",
              "          element.appendChild(docLink);\n",
              "        }\n",
              "      </script>\n",
              "    </div>\n",
              "  </div>\n",
              "  "
            ]
          },
          "metadata": {},
          "execution_count": 14
        }
      ]
    },
    {
      "cell_type": "code",
      "source": [
        "## 위의 조건 drop후, 마지막 연도 재무정보에 라벨링 == '1'\n",
        "panel_a['unlist_last_year'] = '0' \n",
        "unlist_cor = list(panel_a[panel_a['unlist_date'].notnull()]['cor_name'].unique())\n",
        "fin_year_list=[]\n",
        "\n",
        "for cor in unlist_cor:\n",
        "  fin_year = max(list(panel_a[panel_a['cor_name']==cor]['year']))\n",
        "  fin_idx = panel_a[(panel_a['cor_name']==cor)&(panel_a['year']==fin_year)].index\n",
        "  panel_a['unlist_last_year'][fin_idx] = '1'\n",
        "\n",
        "## 재무부실사유 상장폐지 아닌 기업 == 0\n",
        "panel_a['fnc_rsn_unlst_year'] = panel_a['fnc_rsn_unlst']\n",
        "panel_a['fnc_rsn_unlst_year']  = np.where((panel_a['fnc_rsn_unlst']==\"1\")&(panel_a['unlist_last_year']==\"1\"), \"1\", \"0\")\n",
        "\n",
        "panel_a[panel_a['unlist_date'].notnull()][['cor_name', 'year','fnc_rsn_unlst','unlist_last_year','fnc_rsn_unlst_year','unlist_date']].tail(10)"
      ],
      "metadata": {
        "colab": {
          "base_uri": "https://localhost:8080/"
        },
        "id": "p8uTXTIJ04-V",
        "outputId": "ba1f5e47-d11d-427d-c0c7-b9c5465df64d"
      },
      "execution_count": null,
      "outputs": [
        {
          "output_type": "stream",
          "name": "stderr",
          "text": [
            "<ipython-input-15-5c4f38002cc2>:9: SettingWithCopyWarning: \n",
            "A value is trying to be set on a copy of a slice from a DataFrame\n",
            "\n",
            "See the caveats in the documentation: https://pandas.pydata.org/pandas-docs/stable/user_guide/indexing.html#returning-a-view-versus-a-copy\n",
            "  panel_a['unlist_last_year'][fin_idx] = '1'\n"
          ]
        },
        {
          "output_type": "execute_result",
          "data": {
            "text/plain": [
              "      cor_name  year fnc_rsn_unlst unlist_last_year fnc_rsn_unlst_year  \\\n",
              "54718     중국고섬  2008             1                0                  0   \n",
              "54719     중국고섬  2009             1                0                  0   \n",
              "54720     중국고섬  2010             1                0                  0   \n",
              "54721     중국고섬  2011             1                0                  0   \n",
              "54722     중국고섬  2012             1                1                  1   \n",
              "54723      SNK  2017             0                0                  0   \n",
              "54724      SNK  2018             0                0                  0   \n",
              "54725      SNK  2019             0                0                  0   \n",
              "54726      SNK  2020             0                0                  0   \n",
              "54727      SNK  2021             0                1                  0   \n",
              "\n",
              "      unlist_date  \n",
              "54718  2013-10-04  \n",
              "54719  2013-10-04  \n",
              "54720  2013-10-04  \n",
              "54721  2013-10-04  \n",
              "54722  2013-10-04  \n",
              "54723  2022-05-18  \n",
              "54724  2022-05-18  \n",
              "54725  2022-05-18  \n",
              "54726  2022-05-18  \n",
              "54727  2022-05-18  "
            ],
            "text/html": [
              "\n",
              "  <div id=\"df-76d5d866-47bd-4075-8037-dce14c9adba5\">\n",
              "    <div class=\"colab-df-container\">\n",
              "      <div>\n",
              "<style scoped>\n",
              "    .dataframe tbody tr th:only-of-type {\n",
              "        vertical-align: middle;\n",
              "    }\n",
              "\n",
              "    .dataframe tbody tr th {\n",
              "        vertical-align: top;\n",
              "    }\n",
              "\n",
              "    .dataframe thead th {\n",
              "        text-align: right;\n",
              "    }\n",
              "</style>\n",
              "<table border=\"1\" class=\"dataframe\">\n",
              "  <thead>\n",
              "    <tr style=\"text-align: right;\">\n",
              "      <th></th>\n",
              "      <th>cor_name</th>\n",
              "      <th>year</th>\n",
              "      <th>fnc_rsn_unlst</th>\n",
              "      <th>unlist_last_year</th>\n",
              "      <th>fnc_rsn_unlst_year</th>\n",
              "      <th>unlist_date</th>\n",
              "    </tr>\n",
              "  </thead>\n",
              "  <tbody>\n",
              "    <tr>\n",
              "      <th>54718</th>\n",
              "      <td>중국고섬</td>\n",
              "      <td>2008</td>\n",
              "      <td>1</td>\n",
              "      <td>0</td>\n",
              "      <td>0</td>\n",
              "      <td>2013-10-04</td>\n",
              "    </tr>\n",
              "    <tr>\n",
              "      <th>54719</th>\n",
              "      <td>중국고섬</td>\n",
              "      <td>2009</td>\n",
              "      <td>1</td>\n",
              "      <td>0</td>\n",
              "      <td>0</td>\n",
              "      <td>2013-10-04</td>\n",
              "    </tr>\n",
              "    <tr>\n",
              "      <th>54720</th>\n",
              "      <td>중국고섬</td>\n",
              "      <td>2010</td>\n",
              "      <td>1</td>\n",
              "      <td>0</td>\n",
              "      <td>0</td>\n",
              "      <td>2013-10-04</td>\n",
              "    </tr>\n",
              "    <tr>\n",
              "      <th>54721</th>\n",
              "      <td>중국고섬</td>\n",
              "      <td>2011</td>\n",
              "      <td>1</td>\n",
              "      <td>0</td>\n",
              "      <td>0</td>\n",
              "      <td>2013-10-04</td>\n",
              "    </tr>\n",
              "    <tr>\n",
              "      <th>54722</th>\n",
              "      <td>중국고섬</td>\n",
              "      <td>2012</td>\n",
              "      <td>1</td>\n",
              "      <td>1</td>\n",
              "      <td>1</td>\n",
              "      <td>2013-10-04</td>\n",
              "    </tr>\n",
              "    <tr>\n",
              "      <th>54723</th>\n",
              "      <td>SNK</td>\n",
              "      <td>2017</td>\n",
              "      <td>0</td>\n",
              "      <td>0</td>\n",
              "      <td>0</td>\n",
              "      <td>2022-05-18</td>\n",
              "    </tr>\n",
              "    <tr>\n",
              "      <th>54724</th>\n",
              "      <td>SNK</td>\n",
              "      <td>2018</td>\n",
              "      <td>0</td>\n",
              "      <td>0</td>\n",
              "      <td>0</td>\n",
              "      <td>2022-05-18</td>\n",
              "    </tr>\n",
              "    <tr>\n",
              "      <th>54725</th>\n",
              "      <td>SNK</td>\n",
              "      <td>2019</td>\n",
              "      <td>0</td>\n",
              "      <td>0</td>\n",
              "      <td>0</td>\n",
              "      <td>2022-05-18</td>\n",
              "    </tr>\n",
              "    <tr>\n",
              "      <th>54726</th>\n",
              "      <td>SNK</td>\n",
              "      <td>2020</td>\n",
              "      <td>0</td>\n",
              "      <td>0</td>\n",
              "      <td>0</td>\n",
              "      <td>2022-05-18</td>\n",
              "    </tr>\n",
              "    <tr>\n",
              "      <th>54727</th>\n",
              "      <td>SNK</td>\n",
              "      <td>2021</td>\n",
              "      <td>0</td>\n",
              "      <td>1</td>\n",
              "      <td>0</td>\n",
              "      <td>2022-05-18</td>\n",
              "    </tr>\n",
              "  </tbody>\n",
              "</table>\n",
              "</div>\n",
              "      <button class=\"colab-df-convert\" onclick=\"convertToInteractive('df-76d5d866-47bd-4075-8037-dce14c9adba5')\"\n",
              "              title=\"Convert this dataframe to an interactive table.\"\n",
              "              style=\"display:none;\">\n",
              "        \n",
              "  <svg xmlns=\"http://www.w3.org/2000/svg\" height=\"24px\"viewBox=\"0 0 24 24\"\n",
              "       width=\"24px\">\n",
              "    <path d=\"M0 0h24v24H0V0z\" fill=\"none\"/>\n",
              "    <path d=\"M18.56 5.44l.94 2.06.94-2.06 2.06-.94-2.06-.94-.94-2.06-.94 2.06-2.06.94zm-11 1L8.5 8.5l.94-2.06 2.06-.94-2.06-.94L8.5 2.5l-.94 2.06-2.06.94zm10 10l.94 2.06.94-2.06 2.06-.94-2.06-.94-.94-2.06-.94 2.06-2.06.94z\"/><path d=\"M17.41 7.96l-1.37-1.37c-.4-.4-.92-.59-1.43-.59-.52 0-1.04.2-1.43.59L10.3 9.45l-7.72 7.72c-.78.78-.78 2.05 0 2.83L4 21.41c.39.39.9.59 1.41.59.51 0 1.02-.2 1.41-.59l7.78-7.78 2.81-2.81c.8-.78.8-2.07 0-2.86zM5.41 20L4 18.59l7.72-7.72 1.47 1.35L5.41 20z\"/>\n",
              "  </svg>\n",
              "      </button>\n",
              "      \n",
              "  <style>\n",
              "    .colab-df-container {\n",
              "      display:flex;\n",
              "      flex-wrap:wrap;\n",
              "      gap: 12px;\n",
              "    }\n",
              "\n",
              "    .colab-df-convert {\n",
              "      background-color: #E8F0FE;\n",
              "      border: none;\n",
              "      border-radius: 50%;\n",
              "      cursor: pointer;\n",
              "      display: none;\n",
              "      fill: #1967D2;\n",
              "      height: 32px;\n",
              "      padding: 0 0 0 0;\n",
              "      width: 32px;\n",
              "    }\n",
              "\n",
              "    .colab-df-convert:hover {\n",
              "      background-color: #E2EBFA;\n",
              "      box-shadow: 0px 1px 2px rgba(60, 64, 67, 0.3), 0px 1px 3px 1px rgba(60, 64, 67, 0.15);\n",
              "      fill: #174EA6;\n",
              "    }\n",
              "\n",
              "    [theme=dark] .colab-df-convert {\n",
              "      background-color: #3B4455;\n",
              "      fill: #D2E3FC;\n",
              "    }\n",
              "\n",
              "    [theme=dark] .colab-df-convert:hover {\n",
              "      background-color: #434B5C;\n",
              "      box-shadow: 0px 1px 3px 1px rgba(0, 0, 0, 0.15);\n",
              "      filter: drop-shadow(0px 1px 2px rgba(0, 0, 0, 0.3));\n",
              "      fill: #FFFFFF;\n",
              "    }\n",
              "  </style>\n",
              "\n",
              "      <script>\n",
              "        const buttonEl =\n",
              "          document.querySelector('#df-76d5d866-47bd-4075-8037-dce14c9adba5 button.colab-df-convert');\n",
              "        buttonEl.style.display =\n",
              "          google.colab.kernel.accessAllowed ? 'block' : 'none';\n",
              "\n",
              "        async function convertToInteractive(key) {\n",
              "          const element = document.querySelector('#df-76d5d866-47bd-4075-8037-dce14c9adba5');\n",
              "          const dataTable =\n",
              "            await google.colab.kernel.invokeFunction('convertToInteractive',\n",
              "                                                     [key], {});\n",
              "          if (!dataTable) return;\n",
              "\n",
              "          const docLinkHtml = 'Like what you see? Visit the ' +\n",
              "            '<a target=\"_blank\" href=https://colab.research.google.com/notebooks/data_table.ipynb>data table notebook</a>'\n",
              "            + ' to learn more about interactive tables.';\n",
              "          element.innerHTML = '';\n",
              "          dataTable['output_type'] = 'display_data';\n",
              "          await google.colab.output.renderOutput(dataTable, element);\n",
              "          const docLink = document.createElement('div');\n",
              "          docLink.innerHTML = docLinkHtml;\n",
              "          element.appendChild(docLink);\n",
              "        }\n",
              "      </script>\n",
              "    </div>\n",
              "  </div>\n",
              "  "
            ]
          },
          "metadata": {},
          "execution_count": 15
        }
      ]
    },
    {
      "cell_type": "code",
      "source": [
        "## 순서 변경\n",
        "panel_a = panel_a[['code', 'cor_name', 'Accounting_Closing', 'year', 'cash/assets', 'liabilities/assets', 'liabilities-cash/assets',\n",
        "       'sales/cur_liabilities', 'cur_assets/cur_liabilities','retained_earnings/cur_liabilities', 'non_cur_lia/non_cur_lia+worth',\n",
        "       'interest/cash_flow', 'interest/ebitda', 'inven/sales','sales/net_income', 'gross_margin/sales', 'sales/retained_earnings',\n",
        "       'change_in_roa', 'change_in_AR', 'change_in_TP', 'assets', 'sales','roa', 'sales_grow', 'net_income', 'net_income_grow','gross_profit', 'operating_profit', 'retained_earning', 'closing_price',\n",
        "       'revised_price', 'market_capital', 'return','code_label','fnc_rsn_unlst_year','코드대분류', '최초상장일자', '상장일자',\n",
        "       'unlist_date', 'unlist_reason', 'unlist_year', 'unlist_reason_ctg', 'fnc_rsn_unlst', 'unlist_mon', 'unlist_last_year']]"
      ],
      "metadata": {
        "id": "vndthNpPz3bv"
      },
      "execution_count": null,
      "outputs": []
    },
    {
      "cell_type": "code",
      "source": [
        "## 필요X\n",
        "def cor_shift(df, period):\n",
        "  shift_result = pd.DataFrame()\n",
        "\n",
        "  for cor in df['code_label'].unique():\n",
        "    df_cor = df[df['code_label']==cor]\n",
        "    df_cor['y_shift'] = df_cor['fnc_rsn_unlst_year'].shift(periods=period)\n",
        "    shift_result = pd.concat([shift_result, df_cor], axis=0)\n",
        "\n",
        "  return shift_result\n",
        "\n",
        "# panel_shift = cor_shift(panel_a, 1)"
      ],
      "metadata": {
        "id": "NEe0XOY7IO1u"
      },
      "execution_count": null,
      "outputs": []
    },
    {
      "cell_type": "markdown",
      "metadata": {
        "id": "sQSrS2kgc_3u"
      },
      "source": [
        "# #2. 데이터 형태 & 범위\n",
        "\n",
        "- (1) 무지성 모든연도 때려넣기 (원데이터)\n",
        "- (2) row -> col (원데이터)\n",
        "- (3) 변화율 (변환)\n",
        "- (4) 지수함수화, 최소자승법 (변환)"
      ]
    },
    {
      "cell_type": "code",
      "execution_count": null,
      "metadata": {
        "id": "f8Y8_sd0PArU"
      },
      "outputs": [],
      "source": [
        "def var1(df):\n",
        "  X1 = df.loc[:,'cash/assets':'retained_earning']\n",
        "  X1['year'] = df['year']\n",
        "  X1['code_label'] = df['code_label']\n",
        "\n",
        "  y = df['fnc_rsn_unlst_year']\n",
        "\n",
        "  return X1, y"
      ]
    },
    {
      "cell_type": "code",
      "source": [
        "def xgb_smltn(X, y):\n",
        "\n",
        "  X_train,X_test,y_train,y_test= train_test_split(X,y,test_size=0.2,random_state=1)\n",
        "\n",
        "  # 객체 생성\n",
        "  model = XGBClassifier(n_estimators=500, early_stopping_rounds=1, max_depth=3, random_state=0)\n",
        "  xgb_model = model.fit(X_train, y_train, early_stopping_rounds=100,eval_set=[(X_test, y_test)])\n",
        "\n",
        "  # 예측하기\n",
        "  y_pre = xgb_model.predict(X_test)\n",
        "  y_pred_probs = xgb_model.predict_proba(X_test)[:,1]\n",
        "\n",
        "  # # 특성 중요도 시각화\n",
        "  # fig, ax = plt.subplots(figsize=(10,12))\n",
        "  # plot_importance(xgb_model, ax=ax)\n",
        "\n",
        "  X_test['y_real'] = y_test\n",
        "  X_test['y_pred'] = y_pre\n",
        "\n",
        "  print(\"정확도:\",accuracy_score(y_pre, y_test))\n",
        "\n",
        "  return X_test"
      ],
      "metadata": {
        "id": "TlcvuM7jB9XS"
      },
      "execution_count": null,
      "outputs": []
    },
    {
      "cell_type": "markdown",
      "source": [
        "## (1) 원데이터 사용해 최적범위 탐색: 마지막 회계결산 재무정보로만 예측 \n",
        "- 각 기업별 row는 마지막 재무정보로만 train \n",
        "- '데이터 범위(2)'에서 range(0)인 경우와 같음"
      ],
      "metadata": {
        "id": "pXtrPxNQJuft"
      }
    },
    {
      "cell_type": "code",
      "source": [
        "def train_last_fnc(df):\n",
        "  train = pd.DataFrame()\n",
        "\n",
        "  for cor in tqdm(df['code_label'].unique()):\n",
        "    df_cor = df[df['code_label']==cor]\n",
        "\n",
        "    fin_year = max(list(df_cor['year']))\n",
        "    fin_idx = df_cor[df_cor['year']==fin_year]\n",
        "    train = train.append(fin_idx)\n",
        "\n",
        "  return train.reset_index(drop=True)\n",
        "\n",
        "last_fnc_train = train_last_fnc(panel_a)"
      ],
      "metadata": {
        "colab": {
          "base_uri": "https://localhost:8080/"
        },
        "outputId": "84667120-2730-4f49-d93a-114b93e2ebd3",
        "id": "EQqzIqP4Juft"
      },
      "execution_count": null,
      "outputs": [
        {
          "output_type": "stream",
          "name": "stderr",
          "text": [
            "100%|██████████| 3047/3047 [00:15<00:00, 191.26it/s]\n"
          ]
        }
      ]
    },
    {
      "cell_type": "code",
      "source": [
        "# last_fnc_train = train_last_fnc(panel_a)\n",
        "\n",
        "# X2_1, y2_1 = var1(last_fnc_train)\n",
        "# last_fnc_result1 = xgb_smltn(X2_1, y2_1)"
      ],
      "metadata": {
        "id": "LT9jJxfNJuft"
      },
      "execution_count": null,
      "outputs": []
    },
    {
      "cell_type": "code",
      "source": [
        "# print(\"정확도:\",accuracy_score(last_fnc_result1['y_pred'], last_fnc_result1['y_real']))"
      ],
      "metadata": {
        "id": "qkqHmA9YJuft"
      },
      "execution_count": null,
      "outputs": []
    },
    {
      "cell_type": "code",
      "source": [
        "# result_count = pd.DataFrame(last_fnc_result1.groupby(['y_real','y_pred'])['y_pred'].count()).rename(columns={'y_pred':'count'}).reset_index()\n",
        "# print(last_fnc_result1.groupby(['y_real','y_pred'])['y_pred'].count(), '\\n')\n",
        "# print('상장폐지를 상장유지로 예측:', result_count['count'][1], '/',result_count['count'][0]+result_count['count'][1])\n",
        "# print('상장유지를 상장폐지로 예측:',result_count['count'][2], '/',result_count['count'][2]+result_count['count'][3])\n",
        "# print(round(result_count['count'][1]/(result_count['count'][0]+result_count['count'][1]),4))\n",
        "# print(round(result_count['count'][2]/(result_count['count'][2]+result_count['count'][3]),4))"
      ],
      "metadata": {
        "id": "KFi5O-rdJufu"
      },
      "execution_count": null,
      "outputs": []
    },
    {
      "cell_type": "markdown",
      "source": [
        "## (2) 원데이터: 특정 기간 연도의 재무정보를 하나의 row로 나열"
      ],
      "metadata": {
        "id": "Gbv82P2pSGRl"
      }
    },
    {
      "cell_type": "code",
      "source": [
        "def train_row_to_col(df, contained_year):\n",
        "  \n",
        "  ## X\n",
        "  X = pd.DataFrame()\n",
        "\n",
        "  for cor in tqdm(df['code_label'].unique()):\n",
        "    df_cor = df[df['code_label']==cor]\n",
        "\n",
        "    if len(df_cor) >= contained_year:\n",
        "      fin_year = max(list(df_cor['year']))\n",
        "      fin_idx = df_cor[df_cor['year']==fin_year].index[0]\n",
        "      df_cor = df_cor.loc[fin_idx-contained_year+1:fin_idx, 'cash/assets':'retained_earning']\n",
        "\n",
        "      cor_result = pd.DataFrame()\n",
        "\n",
        "      for row in df_cor.index:\n",
        "        row_df = df_cor.loc[[row]].reset_index(drop=True)\n",
        "        cor_result = pd.concat([cor_result, row_df], axis=1) #, names=[df_cor.columns for num in range(len(df_cor))])\n",
        "\n",
        "      cor_result.columns = [col+'_'+str(num) for num in range(len(df_cor)) for col in df_cor.columns]\n",
        "      cor_result['code_label'] = cor\n",
        "      X = pd.concat([X, cor_result], ignore_index=True)\n",
        "    else:\n",
        "      pass\n",
        "\n",
        "  ## y  \n",
        "  y_list = []\n",
        "  \n",
        "  for row in tqdm(range(len(X))):\n",
        "    row_cor_code = X['code_label'][row]\n",
        "    fnc_unlst_cor = df[(df['code_label']==row_cor_code)&(df['fnc_rsn_unlst_year']=='1')]\n",
        "    if len(fnc_unlst_cor)==1:\n",
        "      y_list.append('1')\n",
        "    elif len(fnc_unlst_cor)==0:\n",
        "      y_list.append('0')\n",
        "    else:\n",
        "      print('error')\n",
        "    \n",
        "  X['fnc_rsn_unlst_year'] = y_list\n",
        "\n",
        "  return X"
      ],
      "metadata": {
        "id": "VE8h2oxeAyuM"
      },
      "execution_count": null,
      "outputs": []
    },
    {
      "cell_type": "code",
      "source": [
        "# train_data1 = train_row_to_col(panel_a, 3) #1년전 자료까지\n",
        "\n",
        "# X1_2 = train_data1.iloc[:,:-1]\n",
        "# y1_2 = train_data1['fnc_rsn_unlst_year']\n",
        "\n",
        "# result1_2 = xgb_smltn(X1_2, y1_2)"
      ],
      "metadata": {
        "id": "EavkGk84nIc6"
      },
      "execution_count": null,
      "outputs": []
    },
    {
      "cell_type": "code",
      "source": [
        "# print(\"정확도:\",accuracy_score(result1_2['y_pred'], result1_2['y_real']))"
      ],
      "metadata": {
        "id": "1t1W2SDpnIfK"
      },
      "execution_count": null,
      "outputs": []
    },
    {
      "cell_type": "code",
      "source": [
        "# result_count = pd.DataFrame(result1_2.groupby(['y_real','y_pred'])['y_pred'].count()).rename(columns={'y_pred':'count'}).reset_index()\n",
        "# print(result1_2.groupby(['y_real','y_pred'])['y_pred'].count(), '\\n')\n",
        "# print('상장폐지를 상장유지로 예측:', result_count['count'][1], '/',result_count['count'][0]+result_count['count'][1])\n",
        "# print('상장유지를 상장폐지로 예측:',result_count['count'][2], '/',result_count['count'][2]+result_count['count'][3])\n",
        "# print(round(result_count['count'][1]/(result_count['count'][0]+result_count['count'][1]),4))\n",
        "# print(round(result_count['count'][2]/(result_count['count'][2]+result_count['count'][3]),4))"
      ],
      "metadata": {
        "id": "5rslBP-QnIhr"
      },
      "execution_count": null,
      "outputs": []
    },
    {
      "cell_type": "markdown",
      "source": [
        "## (3) 데이터 변환: 변화율, 증가율"
      ],
      "metadata": {
        "id": "rjbnjgooT40P"
      }
    },
    {
      "cell_type": "code",
      "source": [
        "def growth_rate(p0, p1):\n",
        "  rate = (p1 - p0)/p0 #증가율 계산 = (현재시점-이전시점)/(이전시점)\n",
        "  return rate"
      ],
      "metadata": {
        "id": "vvitluzWWG6O"
      },
      "execution_count": null,
      "outputs": []
    },
    {
      "cell_type": "code",
      "source": [
        "def train_growth_rate(df, contained_year): #마지막연도 재무정보 기준 n년 전\n",
        "  \n",
        "  ## X\n",
        "  X = pd.DataFrame()\n",
        "\n",
        "  for col in tqdm(df.columns[:-1]):\n",
        "    rate_list = []\n",
        "    cor_list = []\n",
        "\n",
        "    for cor in df['code_label'].unique():\n",
        "      df_cor = df[df['code_label']==cor][col].values\n",
        "\n",
        "      if contained_year == 'all':\n",
        "        p0 = df_cor[0]\n",
        "        p1 = df_cor[-1]\n",
        "      elif len(df_cor) > contained_year:\n",
        "        p0 = df_cor[int(contained_year)-1]\n",
        "        p1 = df_cor[-1]\n",
        "\n",
        "      rate = growth_rate(p0, p1)\n",
        "\n",
        "      cor_list.append(cor)\n",
        "      rate_list.append(rate)\n",
        "\n",
        "    X[col+'_'+'growth'] = rate_list\n",
        "\n",
        "  X['code_label'] = cor_list\n",
        "  X = X.drop(['code_label_growth'], axis=1)\n",
        "\n",
        "\n",
        "  ## y  \n",
        "  y_list = []\n",
        "  \n",
        "  for row in tqdm(range(len(X))):\n",
        "    row_cor_code = X['code_label'][row]\n",
        "    fnc_unlst_cor = df[(df['code_label']==row_cor_code)&(df['fnc_rsn_unlst_year']=='1')]\n",
        "    if len(fnc_unlst_cor)==1:\n",
        "      y_list.append('1')\n",
        "    elif len(fnc_unlst_cor)==0:\n",
        "      y_list.append('0')\n",
        "    else:\n",
        "      print('error')\n",
        "    \n",
        "  X['fnc_rsn_unlst_year'] = y_list\n",
        "\n",
        "  return X"
      ],
      "metadata": {
        "id": "h_aD8nIbWFp3"
      },
      "execution_count": null,
      "outputs": []
    },
    {
      "cell_type": "code",
      "source": [
        "# train_data1_3 = train_growth_rate(panel_a.loc[:,'cash/assets':'fnc_rsn_unlst_year'], 'all')  \n",
        "\n",
        "# X1_3 = train_data1_3.iloc[:,:-1]\n",
        "# y1_3 = train_data1_3['fnc_rsn_unlst_year']\n",
        "\n",
        "# result1_3 = xgb_smltn(X1_3, y1_3)"
      ],
      "metadata": {
        "id": "0znUDQjUoVwd"
      },
      "execution_count": null,
      "outputs": []
    },
    {
      "cell_type": "code",
      "source": [
        "# print(\"정확도:\",accuracy_score(result1_3['y_pred'], result1_3['y_real']))"
      ],
      "metadata": {
        "id": "QGWPKY0tod5t"
      },
      "execution_count": null,
      "outputs": []
    },
    {
      "cell_type": "code",
      "source": [
        "# result_count = pd.DataFrame(result1_3.groupby(['y_real','y_pred'])['y_pred'].count()).rename(columns={'y_pred':'count'}).reset_index()\n",
        "# print(result1_3.groupby(['y_real','y_pred'])['y_pred'].count(), '\\n')\n",
        "# print('상장폐지를 상장유지로 예측:', result_count['count'][1], '/',result_count['count'][0]+result_count['count'][1])\n",
        "# print('상장유지를 상장폐지로 예측:',result_count['count'][2], '/',result_count['count'][2]+result_count['count'][3])\n",
        "# print(round(result_count['count'][1]/(result_count['count'][0]+result_count['count'][1]),4))\n",
        "# print(round(result_count['count'][2]/(result_count['count'][2]+result_count['count'][3]),4))"
      ],
      "metadata": {
        "id": "zDK1euwiokbx"
      },
      "execution_count": null,
      "outputs": []
    },
    {
      "cell_type": "markdown",
      "source": [
        "## (4) 데이터 변환: 최소제곱법 기반 지수함수 기울기"
      ],
      "metadata": {
        "id": "QxYQ1OJSR__F"
      }
    },
    {
      "cell_type": "code",
      "source": [
        "def non_linear_least_square(x,Y):\n",
        "    b = (np.mean(x)*np.mean(Y) - np.mean(x*Y))/(np.mean(x)*np.mean(x)-np.mean(x*x))\n",
        "    A = np.mean(Y)-np.mean(x)*b\n",
        "    a = np.exp(A)\n",
        "    return a,b"
      ],
      "metadata": {
        "id": "uUhrIJUrW-2G"
      },
      "execution_count": null,
      "outputs": []
    },
    {
      "cell_type": "code",
      "source": [
        "def train_non_linear(df, contained_year):\n",
        "  \n",
        "  ## X\n",
        "  X = pd.DataFrame()\n",
        "\n",
        "  for col in tqdm(df.columns[:-1]):\n",
        "    a_list = []\n",
        "    b_list = []\n",
        "    cor_list = []\n",
        "\n",
        "    for cor in df['code_label'].unique():\n",
        "      df_cor = df[df['code_label']==cor][col]\n",
        "\n",
        "      if contained_year == 'all':\n",
        "        y = df[df['code_label']==cor][col].values\n",
        "      elif len(df_cor) >= contained_year:\n",
        "        y = df_cor.iloc[len(df_cor)-contained_year:len(df_cor)].values\n",
        "\n",
        "      x = np.array([inx for inx in range(len(y))])\n",
        "      Y = np.log(y)\n",
        "\n",
        "      a,b = non_linear_least_square(x,Y)\n",
        "\n",
        "      cor_list.append(cor)\n",
        "      a_list.append(a)\n",
        "      b_list.append(b)\n",
        "\n",
        "    X[col+'_'+'a'] = a_list\n",
        "    X[col+'_'+'b'] = b_list\n",
        "\n",
        "  X['code_label'] = cor_list\n",
        "  X = X.drop(['code_label_a',\t'code_label_b'], axis=1)\n",
        "\n",
        "\n",
        "  ## y  \n",
        "  y_list = []\n",
        "  \n",
        "  for row in tqdm(range(len(X))):\n",
        "    row_cor_code = X['code_label'][row]\n",
        "    fnc_unlst_cor = df[(df['code_label']==row_cor_code)&(df['fnc_rsn_unlst_year']=='1')]\n",
        "    if len(fnc_unlst_cor)==1:\n",
        "      y_list.append('1')\n",
        "    elif len(fnc_unlst_cor)==0:\n",
        "      y_list.append('0')\n",
        "    else:\n",
        "      print('error')\n",
        "    \n",
        "  X['fnc_rsn_unlst_year'] = y_list\n",
        "\n",
        "  return X"
      ],
      "metadata": {
        "id": "AwPvqW0nR_Vd"
      },
      "execution_count": null,
      "outputs": []
    },
    {
      "cell_type": "code",
      "source": [
        "# train_data1_4 = train_non_linear(panel_a.loc[:,'cash/assets':'fnc_rsn_unlst_year'], 'all')  # 각 기업별 전범위는 contained_year='all'\n",
        "\n",
        "# X1_4 = train_data1_4.iloc[:,:-1]\n",
        "# y1_4 = train_data1_4['fnc_rsn_unlst_year']\n",
        "\n",
        "# result1_4 = xgb_smltn(X1_4, y1_4)"
      ],
      "metadata": {
        "id": "7fBYzSnHhuzV"
      },
      "execution_count": null,
      "outputs": []
    },
    {
      "cell_type": "code",
      "source": [
        "# print(\"정확도:\",accuracy_score(result1_4['y_pred'], result1_4['y_real']))"
      ],
      "metadata": {
        "id": "bmBAfEo-kLlX"
      },
      "execution_count": null,
      "outputs": []
    },
    {
      "cell_type": "code",
      "source": [
        "# result_count = pd.DataFrame(result1_4.groupby(['y_real','y_pred'])['y_pred'].count()).rename(columns={'y_pred':'count'}).reset_index()\n",
        "# print(result1_4.groupby(['y_real','y_pred'])['y_pred'].count(), '\\n')\n",
        "# print('상장폐지를 상장유지로 예측:', result_count['count'][1], '/',result_count['count'][0]+result_count['count'][1])\n",
        "# print('상장유지를 상장폐지로 예측:',result_count['count'][2], '/',result_count['count'][2]+result_count['count'][3])\n",
        "# print(round(result_count['count'][1]/(result_count['count'][0]+result_count['count'][1]),4))\n",
        "# print(round(result_count['count'][2]/(result_count['count'][2]+result_count['count'][3]),4))"
      ],
      "metadata": {
        "id": "zDLZfmn_kLnl"
      },
      "execution_count": null,
      "outputs": []
    },
    {
      "cell_type": "markdown",
      "source": [
        "# #4. 최적 데이터 형태 및 범위 조합한 모델"
      ],
      "metadata": {
        "id": "wDdavZTq_FcJ"
      }
    },
    {
      "cell_type": "markdown",
      "source": [
        "## (1) 마지막 회계결산 재무정보로만 예측 + 증가율(n=4)"
      ],
      "metadata": {
        "id": "L6Xcf2OV5RGC"
      }
    },
    {
      "cell_type": "code",
      "source": [
        "def train_last_grwth(df, contained_year): #주식 포함\n",
        "\n",
        "  last_fnc_train = train_last_fnc(df).drop(['fnc_rsn_unlst_year', '코드대분류','최초상장일자', '상장일자', 'unlist_date', 'unlist_reason', 'unlist_year','unlist_reason_ctg', 'fnc_rsn_unlst', 'unlist_mon', 'unlist_last_year'], axis=1)\n",
        "  train_growth_data = train_growth_rate(df.loc[:,'cash/assets':'fnc_rsn_unlst_year'], contained_year)\n",
        "\n",
        "  result = last_fnc_train.merge(train_growth_data, how='outer',on='code_label')\n",
        "\n",
        "  return result\n",
        "  \n",
        "union_train1 = train_last_grwth(panel_a, 4)"
      ],
      "metadata": {
        "colab": {
          "base_uri": "https://localhost:8080/",
          "height": 290
        },
        "outputId": "781ae3ee-ddd7-4f48-ad52-1f2fd3972f5e",
        "id": "9MsQyhGzseNH"
      },
      "execution_count": null,
      "outputs": [
        {
          "output_type": "stream",
          "name": "stderr",
          "text": [
            " 39%|███▉      | 1186/3047 [00:05<00:08, 229.89it/s]\n"
          ]
        },
        {
          "output_type": "error",
          "ename": "KeyboardInterrupt",
          "evalue": "ignored",
          "traceback": [
            "\u001b[0;31m---------------------------------------------------------------------------\u001b[0m",
            "\u001b[0;31mKeyboardInterrupt\u001b[0m                         Traceback (most recent call last)",
            "\u001b[0;32m<ipython-input-82-0f3215233194>\u001b[0m in \u001b[0;36m<module>\u001b[0;34m\u001b[0m\n\u001b[1;32m      8\u001b[0m   \u001b[0;32mreturn\u001b[0m \u001b[0mresult\u001b[0m\u001b[0;34m\u001b[0m\u001b[0;34m\u001b[0m\u001b[0m\n\u001b[1;32m      9\u001b[0m \u001b[0;34m\u001b[0m\u001b[0m\n\u001b[0;32m---> 10\u001b[0;31m \u001b[0munion_train1\u001b[0m \u001b[0;34m=\u001b[0m \u001b[0mtrain_last_grwth\u001b[0m\u001b[0;34m(\u001b[0m\u001b[0mpanel_a\u001b[0m\u001b[0;34m,\u001b[0m \u001b[0;36m4\u001b[0m\u001b[0;34m)\u001b[0m\u001b[0;34m\u001b[0m\u001b[0;34m\u001b[0m\u001b[0m\n\u001b[0m",
            "\u001b[0;32m<ipython-input-82-0f3215233194>\u001b[0m in \u001b[0;36mtrain_last_grwth\u001b[0;34m(df, contained_year)\u001b[0m\n\u001b[1;32m      1\u001b[0m \u001b[0;32mdef\u001b[0m \u001b[0mtrain_last_grwth\u001b[0m\u001b[0;34m(\u001b[0m\u001b[0mdf\u001b[0m\u001b[0;34m,\u001b[0m \u001b[0mcontained_year\u001b[0m\u001b[0;34m)\u001b[0m\u001b[0;34m:\u001b[0m \u001b[0;31m#주식 포함\u001b[0m\u001b[0;34m\u001b[0m\u001b[0;34m\u001b[0m\u001b[0m\n\u001b[1;32m      2\u001b[0m \u001b[0;34m\u001b[0m\u001b[0m\n\u001b[0;32m----> 3\u001b[0;31m   \u001b[0mlast_fnc_train\u001b[0m \u001b[0;34m=\u001b[0m \u001b[0mtrain_last_fnc\u001b[0m\u001b[0;34m(\u001b[0m\u001b[0mdf\u001b[0m\u001b[0;34m)\u001b[0m\u001b[0;34m.\u001b[0m\u001b[0mdrop\u001b[0m\u001b[0;34m(\u001b[0m\u001b[0;34m[\u001b[0m\u001b[0;34m'fnc_rsn_unlst_year'\u001b[0m\u001b[0;34m]\u001b[0m\u001b[0;34m,\u001b[0m \u001b[0maxis\u001b[0m\u001b[0;34m=\u001b[0m\u001b[0;36m1\u001b[0m\u001b[0;34m)\u001b[0m\u001b[0;34m\u001b[0m\u001b[0;34m\u001b[0m\u001b[0m\n\u001b[0m\u001b[1;32m      4\u001b[0m   \u001b[0mtrain_growth_data\u001b[0m \u001b[0;34m=\u001b[0m \u001b[0mtrain_growth_rate\u001b[0m\u001b[0;34m(\u001b[0m\u001b[0mdf\u001b[0m\u001b[0;34m.\u001b[0m\u001b[0mloc\u001b[0m\u001b[0;34m[\u001b[0m\u001b[0;34m:\u001b[0m\u001b[0;34m,\u001b[0m\u001b[0;34m'cash/assets'\u001b[0m\u001b[0;34m:\u001b[0m\u001b[0;34m'fnc_rsn_unlst_year'\u001b[0m\u001b[0;34m]\u001b[0m\u001b[0;34m,\u001b[0m \u001b[0mcontained_year\u001b[0m\u001b[0;34m)\u001b[0m\u001b[0;34m\u001b[0m\u001b[0;34m\u001b[0m\u001b[0m\n\u001b[1;32m      5\u001b[0m \u001b[0;34m\u001b[0m\u001b[0m\n",
            "\u001b[0;32m<ipython-input-20-c438577bab3d>\u001b[0m in \u001b[0;36mtrain_last_fnc\u001b[0;34m(df)\u001b[0m\n\u001b[1;32m      7\u001b[0m     \u001b[0mfin_year\u001b[0m \u001b[0;34m=\u001b[0m \u001b[0mmax\u001b[0m\u001b[0;34m(\u001b[0m\u001b[0mlist\u001b[0m\u001b[0;34m(\u001b[0m\u001b[0mdf_cor\u001b[0m\u001b[0;34m[\u001b[0m\u001b[0;34m'year'\u001b[0m\u001b[0;34m]\u001b[0m\u001b[0;34m)\u001b[0m\u001b[0;34m)\u001b[0m\u001b[0;34m\u001b[0m\u001b[0;34m\u001b[0m\u001b[0m\n\u001b[1;32m      8\u001b[0m     \u001b[0mfin_idx\u001b[0m \u001b[0;34m=\u001b[0m \u001b[0mdf_cor\u001b[0m\u001b[0;34m[\u001b[0m\u001b[0mdf_cor\u001b[0m\u001b[0;34m[\u001b[0m\u001b[0;34m'year'\u001b[0m\u001b[0;34m]\u001b[0m\u001b[0;34m==\u001b[0m\u001b[0mfin_year\u001b[0m\u001b[0;34m]\u001b[0m\u001b[0;34m\u001b[0m\u001b[0;34m\u001b[0m\u001b[0m\n\u001b[0;32m----> 9\u001b[0;31m     \u001b[0mtrain\u001b[0m \u001b[0;34m=\u001b[0m \u001b[0mtrain\u001b[0m\u001b[0;34m.\u001b[0m\u001b[0mappend\u001b[0m\u001b[0;34m(\u001b[0m\u001b[0mfin_idx\u001b[0m\u001b[0;34m)\u001b[0m\u001b[0;34m\u001b[0m\u001b[0;34m\u001b[0m\u001b[0m\n\u001b[0m\u001b[1;32m     10\u001b[0m \u001b[0;34m\u001b[0m\u001b[0m\n\u001b[1;32m     11\u001b[0m   \u001b[0;32mreturn\u001b[0m \u001b[0mtrain\u001b[0m\u001b[0;34m.\u001b[0m\u001b[0mreset_index\u001b[0m\u001b[0;34m(\u001b[0m\u001b[0mdrop\u001b[0m\u001b[0;34m=\u001b[0m\u001b[0;32mTrue\u001b[0m\u001b[0;34m)\u001b[0m\u001b[0;34m\u001b[0m\u001b[0;34m\u001b[0m\u001b[0m\n",
            "\u001b[0;32m/usr/local/lib/python3.8/dist-packages/pandas/core/frame.py\u001b[0m in \u001b[0;36mappend\u001b[0;34m(self, other, ignore_index, verify_integrity, sort)\u001b[0m\n\u001b[1;32m   8963\u001b[0m             \u001b[0mto_concat\u001b[0m \u001b[0;34m=\u001b[0m \u001b[0;34m[\u001b[0m\u001b[0mself\u001b[0m\u001b[0;34m,\u001b[0m \u001b[0mother\u001b[0m\u001b[0;34m]\u001b[0m\u001b[0;34m\u001b[0m\u001b[0;34m\u001b[0m\u001b[0m\n\u001b[1;32m   8964\u001b[0m         return (\n\u001b[0;32m-> 8965\u001b[0;31m             concat(\n\u001b[0m\u001b[1;32m   8966\u001b[0m                 \u001b[0mto_concat\u001b[0m\u001b[0;34m,\u001b[0m\u001b[0;34m\u001b[0m\u001b[0;34m\u001b[0m\u001b[0m\n\u001b[1;32m   8967\u001b[0m                 \u001b[0mignore_index\u001b[0m\u001b[0;34m=\u001b[0m\u001b[0mignore_index\u001b[0m\u001b[0;34m,\u001b[0m\u001b[0;34m\u001b[0m\u001b[0;34m\u001b[0m\u001b[0m\n",
            "\u001b[0;32m/usr/local/lib/python3.8/dist-packages/pandas/util/_decorators.py\u001b[0m in \u001b[0;36mwrapper\u001b[0;34m(*args, **kwargs)\u001b[0m\n\u001b[1;32m    309\u001b[0m                     \u001b[0mstacklevel\u001b[0m\u001b[0;34m=\u001b[0m\u001b[0mstacklevel\u001b[0m\u001b[0;34m,\u001b[0m\u001b[0;34m\u001b[0m\u001b[0;34m\u001b[0m\u001b[0m\n\u001b[1;32m    310\u001b[0m                 )\n\u001b[0;32m--> 311\u001b[0;31m             \u001b[0;32mreturn\u001b[0m \u001b[0mfunc\u001b[0m\u001b[0;34m(\u001b[0m\u001b[0;34m*\u001b[0m\u001b[0margs\u001b[0m\u001b[0;34m,\u001b[0m \u001b[0;34m**\u001b[0m\u001b[0mkwargs\u001b[0m\u001b[0;34m)\u001b[0m\u001b[0;34m\u001b[0m\u001b[0;34m\u001b[0m\u001b[0m\n\u001b[0m\u001b[1;32m    312\u001b[0m \u001b[0;34m\u001b[0m\u001b[0m\n\u001b[1;32m    313\u001b[0m         \u001b[0;32mreturn\u001b[0m \u001b[0mwrapper\u001b[0m\u001b[0;34m\u001b[0m\u001b[0;34m\u001b[0m\u001b[0m\n",
            "\u001b[0;32m/usr/local/lib/python3.8/dist-packages/pandas/core/reshape/concat.py\u001b[0m in \u001b[0;36mconcat\u001b[0;34m(objs, axis, join, ignore_index, keys, levels, names, verify_integrity, sort, copy)\u001b[0m\n\u001b[1;32m    305\u001b[0m     )\n\u001b[1;32m    306\u001b[0m \u001b[0;34m\u001b[0m\u001b[0m\n\u001b[0;32m--> 307\u001b[0;31m     \u001b[0;32mreturn\u001b[0m \u001b[0mop\u001b[0m\u001b[0;34m.\u001b[0m\u001b[0mget_result\u001b[0m\u001b[0;34m(\u001b[0m\u001b[0;34m)\u001b[0m\u001b[0;34m\u001b[0m\u001b[0;34m\u001b[0m\u001b[0m\n\u001b[0m\u001b[1;32m    308\u001b[0m \u001b[0;34m\u001b[0m\u001b[0m\n\u001b[1;32m    309\u001b[0m \u001b[0;34m\u001b[0m\u001b[0m\n",
            "\u001b[0;32m/usr/local/lib/python3.8/dist-packages/pandas/core/reshape/concat.py\u001b[0m in \u001b[0;36mget_result\u001b[0;34m(self)\u001b[0m\n\u001b[1;32m    530\u001b[0m                 \u001b[0mmgrs_indexers\u001b[0m\u001b[0;34m.\u001b[0m\u001b[0mappend\u001b[0m\u001b[0;34m(\u001b[0m\u001b[0;34m(\u001b[0m\u001b[0mobj\u001b[0m\u001b[0;34m.\u001b[0m\u001b[0m_mgr\u001b[0m\u001b[0;34m,\u001b[0m \u001b[0mindexers\u001b[0m\u001b[0;34m)\u001b[0m\u001b[0;34m)\u001b[0m\u001b[0;34m\u001b[0m\u001b[0;34m\u001b[0m\u001b[0m\n\u001b[1;32m    531\u001b[0m \u001b[0;34m\u001b[0m\u001b[0m\n\u001b[0;32m--> 532\u001b[0;31m             new_data = concatenate_managers(\n\u001b[0m\u001b[1;32m    533\u001b[0m                 \u001b[0mmgrs_indexers\u001b[0m\u001b[0;34m,\u001b[0m \u001b[0mself\u001b[0m\u001b[0;34m.\u001b[0m\u001b[0mnew_axes\u001b[0m\u001b[0;34m,\u001b[0m \u001b[0mconcat_axis\u001b[0m\u001b[0;34m=\u001b[0m\u001b[0mself\u001b[0m\u001b[0;34m.\u001b[0m\u001b[0mbm_axis\u001b[0m\u001b[0;34m,\u001b[0m \u001b[0mcopy\u001b[0m\u001b[0;34m=\u001b[0m\u001b[0mself\u001b[0m\u001b[0;34m.\u001b[0m\u001b[0mcopy\u001b[0m\u001b[0;34m\u001b[0m\u001b[0;34m\u001b[0m\u001b[0m\n\u001b[1;32m    534\u001b[0m             )\n",
            "\u001b[0;32m/usr/local/lib/python3.8/dist-packages/pandas/core/internals/concat.py\u001b[0m in \u001b[0;36mconcatenate_managers\u001b[0;34m(mgrs_indexers, axes, concat_axis, copy)\u001b[0m\n\u001b[1;32m    230\u001b[0m             \u001b[0mb\u001b[0m \u001b[0;34m=\u001b[0m \u001b[0mblk\u001b[0m\u001b[0;34m.\u001b[0m\u001b[0mmake_block_same_class\u001b[0m\u001b[0;34m(\u001b[0m\u001b[0mvalues\u001b[0m\u001b[0;34m,\u001b[0m \u001b[0mplacement\u001b[0m\u001b[0;34m=\u001b[0m\u001b[0mplacement\u001b[0m\u001b[0;34m)\u001b[0m\u001b[0;34m\u001b[0m\u001b[0;34m\u001b[0m\u001b[0m\n\u001b[1;32m    231\u001b[0m         \u001b[0;32melse\u001b[0m\u001b[0;34m:\u001b[0m\u001b[0;34m\u001b[0m\u001b[0;34m\u001b[0m\u001b[0m\n\u001b[0;32m--> 232\u001b[0;31m             \u001b[0mb\u001b[0m \u001b[0;34m=\u001b[0m \u001b[0mnew_block\u001b[0m\u001b[0;34m(\u001b[0m\u001b[0mvalues\u001b[0m\u001b[0;34m,\u001b[0m \u001b[0mplacement\u001b[0m\u001b[0;34m=\u001b[0m\u001b[0mplacement\u001b[0m\u001b[0;34m,\u001b[0m \u001b[0mndim\u001b[0m\u001b[0;34m=\u001b[0m\u001b[0mlen\u001b[0m\u001b[0;34m(\u001b[0m\u001b[0maxes\u001b[0m\u001b[0;34m)\u001b[0m\u001b[0;34m)\u001b[0m\u001b[0;34m\u001b[0m\u001b[0;34m\u001b[0m\u001b[0m\n\u001b[0m\u001b[1;32m    233\u001b[0m \u001b[0;34m\u001b[0m\u001b[0m\n\u001b[1;32m    234\u001b[0m         \u001b[0mblocks\u001b[0m\u001b[0;34m.\u001b[0m\u001b[0mappend\u001b[0m\u001b[0;34m(\u001b[0m\u001b[0mb\u001b[0m\u001b[0;34m)\u001b[0m\u001b[0;34m\u001b[0m\u001b[0;34m\u001b[0m\u001b[0m\n",
            "\u001b[0;32m/usr/local/lib/python3.8/dist-packages/pandas/core/internals/blocks.py\u001b[0m in \u001b[0;36mnew_block\u001b[0;34m(values, placement, ndim, klass)\u001b[0m\n\u001b[1;32m   1938\u001b[0m \u001b[0;34m\u001b[0m\u001b[0m\n\u001b[1;32m   1939\u001b[0m     \u001b[0;32mif\u001b[0m \u001b[0mklass\u001b[0m \u001b[0;32mis\u001b[0m \u001b[0;32mNone\u001b[0m\u001b[0;34m:\u001b[0m\u001b[0;34m\u001b[0m\u001b[0;34m\u001b[0m\u001b[0m\n\u001b[0;32m-> 1940\u001b[0;31m         \u001b[0mklass\u001b[0m \u001b[0;34m=\u001b[0m \u001b[0mget_block_type\u001b[0m\u001b[0;34m(\u001b[0m\u001b[0mvalues\u001b[0m\u001b[0;34m,\u001b[0m \u001b[0mvalues\u001b[0m\u001b[0;34m.\u001b[0m\u001b[0mdtype\u001b[0m\u001b[0;34m)\u001b[0m\u001b[0;34m\u001b[0m\u001b[0;34m\u001b[0m\u001b[0m\n\u001b[0m\u001b[1;32m   1941\u001b[0m \u001b[0;34m\u001b[0m\u001b[0m\n\u001b[1;32m   1942\u001b[0m     \u001b[0mvalues\u001b[0m \u001b[0;34m=\u001b[0m \u001b[0mmaybe_coerce_values\u001b[0m\u001b[0;34m(\u001b[0m\u001b[0mvalues\u001b[0m\u001b[0;34m)\u001b[0m\u001b[0;34m\u001b[0m\u001b[0;34m\u001b[0m\u001b[0m\n",
            "\u001b[0;32m/usr/local/lib/python3.8/dist-packages/pandas/core/internals/blocks.py\u001b[0m in \u001b[0;36mget_block_type\u001b[0;34m(values, dtype)\u001b[0m\n\u001b[1;32m   1909\u001b[0m     \u001b[0mcls\u001b[0m\u001b[0;34m:\u001b[0m \u001b[0mtype\u001b[0m\u001b[0;34m[\u001b[0m\u001b[0mBlock\u001b[0m\u001b[0;34m]\u001b[0m\u001b[0;34m\u001b[0m\u001b[0;34m\u001b[0m\u001b[0m\n\u001b[1;32m   1910\u001b[0m \u001b[0;34m\u001b[0m\u001b[0m\n\u001b[0;32m-> 1911\u001b[0;31m     \u001b[0;32mif\u001b[0m \u001b[0mis_sparse\u001b[0m\u001b[0;34m(\u001b[0m\u001b[0mdtype\u001b[0m\u001b[0;34m)\u001b[0m\u001b[0;34m:\u001b[0m\u001b[0;34m\u001b[0m\u001b[0;34m\u001b[0m\u001b[0m\n\u001b[0m\u001b[1;32m   1912\u001b[0m         \u001b[0;31m# Need this first(ish) so that Sparse[datetime] is sparse\u001b[0m\u001b[0;34m\u001b[0m\u001b[0;34m\u001b[0m\u001b[0;34m\u001b[0m\u001b[0m\n\u001b[1;32m   1913\u001b[0m         \u001b[0mcls\u001b[0m \u001b[0;34m=\u001b[0m \u001b[0mExtensionBlock\u001b[0m\u001b[0;34m\u001b[0m\u001b[0;34m\u001b[0m\u001b[0m\n",
            "\u001b[0;32m/usr/local/lib/python3.8/dist-packages/pandas/core/dtypes/common.py\u001b[0m in \u001b[0;36mis_sparse\u001b[0;34m(arr)\u001b[0m\n\u001b[1;32m    230\u001b[0m     \u001b[0mReturns\u001b[0m\u001b[0;31m \u001b[0m\u001b[0;31m`\u001b[0m\u001b[0;32mFalse\u001b[0m\u001b[0;31m`\u001b[0m \u001b[0;32mif\u001b[0m \u001b[0mthe\u001b[0m \u001b[0mparameter\u001b[0m \u001b[0mhas\u001b[0m \u001b[0mmore\u001b[0m \u001b[0mthan\u001b[0m \u001b[0mone\u001b[0m \u001b[0mdimension\u001b[0m\u001b[0;34m.\u001b[0m\u001b[0;34m\u001b[0m\u001b[0;34m\u001b[0m\u001b[0m\n\u001b[1;32m    231\u001b[0m     \"\"\"\n\u001b[0;32m--> 232\u001b[0;31m     \u001b[0;32mfrom\u001b[0m \u001b[0mpandas\u001b[0m\u001b[0;34m.\u001b[0m\u001b[0mcore\u001b[0m\u001b[0;34m.\u001b[0m\u001b[0marrays\u001b[0m\u001b[0;34m.\u001b[0m\u001b[0msparse\u001b[0m \u001b[0;32mimport\u001b[0m \u001b[0mSparseDtype\u001b[0m\u001b[0;34m\u001b[0m\u001b[0;34m\u001b[0m\u001b[0m\n\u001b[0m\u001b[1;32m    233\u001b[0m \u001b[0;34m\u001b[0m\u001b[0m\n\u001b[1;32m    234\u001b[0m     \u001b[0mdtype\u001b[0m \u001b[0;34m=\u001b[0m \u001b[0mgetattr\u001b[0m\u001b[0;34m(\u001b[0m\u001b[0marr\u001b[0m\u001b[0;34m,\u001b[0m \u001b[0;34m\"dtype\"\u001b[0m\u001b[0;34m,\u001b[0m \u001b[0marr\u001b[0m\u001b[0;34m)\u001b[0m\u001b[0;34m\u001b[0m\u001b[0;34m\u001b[0m\u001b[0m\n",
            "\u001b[0;32m/usr/lib/python3.8/importlib/_bootstrap.py\u001b[0m in \u001b[0;36m_handle_fromlist\u001b[0;34m(module, fromlist, import_, recursive)\u001b[0m\n",
            "\u001b[0;31mKeyboardInterrupt\u001b[0m: "
          ]
        }
      ]
    },
    {
      "cell_type": "code",
      "source": [
        "X4_1 = union_train1.loc[:,'year':'return_growth']\n",
        "y4_1 = union_train1['fnc_rsn_unlst_year']\n",
        "union_result4_1 = xgb_smltn(X4_1, y4_1)"
      ],
      "metadata": {
        "id": "0VtW041P_WT9"
      },
      "execution_count": null,
      "outputs": []
    },
    {
      "cell_type": "code",
      "source": [
        "X4_1.columns"
      ],
      "metadata": {
        "id": "lQKK5dA0tjmF"
      },
      "execution_count": null,
      "outputs": []
    },
    {
      "cell_type": "code",
      "source": [
        "print(\"정확도:\",accuracy_score(union_result4_1['y_pred'], union_result4_1['y_real']))"
      ],
      "metadata": {
        "id": "mxCbOK0g_WXF"
      },
      "execution_count": null,
      "outputs": []
    },
    {
      "cell_type": "code",
      "source": [
        "result_count = pd.DataFrame(union_result4_1.groupby(['y_real','y_pred'])['y_pred'].count()).rename(columns={'y_pred':'count'}).reset_index()\n",
        "print(union_result4_1.groupby(['y_real','y_pred'])['y_pred'].count(), '\\n')\n",
        "print('상장폐지를 상장유지로 예측:', result_count['count'][1], '/',result_count['count'][0]+result_count['count'][1])\n",
        "print('상장유지를 상장폐지로 예측:',result_count['count'][2], '/',result_count['count'][2]+result_count['count'][3])\n",
        "print(round(result_count['count'][1]/(result_count['count'][0]+result_count['count'][1]),4))\n",
        "print(round(result_count['count'][2]/(result_count['count'][2]+result_count['count'][3]),4))"
      ],
      "metadata": {
        "id": "ovIOvx8OseNI"
      },
      "execution_count": null,
      "outputs": []
    },
    {
      "cell_type": "markdown",
      "source": [
        "## (2) 마지막 회계결산 재무정보로만 예측 + 지수함수(n=2)"
      ],
      "metadata": {
        "id": "KI8y8PQ26Vku"
      }
    },
    {
      "cell_type": "code",
      "source": [
        "def train_last_non_lnr(df, contained_year):\n",
        "\n",
        "  last_fnc_train = train_last_fnc(df).drop(['fnc_rsn_unlst_year', '코드대분류','최초상장일자', '상장일자', 'unlist_date', 'unlist_reason', 'unlist_year','unlist_reason_ctg', 'fnc_rsn_unlst', 'unlist_mon', 'unlist_last_year'], axis=1)\n",
        "  train_non_linea_data = train_non_linear(df.loc[:,'cash/assets':'fnc_rsn_unlst_year'], contained_year)\n",
        "\n",
        "  result = last_fnc_train.merge(train_non_linea_data, how='outer',on='code_label')\n",
        "\n",
        "  return result\n",
        "  \n",
        "union_train2 = train_last_non_lnr(panel_a, 2)"
      ],
      "metadata": {
        "id": "TPgO1Gzr6Vk4",
        "colab": {
          "base_uri": "https://localhost:8080/"
        },
        "outputId": "4188dbeb-73e5-4187-e7a9-245e57168836"
      },
      "execution_count": null,
      "outputs": [
        {
          "output_type": "stream",
          "name": "stderr",
          "text": [
            "100%|██████████| 3047/3047 [00:16<00:00, 186.17it/s]\n",
            "  0%|          | 0/30 [00:00<?, ?it/s]<ipython-input-34-649cbbb9e786>:20: RuntimeWarning: divide by zero encountered in log\n",
            "  Y = np.log(y)\n",
            "<ipython-input-33-77dc735660f7>:2: RuntimeWarning: invalid value encountered in double_scalars\n",
            "  b = (np.mean(x)*np.mean(Y) - np.mean(x*Y))/(np.mean(x)*np.mean(x)-np.mean(x*x))\n",
            "<ipython-input-33-77dc735660f7>:2: RuntimeWarning: invalid value encountered in multiply\n",
            "  b = (np.mean(x)*np.mean(Y) - np.mean(x*Y))/(np.mean(x)*np.mean(x)-np.mean(x*x))\n",
            "<ipython-input-34-649cbbb9e786>:20: RuntimeWarning: invalid value encountered in log\n",
            "  Y = np.log(y)\n",
            "100%|██████████| 30/30 [01:04<00:00,  2.14s/it]\n",
            "100%|██████████| 3047/3047 [00:18<00:00, 168.61it/s]\n"
          ]
        }
      ]
    },
    {
      "cell_type": "code",
      "source": [
        "X4_2 = union_train2.loc[:,'year':'return_b']\n",
        "y4_2 = union_train2['fnc_rsn_unlst_year']\n",
        "union_result4_2 = xgb_smltn(X4_2, y4_2)"
      ],
      "metadata": {
        "id": "LZ8KIBM96Vk4"
      },
      "execution_count": null,
      "outputs": []
    },
    {
      "cell_type": "code",
      "source": [
        "X4_2.columns"
      ],
      "metadata": {
        "colab": {
          "base_uri": "https://localhost:8080/"
        },
        "id": "-knYxfx5t4fl",
        "outputId": "89837990-d9f7-450a-e995-adb311677d50"
      },
      "execution_count": null,
      "outputs": [
        {
          "output_type": "execute_result",
          "data": {
            "text/plain": [
              "Index(['year', 'cash/assets', 'liabilities/assets', 'liabilities-cash/assets',\n",
              "       'sales/cur_liabilities', 'cur_assets/cur_liabilities',\n",
              "       'retained_earnings/cur_liabilities', 'non_cur_lia/non_cur_lia+worth',\n",
              "       'interest/cash_flow', 'interest/ebitda', 'inven/sales',\n",
              "       'sales/net_income', 'gross_margin/sales', 'sales/retained_earnings',\n",
              "       'change_in_roa', 'change_in_AR', 'change_in_TP', 'assets', 'sales',\n",
              "       'roa', 'sales_grow', 'net_income', 'net_income_grow', 'gross_profit',\n",
              "       'operating_profit', 'retained_earning', 'closing_price',\n",
              "       'revised_price', 'market_capital', 'return', 'cash/assets_a',\n",
              "       'cash/assets_b', 'liabilities/assets_a', 'liabilities/assets_b',\n",
              "       'liabilities-cash/assets_a', 'liabilities-cash/assets_b',\n",
              "       'sales/cur_liabilities_a', 'sales/cur_liabilities_b',\n",
              "       'cur_assets/cur_liabilities_a', 'cur_assets/cur_liabilities_b',\n",
              "       'retained_earnings/cur_liabilities_a',\n",
              "       'retained_earnings/cur_liabilities_b',\n",
              "       'non_cur_lia/non_cur_lia+worth_a', 'non_cur_lia/non_cur_lia+worth_b',\n",
              "       'interest/cash_flow_a', 'interest/cash_flow_b', 'interest/ebitda_a',\n",
              "       'interest/ebitda_b', 'inven/sales_a', 'inven/sales_b',\n",
              "       'sales/net_income_a', 'sales/net_income_b', 'gross_margin/sales_a',\n",
              "       'gross_margin/sales_b', 'sales/retained_earnings_a',\n",
              "       'sales/retained_earnings_b', 'change_in_roa_a', 'change_in_roa_b',\n",
              "       'change_in_AR_a', 'change_in_AR_b', 'change_in_TP_a', 'change_in_TP_b',\n",
              "       'assets_a', 'assets_b', 'sales_a', 'sales_b', 'roa_a', 'roa_b',\n",
              "       'sales_grow_a', 'sales_grow_b', 'net_income_a', 'net_income_b',\n",
              "       'net_income_grow_a', 'net_income_grow_b', 'gross_profit_a',\n",
              "       'gross_profit_b', 'operating_profit_a', 'operating_profit_b',\n",
              "       'retained_earning_a', 'retained_earning_b', 'closing_price_a',\n",
              "       'closing_price_b', 'revised_price_a', 'revised_price_b',\n",
              "       'market_capital_a', 'market_capital_b', 'return_a', 'return_b'],\n",
              "      dtype='object')"
            ]
          },
          "metadata": {},
          "execution_count": 45
        }
      ]
    },
    {
      "cell_type": "code",
      "source": [
        "print(\"정확도:\",accuracy_score(union_result4_2['y_pred'], union_result4_2['y_real']))"
      ],
      "metadata": {
        "id": "TxCgusfY6Vk4",
        "colab": {
          "base_uri": "https://localhost:8080/"
        },
        "outputId": "4d984103-e142-494e-c196-5f7a63ec39ad"
      },
      "execution_count": null,
      "outputs": [
        {
          "output_type": "stream",
          "name": "stdout",
          "text": [
            "정확도: 0.9278688524590164\n"
          ]
        }
      ]
    },
    {
      "cell_type": "code",
      "source": [
        "result_count = pd.DataFrame(union_result4_2.groupby(['y_real','y_pred'])['y_pred'].count()).rename(columns={'y_pred':'count'}).reset_index()\n",
        "print(union_result4_2.groupby(['y_real','y_pred'])['y_pred'].count(), '\\n')\n",
        "print('상장폐지를 상장유지로 예측:', result_count['count'][1], '/',result_count['count'][0]+result_count['count'][1])\n",
        "print('상장유지를 상장폐지로 예측:',result_count['count'][2], '/',result_count['count'][2]+result_count['count'][3])\n",
        "print(round(result_count['count'][1]/(result_count['count'][0]+result_count['count'][1]),4))\n",
        "print(round(result_count['count'][2]/(result_count['count'][2]+result_count['count'][3]),4))"
      ],
      "metadata": {
        "colab": {
          "base_uri": "https://localhost:8080/"
        },
        "outputId": "361480eb-5f5c-499d-e214-ad72c9939e39",
        "id": "kwZAQWdT6Vk4"
      },
      "execution_count": null,
      "outputs": [
        {
          "output_type": "stream",
          "name": "stdout",
          "text": [
            "y_real  y_pred\n",
            "0       0         466\n",
            "        1          38\n",
            "1       0           6\n",
            "        1         100\n",
            "Name: y_pred, dtype: int64 \n",
            "\n",
            "상장폐지를 상장유지로 예측: 38 / 504\n",
            "상장유지를 상장폐지로 예측: 6 / 106\n",
            "0.0754\n",
            "0.0566\n"
          ]
        }
      ]
    },
    {
      "cell_type": "markdown",
      "source": [
        "## (3) 마지막 회계결산 재무정보로만 예측 + 증가율(n=4) + 지수함수(n=2)"
      ],
      "metadata": {
        "id": "myk8poYGkl4j"
      }
    },
    {
      "cell_type": "code",
      "source": [
        "def train_last_grwth_non_lnr(df, contained_year1, contained_year2):\n",
        "\n",
        "  last_fnc_train = train_last_fnc(df).drop(['fnc_rsn_unlst_year', '코드대분류','최초상장일자', '상장일자', 'unlist_date', 'unlist_reason', 'unlist_year','unlist_reason_ctg', 'fnc_rsn_unlst', 'unlist_mon', 'unlist_last_year'], axis=1)\n",
        "  train_growth_data = train_growth_rate(df.loc[:,'cash/assets':'fnc_rsn_unlst_year'], contained_year1)\n",
        "  train_non_linea_data = train_non_linear(df.loc[:,'cash/assets':'fnc_rsn_unlst_year'], contained_year2)\n",
        "\n",
        "  result = last_fnc_train.merge(train_growth_data.drop(['fnc_rsn_unlst_year'],axis=1), how='outer',on='code_label')\n",
        "  result = result.merge(train_non_linea_data, how='outer',on='code_label')\n",
        "\n",
        "  return result\n",
        "  \n",
        "union_train3 = train_last_grwth_non_lnr(panel_a, 4, 2)"
      ],
      "metadata": {
        "id": "rScrU5sn_MbZ",
        "colab": {
          "base_uri": "https://localhost:8080/"
        },
        "outputId": "9c19aadf-7a9d-47fe-809b-2d4a44fd3495"
      },
      "execution_count": null,
      "outputs": [
        {
          "output_type": "stream",
          "name": "stderr",
          "text": [
            "100%|██████████| 3047/3047 [00:17<00:00, 174.97it/s]\n",
            "  0%|          | 0/30 [00:00<?, ?it/s]<ipython-input-28-70b133b319d3>:2: RuntimeWarning: divide by zero encountered in double_scalars\n",
            "  rate = (p1 - p0)/p0 #증가율 계산 = (현재시점-이전시점)/(이전시점)\n",
            "<ipython-input-28-70b133b319d3>:2: RuntimeWarning: invalid value encountered in double_scalars\n",
            "  rate = (p1 - p0)/p0 #증가율 계산 = (현재시점-이전시점)/(이전시점)\n",
            "100%|██████████| 30/30 [00:47<00:00,  1.57s/it]\n",
            "100%|██████████| 3047/3047 [00:20<00:00, 151.51it/s]\n",
            "  0%|          | 0/30 [00:00<?, ?it/s]<ipython-input-34-649cbbb9e786>:20: RuntimeWarning: divide by zero encountered in log\n",
            "  Y = np.log(y)\n",
            "<ipython-input-33-77dc735660f7>:2: RuntimeWarning: invalid value encountered in multiply\n",
            "  b = (np.mean(x)*np.mean(Y) - np.mean(x*Y))/(np.mean(x)*np.mean(x)-np.mean(x*x))\n",
            "<ipython-input-34-649cbbb9e786>:20: RuntimeWarning: invalid value encountered in log\n",
            "  Y = np.log(y)\n",
            "100%|██████████| 30/30 [01:03<00:00,  2.10s/it]\n",
            "100%|██████████| 3047/3047 [00:18<00:00, 161.50it/s]\n"
          ]
        }
      ]
    },
    {
      "cell_type": "code",
      "source": [
        "union_X3 = union_train3.loc[:,'year':'return_b']\n",
        "union_y3 = union_train3['fnc_rsn_unlst_year']\n",
        "\n",
        "union_result3 = xgb_smltn(union_X3, union_y3)"
      ],
      "metadata": {
        "id": "o9pjh8nimkZH"
      },
      "execution_count": null,
      "outputs": []
    },
    {
      "cell_type": "code",
      "source": [
        "union_X3.columns"
      ],
      "metadata": {
        "colab": {
          "base_uri": "https://localhost:8080/"
        },
        "id": "d_b-CFbh8U-Q",
        "outputId": "36ccf23c-05a0-4b49-e430-f52e4baf8143"
      },
      "execution_count": null,
      "outputs": [
        {
          "output_type": "execute_result",
          "data": {
            "text/plain": [
              "Index(['year', 'cash/assets', 'liabilities/assets', 'liabilities-cash/assets',\n",
              "       'sales/cur_liabilities', 'cur_assets/cur_liabilities',\n",
              "       'retained_earnings/cur_liabilities', 'non_cur_lia/non_cur_lia+worth',\n",
              "       'interest/cash_flow', 'interest/ebitda',\n",
              "       ...\n",
              "       'retained_earning_a', 'retained_earning_b', 'closing_price_a',\n",
              "       'closing_price_b', 'revised_price_a', 'revised_price_b',\n",
              "       'market_capital_a', 'market_capital_b', 'return_a', 'return_b'],\n",
              "      dtype='object', length=118)"
            ]
          },
          "metadata": {},
          "execution_count": 50
        }
      ]
    },
    {
      "cell_type": "code",
      "source": [
        "print(\"정확도:\",accuracy_score(union_result3['y_pred'], union_result3['y_real']))"
      ],
      "metadata": {
        "id": "DHnMSXbR_MgN",
        "colab": {
          "base_uri": "https://localhost:8080/"
        },
        "outputId": "a26b3aa0-3c80-4745-c3b9-023ecebf4d0f"
      },
      "execution_count": null,
      "outputs": [
        {
          "output_type": "stream",
          "name": "stdout",
          "text": [
            "정확도: 0.9295081967213115\n"
          ]
        }
      ]
    },
    {
      "cell_type": "code",
      "source": [
        "result_count = pd.DataFrame(union_result3.groupby(['y_real','y_pred'])['y_pred'].count()).rename(columns={'y_pred':'count'}).reset_index()\n",
        "print(union_result3.groupby(['y_real','y_pred'])['y_pred'].count(), '\\n')\n",
        "print('상장폐지를 상장유지로 예측:', result_count['count'][1], '/',result_count['count'][0]+result_count['count'][1])\n",
        "print('상장유지를 상장폐지로 예측:',result_count['count'][2], '/',result_count['count'][2]+result_count['count'][3])\n",
        "print(round(result_count['count'][1]/(result_count['count'][0]+result_count['count'][1]),4))\n",
        "print(round(result_count['count'][2]/(result_count['count'][2]+result_count['count'][3]),4))"
      ],
      "metadata": {
        "id": "CT3cJnSY_Miu",
        "colab": {
          "base_uri": "https://localhost:8080/"
        },
        "outputId": "fda2ed19-0c80-441a-a723-5ff13acc01bf"
      },
      "execution_count": null,
      "outputs": [
        {
          "output_type": "stream",
          "name": "stdout",
          "text": [
            "y_real  y_pred\n",
            "0       0         465\n",
            "        1          39\n",
            "1       0           4\n",
            "        1         102\n",
            "Name: y_pred, dtype: int64 \n",
            "\n",
            "상장폐지를 상장유지로 예측: 39 / 504\n",
            "상장유지를 상장폐지로 예측: 4 / 106\n",
            "0.0774\n",
            "0.0377\n"
          ]
        }
      ]
    },
    {
      "cell_type": "code",
      "source": [],
      "metadata": {
        "id": "dxamD2lS_Mk1"
      },
      "execution_count": null,
      "outputs": []
    },
    {
      "cell_type": "markdown",
      "source": [
        "## (4) 마지막 회계결산 재무정보로만 예측 + row로 나열(n=2) + 증가율(n=4) + 지수함수(n=2)"
      ],
      "metadata": {
        "id": "MuhPSW3B-0rj"
      }
    },
    {
      "cell_type": "code",
      "source": [
        "def train_last_row_grwth_non_lnr(df, contained_year1, contained_year2, contained_year3):\n",
        "\n",
        "  last_fnc_data = train_last_fnc(df).drop(['fnc_rsn_unlst_year', '코드대분류','최초상장일자', '상장일자', 'unlist_date', 'unlist_reason', 'unlist_year','unlist_reason_ctg', 'fnc_rsn_unlst', 'unlist_mon', 'unlist_last_year'], axis=1)\n",
        "  train_row_data = train_row_to_col(panel_a.loc[:,'year':'fnc_rsn_unlst_year'], contained_year2).drop(['fnc_rsn_unlst_year'], axis=1)\n",
        "  train_growth_data = train_growth_rate(panel_a.loc[:,'cash/assets':'fnc_rsn_unlst_year'], contained_year2).drop(['fnc_rsn_unlst_year'], axis=1)\n",
        "  train_non_linea_data = train_non_linear(panel_a.loc[:,'cash/assets':'fnc_rsn_unlst_year'], contained_year3)\n",
        "\n",
        "  result = last_fnc_data.merge(train_row_data, how='outer',on='code_label')\n",
        "  result = result.merge(train_growth_data, how='outer',on='code_label')\n",
        "  result = result.merge(train_non_linea_data, how='outer',on='code_label')\n",
        "\n",
        "  return result\n",
        "  \n",
        "union_train4 = train_last_row_grwth_non_lnr(panel_a, 2, 4, 2)"
      ],
      "metadata": {
        "colab": {
          "base_uri": "https://localhost:8080/",
          "height": 382
        },
        "outputId": "745ffb50-b3aa-40ce-8d10-d08e68efea02",
        "id": "8Lj9jo5D-0rp"
      },
      "execution_count": null,
      "outputs": [
        {
          "output_type": "stream",
          "name": "stderr",
          "text": [
            " 18%|█▊        | 544/3047 [00:01<00:08, 289.26it/s]\n"
          ]
        },
        {
          "output_type": "error",
          "ename": "KeyboardInterrupt",
          "evalue": "ignored",
          "traceback": [
            "\u001b[0;31m---------------------------------------------------------------------------\u001b[0m",
            "\u001b[0;31mKeyboardInterrupt\u001b[0m                         Traceback (most recent call last)",
            "\u001b[0;32m<ipython-input-126-5f62918beae4>\u001b[0m in \u001b[0;36m<module>\u001b[0;34m\u001b[0m\n\u001b[1;32m     12\u001b[0m   \u001b[0;32mreturn\u001b[0m \u001b[0mresult\u001b[0m\u001b[0;34m\u001b[0m\u001b[0;34m\u001b[0m\u001b[0m\n\u001b[1;32m     13\u001b[0m \u001b[0;34m\u001b[0m\u001b[0m\n\u001b[0;32m---> 14\u001b[0;31m \u001b[0munion_train4\u001b[0m \u001b[0;34m=\u001b[0m \u001b[0mtrain_last_row_grwth_non_lnr\u001b[0m\u001b[0;34m(\u001b[0m\u001b[0mpanel_a\u001b[0m\u001b[0;34m,\u001b[0m \u001b[0;36m2\u001b[0m\u001b[0;34m,\u001b[0m \u001b[0;36m4\u001b[0m\u001b[0;34m,\u001b[0m \u001b[0;36m2\u001b[0m\u001b[0;34m)\u001b[0m\u001b[0;34m\u001b[0m\u001b[0;34m\u001b[0m\u001b[0m\n\u001b[0m",
            "\u001b[0;32m<ipython-input-126-5f62918beae4>\u001b[0m in \u001b[0;36mtrain_last_row_grwth_non_lnr\u001b[0;34m(df, contained_year1, contained_year2, contained_year3)\u001b[0m\n\u001b[1;32m      1\u001b[0m \u001b[0;32mdef\u001b[0m \u001b[0mtrain_last_row_grwth_non_lnr\u001b[0m\u001b[0;34m(\u001b[0m\u001b[0mdf\u001b[0m\u001b[0;34m,\u001b[0m \u001b[0mcontained_year1\u001b[0m\u001b[0;34m,\u001b[0m \u001b[0mcontained_year2\u001b[0m\u001b[0;34m,\u001b[0m \u001b[0mcontained_year3\u001b[0m\u001b[0;34m)\u001b[0m\u001b[0;34m:\u001b[0m\u001b[0;34m\u001b[0m\u001b[0;34m\u001b[0m\u001b[0m\n\u001b[1;32m      2\u001b[0m \u001b[0;34m\u001b[0m\u001b[0m\n\u001b[0;32m----> 3\u001b[0;31m   \u001b[0mlast_fnc_data\u001b[0m \u001b[0;34m=\u001b[0m \u001b[0mtrain_last_fnc\u001b[0m\u001b[0;34m(\u001b[0m\u001b[0mdf\u001b[0m\u001b[0;34m)\u001b[0m\u001b[0;34m.\u001b[0m\u001b[0mdrop\u001b[0m\u001b[0;34m(\u001b[0m\u001b[0;34m[\u001b[0m\u001b[0;34m'fnc_rsn_unlst_year'\u001b[0m\u001b[0;34m,\u001b[0m \u001b[0;34m'코드대분류'\u001b[0m\u001b[0;34m,\u001b[0m\u001b[0;34m'최초상장일자'\u001b[0m\u001b[0;34m,\u001b[0m \u001b[0;34m'상장일자'\u001b[0m\u001b[0;34m,\u001b[0m \u001b[0;34m'unlist_date'\u001b[0m\u001b[0;34m,\u001b[0m \u001b[0;34m'unlist_reason'\u001b[0m\u001b[0;34m,\u001b[0m \u001b[0;34m'unlist_year'\u001b[0m\u001b[0;34m,\u001b[0m\u001b[0;34m'unlist_reason_ctg'\u001b[0m\u001b[0;34m,\u001b[0m \u001b[0;34m'fnc_rsn_unlst'\u001b[0m\u001b[0;34m,\u001b[0m \u001b[0;34m'unlist_mon'\u001b[0m\u001b[0;34m,\u001b[0m \u001b[0;34m'unlist_last_year'\u001b[0m\u001b[0;34m]\u001b[0m\u001b[0;34m,\u001b[0m \u001b[0maxis\u001b[0m\u001b[0;34m=\u001b[0m\u001b[0;36m1\u001b[0m\u001b[0;34m)\u001b[0m\u001b[0;34m\u001b[0m\u001b[0;34m\u001b[0m\u001b[0m\n\u001b[0m\u001b[1;32m      4\u001b[0m   \u001b[0mtrain_row_data\u001b[0m \u001b[0;34m=\u001b[0m \u001b[0mtrain_row_to_col\u001b[0m\u001b[0;34m(\u001b[0m\u001b[0mpanel_a\u001b[0m\u001b[0;34m.\u001b[0m\u001b[0mloc\u001b[0m\u001b[0;34m[\u001b[0m\u001b[0;34m:\u001b[0m\u001b[0;34m,\u001b[0m\u001b[0;34m'year'\u001b[0m\u001b[0;34m:\u001b[0m\u001b[0;34m'fnc_rsn_unlst_year'\u001b[0m\u001b[0;34m]\u001b[0m\u001b[0;34m,\u001b[0m \u001b[0mcontained_year2\u001b[0m\u001b[0;34m)\u001b[0m\u001b[0;34m.\u001b[0m\u001b[0mdrop\u001b[0m\u001b[0;34m(\u001b[0m\u001b[0;34m[\u001b[0m\u001b[0;34m'fnc_rsn_unlst_year'\u001b[0m\u001b[0;34m]\u001b[0m\u001b[0;34m,\u001b[0m \u001b[0maxis\u001b[0m\u001b[0;34m=\u001b[0m\u001b[0;36m1\u001b[0m\u001b[0;34m)\u001b[0m\u001b[0;34m\u001b[0m\u001b[0;34m\u001b[0m\u001b[0m\n\u001b[1;32m      5\u001b[0m   \u001b[0mtrain_growth_data\u001b[0m \u001b[0;34m=\u001b[0m \u001b[0mtrain_growth_rate\u001b[0m\u001b[0;34m(\u001b[0m\u001b[0mpanel_a\u001b[0m\u001b[0;34m.\u001b[0m\u001b[0mloc\u001b[0m\u001b[0;34m[\u001b[0m\u001b[0;34m:\u001b[0m\u001b[0;34m,\u001b[0m\u001b[0;34m'cash/assets'\u001b[0m\u001b[0;34m:\u001b[0m\u001b[0;34m'fnc_rsn_unlst_year'\u001b[0m\u001b[0;34m]\u001b[0m\u001b[0;34m,\u001b[0m \u001b[0mcontained_year2\u001b[0m\u001b[0;34m)\u001b[0m\u001b[0;34m.\u001b[0m\u001b[0mdrop\u001b[0m\u001b[0;34m(\u001b[0m\u001b[0;34m[\u001b[0m\u001b[0;34m'fnc_rsn_unlst_year'\u001b[0m\u001b[0;34m]\u001b[0m\u001b[0;34m,\u001b[0m \u001b[0maxis\u001b[0m\u001b[0;34m=\u001b[0m\u001b[0;36m1\u001b[0m\u001b[0;34m)\u001b[0m\u001b[0;34m\u001b[0m\u001b[0;34m\u001b[0m\u001b[0m\n",
            "\u001b[0;32m<ipython-input-20-c438577bab3d>\u001b[0m in \u001b[0;36mtrain_last_fnc\u001b[0;34m(df)\u001b[0m\n\u001b[1;32m      6\u001b[0m \u001b[0;34m\u001b[0m\u001b[0m\n\u001b[1;32m      7\u001b[0m     \u001b[0mfin_year\u001b[0m \u001b[0;34m=\u001b[0m \u001b[0mmax\u001b[0m\u001b[0;34m(\u001b[0m\u001b[0mlist\u001b[0m\u001b[0;34m(\u001b[0m\u001b[0mdf_cor\u001b[0m\u001b[0;34m[\u001b[0m\u001b[0;34m'year'\u001b[0m\u001b[0;34m]\u001b[0m\u001b[0;34m)\u001b[0m\u001b[0;34m)\u001b[0m\u001b[0;34m\u001b[0m\u001b[0;34m\u001b[0m\u001b[0m\n\u001b[0;32m----> 8\u001b[0;31m     \u001b[0mfin_idx\u001b[0m \u001b[0;34m=\u001b[0m \u001b[0mdf_cor\u001b[0m\u001b[0;34m[\u001b[0m\u001b[0mdf_cor\u001b[0m\u001b[0;34m[\u001b[0m\u001b[0;34m'year'\u001b[0m\u001b[0;34m]\u001b[0m\u001b[0;34m==\u001b[0m\u001b[0mfin_year\u001b[0m\u001b[0;34m]\u001b[0m\u001b[0;34m\u001b[0m\u001b[0;34m\u001b[0m\u001b[0m\n\u001b[0m\u001b[1;32m      9\u001b[0m     \u001b[0mtrain\u001b[0m \u001b[0;34m=\u001b[0m \u001b[0mtrain\u001b[0m\u001b[0;34m.\u001b[0m\u001b[0mappend\u001b[0m\u001b[0;34m(\u001b[0m\u001b[0mfin_idx\u001b[0m\u001b[0;34m)\u001b[0m\u001b[0;34m\u001b[0m\u001b[0;34m\u001b[0m\u001b[0m\n\u001b[1;32m     10\u001b[0m \u001b[0;34m\u001b[0m\u001b[0m\n",
            "\u001b[0;32m/usr/local/lib/python3.8/dist-packages/pandas/core/frame.py\u001b[0m in \u001b[0;36m__getitem__\u001b[0;34m(self, key)\u001b[0m\n\u001b[1;32m   3447\u001b[0m         \u001b[0;31m# Do we have a (boolean) 1d indexer?\u001b[0m\u001b[0;34m\u001b[0m\u001b[0;34m\u001b[0m\u001b[0;34m\u001b[0m\u001b[0m\n\u001b[1;32m   3448\u001b[0m         \u001b[0;32mif\u001b[0m \u001b[0mcom\u001b[0m\u001b[0;34m.\u001b[0m\u001b[0mis_bool_indexer\u001b[0m\u001b[0;34m(\u001b[0m\u001b[0mkey\u001b[0m\u001b[0;34m)\u001b[0m\u001b[0;34m:\u001b[0m\u001b[0;34m\u001b[0m\u001b[0;34m\u001b[0m\u001b[0m\n\u001b[0;32m-> 3449\u001b[0;31m             \u001b[0;32mreturn\u001b[0m \u001b[0mself\u001b[0m\u001b[0;34m.\u001b[0m\u001b[0m_getitem_bool_array\u001b[0m\u001b[0;34m(\u001b[0m\u001b[0mkey\u001b[0m\u001b[0;34m)\u001b[0m\u001b[0;34m\u001b[0m\u001b[0;34m\u001b[0m\u001b[0m\n\u001b[0m\u001b[1;32m   3450\u001b[0m \u001b[0;34m\u001b[0m\u001b[0m\n\u001b[1;32m   3451\u001b[0m         \u001b[0;31m# We are left with two options: a single key, and a collection of keys,\u001b[0m\u001b[0;34m\u001b[0m\u001b[0;34m\u001b[0m\u001b[0;34m\u001b[0m\u001b[0m\n",
            "\u001b[0;32m/usr/local/lib/python3.8/dist-packages/pandas/core/frame.py\u001b[0m in \u001b[0;36m_getitem_bool_array\u001b[0;34m(self, key)\u001b[0m\n\u001b[1;32m   3502\u001b[0m         \u001b[0mkey\u001b[0m \u001b[0;34m=\u001b[0m \u001b[0mcheck_bool_indexer\u001b[0m\u001b[0;34m(\u001b[0m\u001b[0mself\u001b[0m\u001b[0;34m.\u001b[0m\u001b[0mindex\u001b[0m\u001b[0;34m,\u001b[0m \u001b[0mkey\u001b[0m\u001b[0;34m)\u001b[0m\u001b[0;34m\u001b[0m\u001b[0;34m\u001b[0m\u001b[0m\n\u001b[1;32m   3503\u001b[0m         \u001b[0mindexer\u001b[0m \u001b[0;34m=\u001b[0m \u001b[0mkey\u001b[0m\u001b[0;34m.\u001b[0m\u001b[0mnonzero\u001b[0m\u001b[0;34m(\u001b[0m\u001b[0;34m)\u001b[0m\u001b[0;34m[\u001b[0m\u001b[0;36m0\u001b[0m\u001b[0;34m]\u001b[0m\u001b[0;34m\u001b[0m\u001b[0;34m\u001b[0m\u001b[0m\n\u001b[0;32m-> 3504\u001b[0;31m         \u001b[0;32mreturn\u001b[0m \u001b[0mself\u001b[0m\u001b[0;34m.\u001b[0m\u001b[0m_take_with_is_copy\u001b[0m\u001b[0;34m(\u001b[0m\u001b[0mindexer\u001b[0m\u001b[0;34m,\u001b[0m \u001b[0maxis\u001b[0m\u001b[0;34m=\u001b[0m\u001b[0;36m0\u001b[0m\u001b[0;34m)\u001b[0m\u001b[0;34m\u001b[0m\u001b[0;34m\u001b[0m\u001b[0m\n\u001b[0m\u001b[1;32m   3505\u001b[0m \u001b[0;34m\u001b[0m\u001b[0m\n\u001b[1;32m   3506\u001b[0m     \u001b[0;32mdef\u001b[0m \u001b[0m_getitem_multilevel\u001b[0m\u001b[0;34m(\u001b[0m\u001b[0mself\u001b[0m\u001b[0;34m,\u001b[0m \u001b[0mkey\u001b[0m\u001b[0;34m)\u001b[0m\u001b[0;34m:\u001b[0m\u001b[0;34m\u001b[0m\u001b[0;34m\u001b[0m\u001b[0m\n",
            "\u001b[0;32m/usr/local/lib/python3.8/dist-packages/pandas/core/generic.py\u001b[0m in \u001b[0;36m_take_with_is_copy\u001b[0;34m(self, indices, axis)\u001b[0m\n\u001b[1;32m   3628\u001b[0m         \u001b[0mresult\u001b[0m \u001b[0;34m=\u001b[0m \u001b[0mself\u001b[0m\u001b[0;34m.\u001b[0m\u001b[0mtake\u001b[0m\u001b[0;34m(\u001b[0m\u001b[0mindices\u001b[0m\u001b[0;34m=\u001b[0m\u001b[0mindices\u001b[0m\u001b[0;34m,\u001b[0m \u001b[0maxis\u001b[0m\u001b[0;34m=\u001b[0m\u001b[0maxis\u001b[0m\u001b[0;34m)\u001b[0m\u001b[0;34m\u001b[0m\u001b[0;34m\u001b[0m\u001b[0m\n\u001b[1;32m   3629\u001b[0m         \u001b[0;31m# Maybe set copy if we didn't actually change the index.\u001b[0m\u001b[0;34m\u001b[0m\u001b[0;34m\u001b[0m\u001b[0;34m\u001b[0m\u001b[0m\n\u001b[0;32m-> 3630\u001b[0;31m         \u001b[0;32mif\u001b[0m \u001b[0;32mnot\u001b[0m \u001b[0mresult\u001b[0m\u001b[0;34m.\u001b[0m\u001b[0m_get_axis\u001b[0m\u001b[0;34m(\u001b[0m\u001b[0maxis\u001b[0m\u001b[0;34m)\u001b[0m\u001b[0;34m.\u001b[0m\u001b[0mequals\u001b[0m\u001b[0;34m(\u001b[0m\u001b[0mself\u001b[0m\u001b[0;34m.\u001b[0m\u001b[0m_get_axis\u001b[0m\u001b[0;34m(\u001b[0m\u001b[0maxis\u001b[0m\u001b[0;34m)\u001b[0m\u001b[0;34m)\u001b[0m\u001b[0;34m:\u001b[0m\u001b[0;34m\u001b[0m\u001b[0;34m\u001b[0m\u001b[0m\n\u001b[0m\u001b[1;32m   3631\u001b[0m             \u001b[0mresult\u001b[0m\u001b[0;34m.\u001b[0m\u001b[0m_set_is_copy\u001b[0m\u001b[0;34m(\u001b[0m\u001b[0mself\u001b[0m\u001b[0;34m)\u001b[0m\u001b[0;34m\u001b[0m\u001b[0;34m\u001b[0m\u001b[0m\n\u001b[1;32m   3632\u001b[0m         \u001b[0;32mreturn\u001b[0m \u001b[0mresult\u001b[0m\u001b[0;34m\u001b[0m\u001b[0;34m\u001b[0m\u001b[0m\n",
            "\u001b[0;32m/usr/local/lib/python3.8/dist-packages/pandas/core/indexes/base.py\u001b[0m in \u001b[0;36mequals\u001b[0;34m(self, other)\u001b[0m\n\u001b[1;32m   4791\u001b[0m             \u001b[0;32mreturn\u001b[0m \u001b[0;32mFalse\u001b[0m\u001b[0;34m\u001b[0m\u001b[0;34m\u001b[0m\u001b[0m\n\u001b[1;32m   4792\u001b[0m \u001b[0;34m\u001b[0m\u001b[0m\n\u001b[0;32m-> 4793\u001b[0;31m         \u001b[0;32mif\u001b[0m \u001b[0mis_object_dtype\u001b[0m\u001b[0;34m(\u001b[0m\u001b[0mself\u001b[0m\u001b[0;34m.\u001b[0m\u001b[0mdtype\u001b[0m\u001b[0;34m)\u001b[0m \u001b[0;32mand\u001b[0m \u001b[0;32mnot\u001b[0m \u001b[0mis_object_dtype\u001b[0m\u001b[0;34m(\u001b[0m\u001b[0mother\u001b[0m\u001b[0;34m.\u001b[0m\u001b[0mdtype\u001b[0m\u001b[0;34m)\u001b[0m\u001b[0;34m:\u001b[0m\u001b[0;34m\u001b[0m\u001b[0;34m\u001b[0m\u001b[0m\n\u001b[0m\u001b[1;32m   4794\u001b[0m             \u001b[0;31m# if other is not object, use other's logic for coercion\u001b[0m\u001b[0;34m\u001b[0m\u001b[0;34m\u001b[0m\u001b[0;34m\u001b[0m\u001b[0m\n\u001b[1;32m   4795\u001b[0m             \u001b[0;32mreturn\u001b[0m \u001b[0mother\u001b[0m\u001b[0;34m.\u001b[0m\u001b[0mequals\u001b[0m\u001b[0;34m(\u001b[0m\u001b[0mself\u001b[0m\u001b[0;34m)\u001b[0m\u001b[0;34m\u001b[0m\u001b[0;34m\u001b[0m\u001b[0m\n",
            "\u001b[0;32m/usr/local/lib/python3.8/dist-packages/pandas/core/dtypes/common.py\u001b[0m in \u001b[0;36mis_object_dtype\u001b[0;34m(arr_or_dtype)\u001b[0m\n\u001b[1;32m    185\u001b[0m     \u001b[0;32mFalse\u001b[0m\u001b[0;34m\u001b[0m\u001b[0;34m\u001b[0m\u001b[0m\n\u001b[1;32m    186\u001b[0m     \"\"\"\n\u001b[0;32m--> 187\u001b[0;31m     \u001b[0;32mreturn\u001b[0m \u001b[0m_is_dtype_type\u001b[0m\u001b[0;34m(\u001b[0m\u001b[0marr_or_dtype\u001b[0m\u001b[0;34m,\u001b[0m \u001b[0mclasses\u001b[0m\u001b[0;34m(\u001b[0m\u001b[0mnp\u001b[0m\u001b[0;34m.\u001b[0m\u001b[0mobject_\u001b[0m\u001b[0;34m)\u001b[0m\u001b[0;34m)\u001b[0m\u001b[0;34m\u001b[0m\u001b[0;34m\u001b[0m\u001b[0m\n\u001b[0m\u001b[1;32m    188\u001b[0m \u001b[0;34m\u001b[0m\u001b[0m\n\u001b[1;32m    189\u001b[0m \u001b[0;34m\u001b[0m\u001b[0m\n",
            "\u001b[0;31mKeyboardInterrupt\u001b[0m: "
          ]
        }
      ]
    },
    {
      "cell_type": "code",
      "source": [
        "union_train4"
      ],
      "metadata": {
        "id": "XOHICU0SIiRi"
      },
      "execution_count": null,
      "outputs": []
    },
    {
      "cell_type": "code",
      "source": [
        "union_X4 = union_train4.loc[:,'year':'return_b']\n",
        "union_y4 = union_train4['fnc_rsn_unlst_year']\n",
        "\n",
        "union_result4 = xgb_smltn(union_X4, union_y4)"
      ],
      "metadata": {
        "id": "oKBrYznY-0rp"
      },
      "execution_count": null,
      "outputs": []
    },
    {
      "cell_type": "code",
      "source": [
        "union_X4.columns"
      ],
      "metadata": {
        "id": "1juhxh-u-0rp"
      },
      "execution_count": null,
      "outputs": []
    },
    {
      "cell_type": "code",
      "source": [
        "print(\"정확도:\",accuracy_score(union_result4['y_pred'], union_result4['y_real']))"
      ],
      "metadata": {
        "id": "4SnNVi2l-0rp"
      },
      "execution_count": null,
      "outputs": []
    },
    {
      "cell_type": "code",
      "source": [
        "result_count = pd.DataFrame(union_result4.groupby(['y_real','y_pred'])['y_pred'].count()).rename(columns={'y_pred':'count'}).reset_index()\n",
        "print(union_result4.groupby(['y_real','y_pred'])['y_pred'].count(), '\\n')\n",
        "print('상장폐지를 상장유지로 예측:', result_count['count'][1], '/',result_count['count'][0]+result_count['count'][1])\n",
        "print('상장유지를 상장폐지로 예측:',result_count['count'][2], '/',result_count['count'][2]+result_count['count'][3])\n",
        "print(round(result_count['count'][1]/(result_count['count'][0]+result_count['count'][1]),4))\n",
        "print(round(result_count['count'][2]/(result_count['count'][2]+result_count['count'][3]),4))"
      ],
      "metadata": {
        "id": "85GCdKcK-0rp"
      },
      "execution_count": null,
      "outputs": []
    },
    {
      "cell_type": "code",
      "source": [],
      "metadata": {
        "id": "MDLEcNug-0rp"
      },
      "execution_count": null,
      "outputs": []
    },
    {
      "cell_type": "markdown",
      "source": [
        "# #5. 응용 모델 & 주식데이터 유무"
      ],
      "metadata": {
        "id": "8-MmmKYSsvZI"
      }
    },
    {
      "cell_type": "markdown",
      "source": [
        "## (1)"
      ],
      "metadata": {
        "id": "Vn_RRb7KkroR"
      }
    },
    {
      "cell_type": "code",
      "source": [
        "def without_stock(df):\n",
        "  X = df.loc[:,'year':'retained_earning']\n",
        "  X['code_label'] = df['code_label']\n",
        "  X['fnc_rsn_unlst_year'] = df['fnc_rsn_unlst_year']\n",
        "\n",
        "  return X\n",
        "\n",
        "panel_a_without_stock = without_stock(panel_a)"
      ],
      "metadata": {
        "id": "VEYBpQp2fVXO"
      },
      "execution_count": null,
      "outputs": []
    },
    {
      "cell_type": "code",
      "source": [
        "def train_last_row_grwth_non_lnr(df, contained_year1, contained_year2, contained_year3):\n",
        "\n",
        "  df_without_stock = without_stock(df)#.drop(['year'], axis=1)\n",
        "\n",
        "  last_fnc_data = train_last_fnc(df).drop(['fnc_rsn_unlst_year', '코드대분류','최초상장일자', '상장일자', 'unlist_date', 'unlist_reason', 'unlist_year','unlist_reason_ctg', 'fnc_rsn_unlst', 'unlist_mon', 'unlist_last_year'], axis=1)\n",
        "  train_row_data = train_row_to_col(df_without_stock.loc[:,'year':'fnc_rsn_unlst_year'], contained_year2).drop(['fnc_rsn_unlst_year'], axis=1)\n",
        "  train_growth_data = train_growth_rate(df.loc[:,'cash/assets':'fnc_rsn_unlst_year'], contained_year2).drop(['fnc_rsn_unlst_year'], axis=1)\n",
        "  train_non_linea_data = train_non_linear(df.loc[:,'cash/assets':'fnc_rsn_unlst_year'], contained_year3)\n",
        "\n",
        "  result = last_fnc_data.merge(train_row_data, how='outer',on='code_label')\n",
        "  result = result.merge(train_growth_data, how='outer',on='code_label')\n",
        "  result = result.merge(train_non_linea_data, how='outer',on='code_label')\n",
        "\n",
        "  return result\n",
        "  \n",
        "union_train5 = train_last_row_grwth_non_lnr(panel_a, 2, 4, 2)"
      ],
      "metadata": {
        "colab": {
          "base_uri": "https://localhost:8080/"
        },
        "id": "FYxITXQWLCWT",
        "outputId": "8caac0a6-9aa9-4dd6-fdee-543dd73b95c7"
      },
      "execution_count": null,
      "outputs": [
        {
          "output_type": "stream",
          "name": "stderr",
          "text": [
            "100%|██████████| 3047/3047 [00:14<00:00, 203.92it/s]\n",
            "100%|██████████| 3047/3047 [00:16<00:00, 184.60it/s]\n",
            "100%|██████████| 2978/2978 [00:15<00:00, 187.32it/s]\n",
            "  0%|          | 0/30 [00:00<?, ?it/s]<ipython-input-28-70b133b319d3>:2: RuntimeWarning: divide by zero encountered in double_scalars\n",
            "  rate = (p1 - p0)/p0 #증가율 계산 = (현재시점-이전시점)/(이전시점)\n",
            "<ipython-input-28-70b133b319d3>:2: RuntimeWarning: invalid value encountered in double_scalars\n",
            "  rate = (p1 - p0)/p0 #증가율 계산 = (현재시점-이전시점)/(이전시점)\n",
            "100%|██████████| 30/30 [00:47<00:00,  1.59s/it]\n",
            "100%|██████████| 3047/3047 [00:18<00:00, 168.92it/s]\n",
            "  0%|          | 0/30 [00:00<?, ?it/s]<ipython-input-34-649cbbb9e786>:20: RuntimeWarning: divide by zero encountered in log\n",
            "  Y = np.log(y)\n",
            "<ipython-input-33-77dc735660f7>:2: RuntimeWarning: invalid value encountered in multiply\n",
            "  b = (np.mean(x)*np.mean(Y) - np.mean(x*Y))/(np.mean(x)*np.mean(x)-np.mean(x*x))\n",
            "<ipython-input-34-649cbbb9e786>:20: RuntimeWarning: invalid value encountered in log\n",
            "  Y = np.log(y)\n",
            "100%|██████████| 30/30 [01:01<00:00,  2.06s/it]\n",
            "100%|██████████| 3047/3047 [00:16<00:00, 187.92it/s]\n"
          ]
        }
      ]
    },
    {
      "cell_type": "code",
      "source": [
        "union_train5"
      ],
      "metadata": {
        "colab": {
          "base_uri": "https://localhost:8080/"
        },
        "id": "kP9jhCIuPJNn",
        "outputId": "e77214b9-49d7-4fec-970b-5c7a48e5d45e"
      },
      "execution_count": null,
      "outputs": [
        {
          "output_type": "execute_result",
          "data": {
            "text/plain": [
              "         code  cor_name  Accounting_Closing  year  cash/assets  \\\n",
              "0     A005930      삼성전자                12.0  2021     0.091490   \n",
              "1     A373220  LG에너지솔루션                12.0  2021     0.053984   \n",
              "2     A000660    SK하이닉스                12.0  2021     0.052476   \n",
              "3     A207940  삼성바이오로직스                12.0  2021     0.005949   \n",
              "4     A006400     삼성SDI                12.0  2021     0.090027   \n",
              "...       ...       ...                 ...   ...          ...   \n",
              "3042  A900180        완리                12.0  2017     0.170397   \n",
              "3043  A950010  평산차업 KDR                12.0  2014     0.296593   \n",
              "3044  A950030    네프로아이티                 3.0  2010     0.073408   \n",
              "3045  A950070      중국고섬                12.0  2012     0.008260   \n",
              "3046  A950180       SNK                 7.0  2021     0.694562   \n",
              "\n",
              "      liabilities/assets  liabilities-cash/assets  sales/cur_liabilities  \\\n",
              "0               0.285315                 0.193825               3.173104   \n",
              "1               0.632119                 0.578135               1.884302   \n",
              "2               0.354774                 0.302298               2.911284   \n",
              "3               0.373765                 0.367816               1.416070   \n",
              "4               0.411737                 0.321710               2.097604   \n",
              "...                  ...                      ...                    ...   \n",
              "3042            0.315057                 0.144660               1.837878   \n",
              "3043            0.284505                -0.012087               0.525747   \n",
              "3044            0.707520                 0.634112               0.880812   \n",
              "3045            0.425390                 0.417130               0.599048   \n",
              "3046            0.101859                -0.592702               2.830798   \n",
              "\n",
              "      cur_assets/cur_liabilities  retained_earnings/cur_liabilities  ...  \\\n",
              "0                       2.475832                           3.325854  ...   \n",
              "1                       1.006524                           0.035633  ...   \n",
              "2                       1.819338                           3.777014  ...   \n",
              "3                       2.549615                           2.119749  ...   \n",
              "4                       1.152233                           1.318077  ...   \n",
              "...                          ...                                ...  ...   \n",
              "3042                    1.693219                           2.568629  ...   \n",
              "3043                    2.115551                          -0.425187  ...   \n",
              "3044                    0.828345                          -1.541515  ...   \n",
              "3045                    0.343097                          -0.671742  ...   \n",
              "3046                    9.826040                           1.322351  ...   \n",
              "\n",
              "      retained_earning_b  closing_price_a  closing_price_b  revised_price_a  \\\n",
              "0               0.078023          81000.0        -0.033902          55200.0   \n",
              "1                    NaN              NaN              NaN              NaN   \n",
              "2               0.171432         118500.0         0.100284          94700.0   \n",
              "3               0.183545         826000.0         0.089128         423485.0   \n",
              "4               0.138079         628000.0         0.042095         232000.0   \n",
              "...                  ...              ...              ...              ...   \n",
              "3042            0.024877           1210.0        -0.971506           2007.0   \n",
              "3043                 NaN           1525.0        -0.793058           1510.0   \n",
              "3044                 NaN           5010.0        -1.222778           8811.0   \n",
              "3045                 NaN           4165.0        -0.000000           5900.0   \n",
              "3046           -1.260612          13400.0         0.461102          18550.0   \n",
              "\n",
              "      revised_price_b  market_capital_a  market_capital_b  return_a  return_b  \\\n",
              "0            0.407878      5.441168e+08         -0.033818       NaN       NaN   \n",
              "1                 NaN               NaN               NaN       NaN       NaN   \n",
              "2            0.285568      8.626828e+07          0.100284     25.93 -0.899275   \n",
              "3            0.659930      5.465229e+07          0.089128     90.76 -2.276056   \n",
              "4            1.062032      4.367758e+07          0.043103    166.10 -3.653975   \n",
              "...               ...               ...               ...       ...       ...   \n",
              "3042        -0.660309      1.240340e+05         -0.922733       NaN       NaN   \n",
              "3043        -0.075637      7.325000e+03         -0.793137       NaN       NaN   \n",
              "3044        -0.425063      2.505000e+04         -1.040456       NaN       NaN   \n",
              "3045        -0.348236      1.249500e+05         -0.000000       NaN       NaN   \n",
              "3046        -0.363242      2.822280e+05          0.461102     41.56  0.353107   \n",
              "\n",
              "      fnc_rsn_unlst_year  \n",
              "0                      0  \n",
              "1                      0  \n",
              "2                      0  \n",
              "3                      0  \n",
              "4                      0  \n",
              "...                  ...  \n",
              "3042                   1  \n",
              "3043                   1  \n",
              "3044                   1  \n",
              "3045                   1  \n",
              "3046                   0  \n",
              "\n",
              "[3047 rows x 222 columns]"
            ],
            "text/html": [
              "\n",
              "  <div id=\"df-5f9e4331-243a-4da3-baac-10d950e094aa\">\n",
              "    <div class=\"colab-df-container\">\n",
              "      <div>\n",
              "<style scoped>\n",
              "    .dataframe tbody tr th:only-of-type {\n",
              "        vertical-align: middle;\n",
              "    }\n",
              "\n",
              "    .dataframe tbody tr th {\n",
              "        vertical-align: top;\n",
              "    }\n",
              "\n",
              "    .dataframe thead th {\n",
              "        text-align: right;\n",
              "    }\n",
              "</style>\n",
              "<table border=\"1\" class=\"dataframe\">\n",
              "  <thead>\n",
              "    <tr style=\"text-align: right;\">\n",
              "      <th></th>\n",
              "      <th>code</th>\n",
              "      <th>cor_name</th>\n",
              "      <th>Accounting_Closing</th>\n",
              "      <th>year</th>\n",
              "      <th>cash/assets</th>\n",
              "      <th>liabilities/assets</th>\n",
              "      <th>liabilities-cash/assets</th>\n",
              "      <th>sales/cur_liabilities</th>\n",
              "      <th>cur_assets/cur_liabilities</th>\n",
              "      <th>retained_earnings/cur_liabilities</th>\n",
              "      <th>...</th>\n",
              "      <th>retained_earning_b</th>\n",
              "      <th>closing_price_a</th>\n",
              "      <th>closing_price_b</th>\n",
              "      <th>revised_price_a</th>\n",
              "      <th>revised_price_b</th>\n",
              "      <th>market_capital_a</th>\n",
              "      <th>market_capital_b</th>\n",
              "      <th>return_a</th>\n",
              "      <th>return_b</th>\n",
              "      <th>fnc_rsn_unlst_year</th>\n",
              "    </tr>\n",
              "  </thead>\n",
              "  <tbody>\n",
              "    <tr>\n",
              "      <th>0</th>\n",
              "      <td>A005930</td>\n",
              "      <td>삼성전자</td>\n",
              "      <td>12.0</td>\n",
              "      <td>2021</td>\n",
              "      <td>0.091490</td>\n",
              "      <td>0.285315</td>\n",
              "      <td>0.193825</td>\n",
              "      <td>3.173104</td>\n",
              "      <td>2.475832</td>\n",
              "      <td>3.325854</td>\n",
              "      <td>...</td>\n",
              "      <td>0.078023</td>\n",
              "      <td>81000.0</td>\n",
              "      <td>-0.033902</td>\n",
              "      <td>55200.0</td>\n",
              "      <td>0.407878</td>\n",
              "      <td>5.441168e+08</td>\n",
              "      <td>-0.033818</td>\n",
              "      <td>NaN</td>\n",
              "      <td>NaN</td>\n",
              "      <td>0</td>\n",
              "    </tr>\n",
              "    <tr>\n",
              "      <th>1</th>\n",
              "      <td>A373220</td>\n",
              "      <td>LG에너지솔루션</td>\n",
              "      <td>12.0</td>\n",
              "      <td>2021</td>\n",
              "      <td>0.053984</td>\n",
              "      <td>0.632119</td>\n",
              "      <td>0.578135</td>\n",
              "      <td>1.884302</td>\n",
              "      <td>1.006524</td>\n",
              "      <td>0.035633</td>\n",
              "      <td>...</td>\n",
              "      <td>NaN</td>\n",
              "      <td>NaN</td>\n",
              "      <td>NaN</td>\n",
              "      <td>NaN</td>\n",
              "      <td>NaN</td>\n",
              "      <td>NaN</td>\n",
              "      <td>NaN</td>\n",
              "      <td>NaN</td>\n",
              "      <td>NaN</td>\n",
              "      <td>0</td>\n",
              "    </tr>\n",
              "    <tr>\n",
              "      <th>2</th>\n",
              "      <td>A000660</td>\n",
              "      <td>SK하이닉스</td>\n",
              "      <td>12.0</td>\n",
              "      <td>2021</td>\n",
              "      <td>0.052476</td>\n",
              "      <td>0.354774</td>\n",
              "      <td>0.302298</td>\n",
              "      <td>2.911284</td>\n",
              "      <td>1.819338</td>\n",
              "      <td>3.777014</td>\n",
              "      <td>...</td>\n",
              "      <td>0.171432</td>\n",
              "      <td>118500.0</td>\n",
              "      <td>0.100284</td>\n",
              "      <td>94700.0</td>\n",
              "      <td>0.285568</td>\n",
              "      <td>8.626828e+07</td>\n",
              "      <td>0.100284</td>\n",
              "      <td>25.93</td>\n",
              "      <td>-0.899275</td>\n",
              "      <td>0</td>\n",
              "    </tr>\n",
              "    <tr>\n",
              "      <th>3</th>\n",
              "      <td>A207940</td>\n",
              "      <td>삼성바이오로직스</td>\n",
              "      <td>12.0</td>\n",
              "      <td>2021</td>\n",
              "      <td>0.005949</td>\n",
              "      <td>0.373765</td>\n",
              "      <td>0.367816</td>\n",
              "      <td>1.416070</td>\n",
              "      <td>2.549615</td>\n",
              "      <td>2.119749</td>\n",
              "      <td>...</td>\n",
              "      <td>0.183545</td>\n",
              "      <td>826000.0</td>\n",
              "      <td>0.089128</td>\n",
              "      <td>423485.0</td>\n",
              "      <td>0.659930</td>\n",
              "      <td>5.465229e+07</td>\n",
              "      <td>0.089128</td>\n",
              "      <td>90.76</td>\n",
              "      <td>-2.276056</td>\n",
              "      <td>0</td>\n",
              "    </tr>\n",
              "    <tr>\n",
              "      <th>4</th>\n",
              "      <td>A006400</td>\n",
              "      <td>삼성SDI</td>\n",
              "      <td>12.0</td>\n",
              "      <td>2021</td>\n",
              "      <td>0.090027</td>\n",
              "      <td>0.411737</td>\n",
              "      <td>0.321710</td>\n",
              "      <td>2.097604</td>\n",
              "      <td>1.152233</td>\n",
              "      <td>1.318077</td>\n",
              "      <td>...</td>\n",
              "      <td>0.138079</td>\n",
              "      <td>628000.0</td>\n",
              "      <td>0.042095</td>\n",
              "      <td>232000.0</td>\n",
              "      <td>1.062032</td>\n",
              "      <td>4.367758e+07</td>\n",
              "      <td>0.043103</td>\n",
              "      <td>166.10</td>\n",
              "      <td>-3.653975</td>\n",
              "      <td>0</td>\n",
              "    </tr>\n",
              "    <tr>\n",
              "      <th>...</th>\n",
              "      <td>...</td>\n",
              "      <td>...</td>\n",
              "      <td>...</td>\n",
              "      <td>...</td>\n",
              "      <td>...</td>\n",
              "      <td>...</td>\n",
              "      <td>...</td>\n",
              "      <td>...</td>\n",
              "      <td>...</td>\n",
              "      <td>...</td>\n",
              "      <td>...</td>\n",
              "      <td>...</td>\n",
              "      <td>...</td>\n",
              "      <td>...</td>\n",
              "      <td>...</td>\n",
              "      <td>...</td>\n",
              "      <td>...</td>\n",
              "      <td>...</td>\n",
              "      <td>...</td>\n",
              "      <td>...</td>\n",
              "      <td>...</td>\n",
              "    </tr>\n",
              "    <tr>\n",
              "      <th>3042</th>\n",
              "      <td>A900180</td>\n",
              "      <td>완리</td>\n",
              "      <td>12.0</td>\n",
              "      <td>2017</td>\n",
              "      <td>0.170397</td>\n",
              "      <td>0.315057</td>\n",
              "      <td>0.144660</td>\n",
              "      <td>1.837878</td>\n",
              "      <td>1.693219</td>\n",
              "      <td>2.568629</td>\n",
              "      <td>...</td>\n",
              "      <td>0.024877</td>\n",
              "      <td>1210.0</td>\n",
              "      <td>-0.971506</td>\n",
              "      <td>2007.0</td>\n",
              "      <td>-0.660309</td>\n",
              "      <td>1.240340e+05</td>\n",
              "      <td>-0.922733</td>\n",
              "      <td>NaN</td>\n",
              "      <td>NaN</td>\n",
              "      <td>1</td>\n",
              "    </tr>\n",
              "    <tr>\n",
              "      <th>3043</th>\n",
              "      <td>A950010</td>\n",
              "      <td>평산차업 KDR</td>\n",
              "      <td>12.0</td>\n",
              "      <td>2014</td>\n",
              "      <td>0.296593</td>\n",
              "      <td>0.284505</td>\n",
              "      <td>-0.012087</td>\n",
              "      <td>0.525747</td>\n",
              "      <td>2.115551</td>\n",
              "      <td>-0.425187</td>\n",
              "      <td>...</td>\n",
              "      <td>NaN</td>\n",
              "      <td>1525.0</td>\n",
              "      <td>-0.793058</td>\n",
              "      <td>1510.0</td>\n",
              "      <td>-0.075637</td>\n",
              "      <td>7.325000e+03</td>\n",
              "      <td>-0.793137</td>\n",
              "      <td>NaN</td>\n",
              "      <td>NaN</td>\n",
              "      <td>1</td>\n",
              "    </tr>\n",
              "    <tr>\n",
              "      <th>3044</th>\n",
              "      <td>A950030</td>\n",
              "      <td>네프로아이티</td>\n",
              "      <td>3.0</td>\n",
              "      <td>2010</td>\n",
              "      <td>0.073408</td>\n",
              "      <td>0.707520</td>\n",
              "      <td>0.634112</td>\n",
              "      <td>0.880812</td>\n",
              "      <td>0.828345</td>\n",
              "      <td>-1.541515</td>\n",
              "      <td>...</td>\n",
              "      <td>NaN</td>\n",
              "      <td>5010.0</td>\n",
              "      <td>-1.222778</td>\n",
              "      <td>8811.0</td>\n",
              "      <td>-0.425063</td>\n",
              "      <td>2.505000e+04</td>\n",
              "      <td>-1.040456</td>\n",
              "      <td>NaN</td>\n",
              "      <td>NaN</td>\n",
              "      <td>1</td>\n",
              "    </tr>\n",
              "    <tr>\n",
              "      <th>3045</th>\n",
              "      <td>A950070</td>\n",
              "      <td>중국고섬</td>\n",
              "      <td>12.0</td>\n",
              "      <td>2012</td>\n",
              "      <td>0.008260</td>\n",
              "      <td>0.425390</td>\n",
              "      <td>0.417130</td>\n",
              "      <td>0.599048</td>\n",
              "      <td>0.343097</td>\n",
              "      <td>-0.671742</td>\n",
              "      <td>...</td>\n",
              "      <td>NaN</td>\n",
              "      <td>4165.0</td>\n",
              "      <td>-0.000000</td>\n",
              "      <td>5900.0</td>\n",
              "      <td>-0.348236</td>\n",
              "      <td>1.249500e+05</td>\n",
              "      <td>-0.000000</td>\n",
              "      <td>NaN</td>\n",
              "      <td>NaN</td>\n",
              "      <td>1</td>\n",
              "    </tr>\n",
              "    <tr>\n",
              "      <th>3046</th>\n",
              "      <td>A950180</td>\n",
              "      <td>SNK</td>\n",
              "      <td>7.0</td>\n",
              "      <td>2021</td>\n",
              "      <td>0.694562</td>\n",
              "      <td>0.101859</td>\n",
              "      <td>-0.592702</td>\n",
              "      <td>2.830798</td>\n",
              "      <td>9.826040</td>\n",
              "      <td>1.322351</td>\n",
              "      <td>...</td>\n",
              "      <td>-1.260612</td>\n",
              "      <td>13400.0</td>\n",
              "      <td>0.461102</td>\n",
              "      <td>18550.0</td>\n",
              "      <td>-0.363242</td>\n",
              "      <td>2.822280e+05</td>\n",
              "      <td>0.461102</td>\n",
              "      <td>41.56</td>\n",
              "      <td>0.353107</td>\n",
              "      <td>0</td>\n",
              "    </tr>\n",
              "  </tbody>\n",
              "</table>\n",
              "<p>3047 rows × 222 columns</p>\n",
              "</div>\n",
              "      <button class=\"colab-df-convert\" onclick=\"convertToInteractive('df-5f9e4331-243a-4da3-baac-10d950e094aa')\"\n",
              "              title=\"Convert this dataframe to an interactive table.\"\n",
              "              style=\"display:none;\">\n",
              "        \n",
              "  <svg xmlns=\"http://www.w3.org/2000/svg\" height=\"24px\"viewBox=\"0 0 24 24\"\n",
              "       width=\"24px\">\n",
              "    <path d=\"M0 0h24v24H0V0z\" fill=\"none\"/>\n",
              "    <path d=\"M18.56 5.44l.94 2.06.94-2.06 2.06-.94-2.06-.94-.94-2.06-.94 2.06-2.06.94zm-11 1L8.5 8.5l.94-2.06 2.06-.94-2.06-.94L8.5 2.5l-.94 2.06-2.06.94zm10 10l.94 2.06.94-2.06 2.06-.94-2.06-.94-.94-2.06-.94 2.06-2.06.94z\"/><path d=\"M17.41 7.96l-1.37-1.37c-.4-.4-.92-.59-1.43-.59-.52 0-1.04.2-1.43.59L10.3 9.45l-7.72 7.72c-.78.78-.78 2.05 0 2.83L4 21.41c.39.39.9.59 1.41.59.51 0 1.02-.2 1.41-.59l7.78-7.78 2.81-2.81c.8-.78.8-2.07 0-2.86zM5.41 20L4 18.59l7.72-7.72 1.47 1.35L5.41 20z\"/>\n",
              "  </svg>\n",
              "      </button>\n",
              "      \n",
              "  <style>\n",
              "    .colab-df-container {\n",
              "      display:flex;\n",
              "      flex-wrap:wrap;\n",
              "      gap: 12px;\n",
              "    }\n",
              "\n",
              "    .colab-df-convert {\n",
              "      background-color: #E8F0FE;\n",
              "      border: none;\n",
              "      border-radius: 50%;\n",
              "      cursor: pointer;\n",
              "      display: none;\n",
              "      fill: #1967D2;\n",
              "      height: 32px;\n",
              "      padding: 0 0 0 0;\n",
              "      width: 32px;\n",
              "    }\n",
              "\n",
              "    .colab-df-convert:hover {\n",
              "      background-color: #E2EBFA;\n",
              "      box-shadow: 0px 1px 2px rgba(60, 64, 67, 0.3), 0px 1px 3px 1px rgba(60, 64, 67, 0.15);\n",
              "      fill: #174EA6;\n",
              "    }\n",
              "\n",
              "    [theme=dark] .colab-df-convert {\n",
              "      background-color: #3B4455;\n",
              "      fill: #D2E3FC;\n",
              "    }\n",
              "\n",
              "    [theme=dark] .colab-df-convert:hover {\n",
              "      background-color: #434B5C;\n",
              "      box-shadow: 0px 1px 3px 1px rgba(0, 0, 0, 0.15);\n",
              "      filter: drop-shadow(0px 1px 2px rgba(0, 0, 0, 0.3));\n",
              "      fill: #FFFFFF;\n",
              "    }\n",
              "  </style>\n",
              "\n",
              "      <script>\n",
              "        const buttonEl =\n",
              "          document.querySelector('#df-5f9e4331-243a-4da3-baac-10d950e094aa button.colab-df-convert');\n",
              "        buttonEl.style.display =\n",
              "          google.colab.kernel.accessAllowed ? 'block' : 'none';\n",
              "\n",
              "        async function convertToInteractive(key) {\n",
              "          const element = document.querySelector('#df-5f9e4331-243a-4da3-baac-10d950e094aa');\n",
              "          const dataTable =\n",
              "            await google.colab.kernel.invokeFunction('convertToInteractive',\n",
              "                                                     [key], {});\n",
              "          if (!dataTable) return;\n",
              "\n",
              "          const docLinkHtml = 'Like what you see? Visit the ' +\n",
              "            '<a target=\"_blank\" href=https://colab.research.google.com/notebooks/data_table.ipynb>data table notebook</a>'\n",
              "            + ' to learn more about interactive tables.';\n",
              "          element.innerHTML = '';\n",
              "          dataTable['output_type'] = 'display_data';\n",
              "          await google.colab.output.renderOutput(dataTable, element);\n",
              "          const docLink = document.createElement('div');\n",
              "          docLink.innerHTML = docLinkHtml;\n",
              "          element.appendChild(docLink);\n",
              "        }\n",
              "      </script>\n",
              "    </div>\n",
              "  </div>\n",
              "  "
            ]
          },
          "metadata": {},
          "execution_count": 129
        }
      ]
    },
    {
      "cell_type": "code",
      "source": [
        "union_X5 = union_train5.loc[:,'year':'retained_earning_b']\n",
        "union_y5 = union_train5['fnc_rsn_unlst_year']\n",
        "\n",
        "union_result5 = xgb_smltn(union_X5, union_y5)"
      ],
      "metadata": {
        "id": "cbn4XCoW4_Vf",
        "colab": {
          "base_uri": "https://localhost:8080/"
        },
        "outputId": "f8b2dc1d-8873-4831-bf30-e2551228893d"
      },
      "execution_count": null,
      "outputs": [
        {
          "output_type": "stream",
          "name": "stdout",
          "text": [
            "[0]\tvalidation_0-error:0.078689\n",
            "Will train until validation_0-error hasn't improved in 100 rounds.\n",
            "[1]\tvalidation_0-error:0.077049\n",
            "[2]\tvalidation_0-error:0.077049\n",
            "[3]\tvalidation_0-error:0.080328\n",
            "[4]\tvalidation_0-error:0.07541\n",
            "[5]\tvalidation_0-error:0.07541\n",
            "[6]\tvalidation_0-error:0.07541\n",
            "[7]\tvalidation_0-error:0.07541\n",
            "[8]\tvalidation_0-error:0.072131\n",
            "[9]\tvalidation_0-error:0.072131\n",
            "[10]\tvalidation_0-error:0.07377\n",
            "[11]\tvalidation_0-error:0.07377\n",
            "[12]\tvalidation_0-error:0.072131\n",
            "[13]\tvalidation_0-error:0.072131\n",
            "[14]\tvalidation_0-error:0.072131\n",
            "[15]\tvalidation_0-error:0.072131\n",
            "[16]\tvalidation_0-error:0.072131\n",
            "[17]\tvalidation_0-error:0.072131\n",
            "[18]\tvalidation_0-error:0.072131\n",
            "[19]\tvalidation_0-error:0.072131\n",
            "[20]\tvalidation_0-error:0.072131\n",
            "[21]\tvalidation_0-error:0.072131\n",
            "[22]\tvalidation_0-error:0.072131\n",
            "[23]\tvalidation_0-error:0.072131\n",
            "[24]\tvalidation_0-error:0.070492\n",
            "[25]\tvalidation_0-error:0.070492\n",
            "[26]\tvalidation_0-error:0.07377\n",
            "[27]\tvalidation_0-error:0.072131\n",
            "[28]\tvalidation_0-error:0.07541\n",
            "[29]\tvalidation_0-error:0.07541\n",
            "[30]\tvalidation_0-error:0.07541\n",
            "[31]\tvalidation_0-error:0.07541\n",
            "[32]\tvalidation_0-error:0.07541\n",
            "[33]\tvalidation_0-error:0.07541\n",
            "[34]\tvalidation_0-error:0.07541\n",
            "[35]\tvalidation_0-error:0.07541\n",
            "[36]\tvalidation_0-error:0.07541\n",
            "[37]\tvalidation_0-error:0.077049\n",
            "[38]\tvalidation_0-error:0.078689\n",
            "[39]\tvalidation_0-error:0.077049\n",
            "[40]\tvalidation_0-error:0.078689\n",
            "[41]\tvalidation_0-error:0.078689\n",
            "[42]\tvalidation_0-error:0.077049\n",
            "[43]\tvalidation_0-error:0.07541\n",
            "[44]\tvalidation_0-error:0.077049\n",
            "[45]\tvalidation_0-error:0.077049\n",
            "[46]\tvalidation_0-error:0.07541\n",
            "[47]\tvalidation_0-error:0.07377\n",
            "[48]\tvalidation_0-error:0.07377\n",
            "[49]\tvalidation_0-error:0.07377\n",
            "[50]\tvalidation_0-error:0.07377\n",
            "[51]\tvalidation_0-error:0.078689\n",
            "[52]\tvalidation_0-error:0.077049\n",
            "[53]\tvalidation_0-error:0.077049\n",
            "[54]\tvalidation_0-error:0.078689\n",
            "[55]\tvalidation_0-error:0.077049\n",
            "[56]\tvalidation_0-error:0.07541\n",
            "[57]\tvalidation_0-error:0.078689\n",
            "[58]\tvalidation_0-error:0.078689\n",
            "[59]\tvalidation_0-error:0.077049\n",
            "[60]\tvalidation_0-error:0.078689\n",
            "[61]\tvalidation_0-error:0.077049\n",
            "[62]\tvalidation_0-error:0.077049\n",
            "[63]\tvalidation_0-error:0.077049\n",
            "[64]\tvalidation_0-error:0.077049\n",
            "[65]\tvalidation_0-error:0.077049\n",
            "[66]\tvalidation_0-error:0.07377\n",
            "[67]\tvalidation_0-error:0.07541\n",
            "[68]\tvalidation_0-error:0.077049\n",
            "[69]\tvalidation_0-error:0.077049\n",
            "[70]\tvalidation_0-error:0.077049\n",
            "[71]\tvalidation_0-error:0.077049\n",
            "[72]\tvalidation_0-error:0.078689\n",
            "[73]\tvalidation_0-error:0.078689\n",
            "[74]\tvalidation_0-error:0.078689\n",
            "[75]\tvalidation_0-error:0.078689\n",
            "[76]\tvalidation_0-error:0.077049\n",
            "[77]\tvalidation_0-error:0.078689\n",
            "[78]\tvalidation_0-error:0.078689\n",
            "[79]\tvalidation_0-error:0.078689\n",
            "[80]\tvalidation_0-error:0.078689\n",
            "[81]\tvalidation_0-error:0.078689\n",
            "[82]\tvalidation_0-error:0.078689\n",
            "[83]\tvalidation_0-error:0.080328\n",
            "[84]\tvalidation_0-error:0.081967\n",
            "[85]\tvalidation_0-error:0.081967\n",
            "[86]\tvalidation_0-error:0.081967\n",
            "[87]\tvalidation_0-error:0.081967\n",
            "[88]\tvalidation_0-error:0.081967\n",
            "[89]\tvalidation_0-error:0.083607\n",
            "[90]\tvalidation_0-error:0.081967\n",
            "[91]\tvalidation_0-error:0.081967\n",
            "[92]\tvalidation_0-error:0.083607\n",
            "[93]\tvalidation_0-error:0.080328\n",
            "[94]\tvalidation_0-error:0.080328\n",
            "[95]\tvalidation_0-error:0.081967\n",
            "[96]\tvalidation_0-error:0.080328\n",
            "[97]\tvalidation_0-error:0.080328\n",
            "[98]\tvalidation_0-error:0.080328\n",
            "[99]\tvalidation_0-error:0.081967\n",
            "[100]\tvalidation_0-error:0.081967\n",
            "[101]\tvalidation_0-error:0.081967\n",
            "[102]\tvalidation_0-error:0.081967\n",
            "[103]\tvalidation_0-error:0.081967\n",
            "[104]\tvalidation_0-error:0.081967\n",
            "[105]\tvalidation_0-error:0.081967\n",
            "[106]\tvalidation_0-error:0.081967\n",
            "[107]\tvalidation_0-error:0.081967\n",
            "[108]\tvalidation_0-error:0.081967\n",
            "[109]\tvalidation_0-error:0.081967\n",
            "[110]\tvalidation_0-error:0.081967\n",
            "[111]\tvalidation_0-error:0.081967\n",
            "[112]\tvalidation_0-error:0.081967\n",
            "[113]\tvalidation_0-error:0.081967\n",
            "[114]\tvalidation_0-error:0.081967\n",
            "[115]\tvalidation_0-error:0.083607\n",
            "[116]\tvalidation_0-error:0.083607\n",
            "[117]\tvalidation_0-error:0.081967\n",
            "[118]\tvalidation_0-error:0.083607\n",
            "[119]\tvalidation_0-error:0.083607\n",
            "[120]\tvalidation_0-error:0.083607\n",
            "[121]\tvalidation_0-error:0.083607\n",
            "[122]\tvalidation_0-error:0.085246\n",
            "[123]\tvalidation_0-error:0.083607\n",
            "[124]\tvalidation_0-error:0.083607\n",
            "Stopping. Best iteration:\n",
            "[24]\tvalidation_0-error:0.070492\n",
            "\n",
            "정확도: 0.9295081967213115\n"
          ]
        }
      ]
    },
    {
      "cell_type": "code",
      "source": [
        "print(\"정확도:\",accuracy_score(union_result5['y_pred'], union_result5['y_real']))"
      ],
      "metadata": {
        "id": "MVGyHgm5_MWk",
        "colab": {
          "base_uri": "https://localhost:8080/"
        },
        "outputId": "8f3ed791-c1e1-4edc-b596-6cdd6aa218a2"
      },
      "execution_count": null,
      "outputs": [
        {
          "output_type": "stream",
          "name": "stdout",
          "text": [
            "정확도: 0.9295081967213115\n"
          ]
        }
      ]
    },
    {
      "cell_type": "code",
      "source": [
        "result_count = pd.DataFrame(union_result5.groupby(['y_real','y_pred'])['y_pred'].count()).rename(columns={'y_pred':'count'}).reset_index()\n",
        "print(union_result5.groupby(['y_real','y_pred'])['y_pred'].count(), '\\n')\n",
        "print('상장폐지를 상장유지로 예측:', result_count['count'][1], '/',result_count['count'][0]+result_count['count'][1])\n",
        "print('상장유지를 상장폐지로 예측:',result_count['count'][2], '/',result_count['count'][2]+result_count['count'][3])\n",
        "print(round(result_count['count'][1]/(result_count['count'][0]+result_count['count'][1]),4))\n",
        "print(round(result_count['count'][2]/(result_count['count'][2]+result_count['count'][3]),4))"
      ],
      "metadata": {
        "id": "2vg9u9ze_MYt",
        "colab": {
          "base_uri": "https://localhost:8080/"
        },
        "outputId": "f4ab61c2-8100-4474-a38f-b9f7f12f0471"
      },
      "execution_count": null,
      "outputs": [
        {
          "output_type": "stream",
          "name": "stdout",
          "text": [
            "y_real  y_pred\n",
            "0       0         465\n",
            "        1          39\n",
            "1       0           4\n",
            "        1         102\n",
            "Name: y_pred, dtype: int64 \n",
            "\n",
            "상장폐지를 상장유지로 예측: 39 / 504\n",
            "상장유지를 상장폐지로 예측: 4 / 106\n",
            "0.0774\n",
            "0.0377\n"
          ]
        }
      ]
    },
    {
      "cell_type": "markdown",
      "source": [
        "# 5. Bayesian Optimization"
      ],
      "metadata": {
        "id": "DMWrQ-HNNWdI"
      }
    },
    {
      "cell_type": "code",
      "source": [
        "!pip install bayesian-optimization"
      ],
      "metadata": {
        "colab": {
          "base_uri": "https://localhost:8080/"
        },
        "id": "_2V1oUaiTCk9",
        "outputId": "6c533906-9fb9-421a-fd65-8f15b75eff33"
      },
      "execution_count": null,
      "outputs": [
        {
          "output_type": "stream",
          "name": "stdout",
          "text": [
            "Looking in indexes: https://pypi.org/simple, https://us-python.pkg.dev/colab-wheels/public/simple/\n",
            "Requirement already satisfied: bayesian-optimization in /usr/local/lib/python3.8/dist-packages (1.4.2)\n",
            "Requirement already satisfied: scikit-learn>=0.18.0 in /usr/local/lib/python3.8/dist-packages (from bayesian-optimization) (1.0.2)\n",
            "Requirement already satisfied: numpy>=1.9.0 in /usr/local/lib/python3.8/dist-packages (from bayesian-optimization) (1.21.6)\n",
            "Requirement already satisfied: colorama>=0.4.6 in /usr/local/lib/python3.8/dist-packages (from bayesian-optimization) (0.4.6)\n",
            "Requirement already satisfied: scipy>=1.0.0 in /usr/local/lib/python3.8/dist-packages (from bayesian-optimization) (1.7.3)\n",
            "Requirement already satisfied: joblib>=0.11 in /usr/local/lib/python3.8/dist-packages (from scikit-learn>=0.18.0->bayesian-optimization) (1.2.0)\n",
            "Requirement already satisfied: threadpoolctl>=2.0.0 in /usr/local/lib/python3.8/dist-packages (from scikit-learn>=0.18.0->bayesian-optimization) (3.1.0)\n"
          ]
        }
      ]
    },
    {
      "cell_type": "code",
      "source": [
        "union_X5 = union_train5.loc[:,'year':'retained_earning_b']\n",
        "union_y5 = union_train5['fnc_rsn_unlst_year']"
      ],
      "metadata": {
        "id": "4SGnbyJYV_7B"
      },
      "execution_count": null,
      "outputs": []
    },
    {
      "cell_type": "code",
      "source": [
        "from sklearn.metrics import r2_score, mean_squared_error\n",
        "import xgboost as xgb\n",
        "\n",
        "# MAPE Metric\n",
        "def mean_absolute_percentage_error(y_test, y_pred):\n",
        "  y_test = np.array(y_test, dtype=np.int64)\n",
        "  y_pred = np.array(y_pred, dtype=np.int64)\n",
        "  return np.mean(np.abs((y_test - y_pred) / y_test)) * 100\n",
        "\n",
        "# 탐색 대상 함수 (XGBRegressor)\n",
        "def XGB_cv(max_depth,learning_rate, n_estimators, gamma, min_child_weight, subsample, colsample_bytree, silent=True, nthread=-1):\n",
        "\n",
        "  X_train,X_test,y_train,y_test= train_test_split(union_X5, union_y5,test_size=0.2,random_state=1)\n",
        "\n",
        "  # 모델 정의\n",
        "  model = xgb.XGBClassifier(max_depth=int(max_depth),\n",
        "                           learning_rate=learning_rate,\n",
        "                           n_estimators=int(n_estimators),\n",
        "                           gamma=gamma,\n",
        "                           min_child_weight=min_child_weight,\n",
        "                           subsample=subsample,\n",
        "                           colsample_bytree=colsample_bytree, \n",
        "                           nthread=nthread\n",
        "                           )\n",
        "  # 모델 훈련\n",
        "  model.fit(X_train, y_train)\n",
        "\n",
        "  # 예측값 출력\n",
        "  y_pred= model.predict(X_test)\n",
        "\n",
        "  # 각종 metric 계산\n",
        "  rmse = np.sqrt(mean_squared_error(y_test, y_pred))\n",
        "  r2 = r2_score(y_test, y_pred)\n",
        "  mape = mean_absolute_percentage_error(y_test, y_pred)\n",
        "\n",
        "  # 오차 최적화로 사용할 metric 반환\n",
        "  return r2"
      ],
      "metadata": {
        "id": "yrm0hXOOSBNo"
      },
      "execution_count": null,
      "outputs": []
    },
    {
      "cell_type": "code",
      "source": [
        "#  bayesian-optimization 라이브러리의 BayesianOptimization 클래스 import\n",
        "from bayes_opt import BayesianOptimization\n",
        "import numpy as np\n",
        "\n",
        "# 실험해보고자하는 hyperparameter 집합\n",
        "pbounds = {'max_depth': (3, 7), \n",
        "           'learning_rate': (0.01, 0.2),\n",
        "           'n_estimators': (5000, 10000),\n",
        "           'gamma': (0, 100),\n",
        "           'min_child_weight': (0, 3),\n",
        "           'subsample': (0.5, 1),\n",
        "           'colsample_bytree' :(0.2, 1)\n",
        "           }\n",
        "\n",
        "# Bayesian optimization 객체 생성\n",
        "# f : 탐색 대상 함수, pbounds : hyperparameter 집합\n",
        "# verbose = 2 항상 출력, verbose = 1 최댓값일 때 출력, verbose = 0 출력 안함\n",
        "# random_state : Bayesian Optimization 상의 랜덤성이 존재하는 부분을 통제 \n",
        "bo = BayesianOptimization(f=XGB_cv, pbounds=pbounds, verbose=2, random_state=1 )    \n",
        "\n",
        "# 메소드를 이용해 최대화 과정 수행\n",
        "# init_points :  초기 Random Search 갯수\n",
        "# n_iter : 반복 횟수 (몇개의 입력값-함숫값 점들을 확인할지! 많을 수록 정확한 값을 얻을 수 있다.)\n",
        "# acq : Acquisition Function들 중 Expected Improvement(EI) 를 사용\n",
        "# xi : exploration 강도 (기본값은 0.0)\n",
        "bo.maximize(init_points=2, n_iter=10, acq='ei', xi=0.01)\n",
        "\n",
        "# ‘iter’는 반복 회차, ‘target’은 목적 함수의 값, 나머지는 입력값을 나타냅니다. \n",
        "# 현재 회차 이전까지 조사된 함숫값들과 비교하여, 현재 회차에 최댓값이 얻어진 경우, \n",
        "# bayesian-optimization 라이브러리는 이를 자동으로 다른 색 글자로 표시하는 것을 확인할 수 있습니다\n",
        "\n",
        "# 찾은 파라미터 값 확인\n",
        "print(bo.max)"
      ],
      "metadata": {
        "colab": {
          "base_uri": "https://localhost:8080/"
        },
        "id": "ZfD9DCujSBRY",
        "outputId": "ed8dcf09-ba01-48a1-bdbd-dfddd14f479a"
      },
      "execution_count": null,
      "outputs": [
        {
          "metadata": {
            "tags": null
          },
          "name": "stdout",
          "output_type": "stream",
          "text": [
            "|   iter    |  target   | colsam... |   gamma   | learni... | max_depth | min_ch... | n_esti... | subsample |\n",
            "-------------------------------------------------------------------------------------------------------------\n"
          ]
        },
        {
          "metadata": {
            "tags": null
          },
          "name": "stderr",
          "output_type": "stream",
          "text": [
            "<ipython-input-136-ac2aecab6b5c>:26: DeprecationWarning: \n",
            "Passing acquisition function parameters or gaussian process parameters to maximize\n",
            "is no longer supported, and will cause an error in future releases. Instead,\n",
            "please use the \"set_gp_params\" method to set the gp params, and pass an instance\n",
            " of bayes_opt.util.UtilityFunction using the acquisition_function argument\n",
            "\n",
            "  bo.maximize(init_points=2, n_iter=10, acq='ei', xi=0.01)\n",
            "<ipython-input-135-73a8a83e958e>:8: RuntimeWarning: divide by zero encountered in true_divide\n",
            "  return np.mean(np.abs((y_test - y_pred) / y_test)) * 100\n",
            "<ipython-input-135-73a8a83e958e>:8: RuntimeWarning: invalid value encountered in true_divide\n",
            "  return np.mean(np.abs((y_test - y_pred) / y_test)) * 100\n"
          ]
        },
        {
          "metadata": {
            "tags": null
          },
          "name": "stdout",
          "output_type": "stream",
          "text": [
            "| \u001b[0m1        \u001b[0m | \u001b[0m0.3378   \u001b[0m | \u001b[0m0.5336   \u001b[0m | \u001b[0m72.03    \u001b[0m | \u001b[0m0.01002  \u001b[0m | \u001b[0m4.209    \u001b[0m | \u001b[0m0.4403   \u001b[0m | \u001b[0m5.462e+03\u001b[0m | \u001b[0m0.5931   \u001b[0m |\n"
          ]
        },
        {
          "metadata": {
            "tags": null
          },
          "name": "stderr",
          "output_type": "stream",
          "text": [
            "<ipython-input-135-73a8a83e958e>:8: RuntimeWarning: divide by zero encountered in true_divide\n",
            "  return np.mean(np.abs((y_test - y_pred) / y_test)) * 100\n",
            "<ipython-input-135-73a8a83e958e>:8: RuntimeWarning: invalid value encountered in true_divide\n",
            "  return np.mean(np.abs((y_test - y_pred) / y_test)) * 100\n"
          ]
        },
        {
          "metadata": {
            "tags": null
          },
          "name": "stdout",
          "output_type": "stream",
          "text": [
            "| \u001b[95m2        \u001b[0m | \u001b[95m0.3492   \u001b[0m | \u001b[95m0.4764   \u001b[0m | \u001b[95m39.68    \u001b[0m | \u001b[95m0.1124   \u001b[0m | \u001b[95m4.677    \u001b[0m | \u001b[95m2.056    \u001b[0m | \u001b[95m6.022e+03\u001b[0m | \u001b[95m0.9391   \u001b[0m |\n"
          ]
        },
        {
          "metadata": {
            "tags": null
          },
          "name": "stderr",
          "output_type": "stream",
          "text": [
            "<ipython-input-135-73a8a83e958e>:8: RuntimeWarning: divide by zero encountered in true_divide\n",
            "  return np.mean(np.abs((y_test - y_pred) / y_test)) * 100\n",
            "<ipython-input-135-73a8a83e958e>:8: RuntimeWarning: invalid value encountered in true_divide\n",
            "  return np.mean(np.abs((y_test - y_pred) / y_test)) * 100\n"
          ]
        },
        {
          "metadata": {
            "tags": null
          },
          "name": "stdout",
          "output_type": "stream",
          "text": [
            "| \u001b[95m3        \u001b[0m | \u001b[95m0.4177   \u001b[0m | \u001b[95m0.8479   \u001b[0m | \u001b[95m39.96    \u001b[0m | \u001b[95m0.08483  \u001b[0m | \u001b[95m3.514    \u001b[0m | \u001b[95m1.094    \u001b[0m | \u001b[95m6.021e+03\u001b[0m | \u001b[95m0.658    \u001b[0m |\n"
          ]
        },
        {
          "metadata": {
            "tags": null
          },
          "name": "stderr",
          "output_type": "stream",
          "text": [
            "<ipython-input-135-73a8a83e958e>:8: RuntimeWarning: divide by zero encountered in true_divide\n",
            "  return np.mean(np.abs((y_test - y_pred) / y_test)) * 100\n",
            "<ipython-input-135-73a8a83e958e>:8: RuntimeWarning: invalid value encountered in true_divide\n",
            "  return np.mean(np.abs((y_test - y_pred) / y_test)) * 100\n"
          ]
        },
        {
          "metadata": {
            "tags": null
          },
          "name": "stdout",
          "output_type": "stream",
          "text": [
            "| \u001b[95m4        \u001b[0m | \u001b[95m0.4519   \u001b[0m | \u001b[95m0.8121   \u001b[0m | \u001b[95m10.95    \u001b[0m | \u001b[95m0.1092   \u001b[0m | \u001b[95m6.073    \u001b[0m | \u001b[95m2.061    \u001b[0m | \u001b[95m5.665e+03\u001b[0m | \u001b[95m0.601    \u001b[0m |\n"
          ]
        },
        {
          "metadata": {
            "tags": null
          },
          "name": "stderr",
          "output_type": "stream",
          "text": [
            "<ipython-input-135-73a8a83e958e>:8: RuntimeWarning: divide by zero encountered in true_divide\n",
            "  return np.mean(np.abs((y_test - y_pred) / y_test)) * 100\n",
            "<ipython-input-135-73a8a83e958e>:8: RuntimeWarning: invalid value encountered in true_divide\n",
            "  return np.mean(np.abs((y_test - y_pred) / y_test)) * 100\n"
          ]
        },
        {
          "metadata": {
            "tags": null
          },
          "name": "stdout",
          "output_type": "stream",
          "text": [
            "| \u001b[95m5        \u001b[0m | \u001b[95m0.4633   \u001b[0m | \u001b[95m0.972    \u001b[0m | \u001b[95m6.63     \u001b[0m | \u001b[95m0.01992  \u001b[0m | \u001b[95m5.446    \u001b[0m | \u001b[95m1.737    \u001b[0m | \u001b[95m9.304e+03\u001b[0m | \u001b[95m0.7013   \u001b[0m |\n"
          ]
        },
        {
          "metadata": {
            "tags": null
          },
          "name": "stderr",
          "output_type": "stream",
          "text": [
            "<ipython-input-135-73a8a83e958e>:8: RuntimeWarning: divide by zero encountered in true_divide\n",
            "  return np.mean(np.abs((y_test - y_pred) / y_test)) * 100\n",
            "<ipython-input-135-73a8a83e958e>:8: RuntimeWarning: invalid value encountered in true_divide\n",
            "  return np.mean(np.abs((y_test - y_pred) / y_test)) * 100\n"
          ]
        },
        {
          "metadata": {
            "tags": null
          },
          "name": "stdout",
          "output_type": "stream",
          "text": [
            "| \u001b[0m6        \u001b[0m | \u001b[0m0.3378   \u001b[0m | \u001b[0m0.4585   \u001b[0m | \u001b[0m71.28    \u001b[0m | \u001b[0m0.1012   \u001b[0m | \u001b[0m3.107    \u001b[0m | \u001b[0m2.048    \u001b[0m | \u001b[0m8.898e+03\u001b[0m | \u001b[0m0.987    \u001b[0m |\n"
          ]
        },
        {
          "metadata": {
            "tags": null
          },
          "name": "stderr",
          "output_type": "stream",
          "text": [
            "<ipython-input-135-73a8a83e958e>:8: RuntimeWarning: divide by zero encountered in true_divide\n",
            "  return np.mean(np.abs((y_test - y_pred) / y_test)) * 100\n",
            "<ipython-input-135-73a8a83e958e>:8: RuntimeWarning: invalid value encountered in true_divide\n",
            "  return np.mean(np.abs((y_test - y_pred) / y_test)) * 100\n"
          ]
        },
        {
          "metadata": {
            "tags": null
          },
          "name": "stdout",
          "output_type": "stream",
          "text": [
            "| \u001b[0m7        \u001b[0m | \u001b[0m0.3492   \u001b[0m | \u001b[0m0.5531   \u001b[0m | \u001b[0m50.9     \u001b[0m | \u001b[0m0.1209   \u001b[0m | \u001b[0m6.358    \u001b[0m | \u001b[0m0.008091 \u001b[0m | \u001b[0m9.09e+03 \u001b[0m | \u001b[0m0.5556   \u001b[0m |\n"
          ]
        },
        {
          "metadata": {
            "tags": null
          },
          "name": "stderr",
          "output_type": "stream",
          "text": [
            "<ipython-input-135-73a8a83e958e>:8: RuntimeWarning: divide by zero encountered in true_divide\n",
            "  return np.mean(np.abs((y_test - y_pred) / y_test)) * 100\n",
            "<ipython-input-135-73a8a83e958e>:8: RuntimeWarning: invalid value encountered in true_divide\n",
            "  return np.mean(np.abs((y_test - y_pred) / y_test)) * 100\n"
          ]
        },
        {
          "metadata": {
            "tags": null
          },
          "name": "stdout",
          "output_type": "stream",
          "text": [
            "| \u001b[0m8        \u001b[0m | \u001b[0m0.4177   \u001b[0m | \u001b[0m0.7733   \u001b[0m | \u001b[0m65.16    \u001b[0m | \u001b[0m0.02987  \u001b[0m | \u001b[0m3.348    \u001b[0m | \u001b[0m1.966    \u001b[0m | \u001b[0m9.157e+03\u001b[0m | \u001b[0m0.6009   \u001b[0m |\n"
          ]
        },
        {
          "metadata": {
            "tags": null
          },
          "name": "stderr",
          "output_type": "stream",
          "text": [
            "<ipython-input-135-73a8a83e958e>:8: RuntimeWarning: divide by zero encountered in true_divide\n",
            "  return np.mean(np.abs((y_test - y_pred) / y_test)) * 100\n",
            "<ipython-input-135-73a8a83e958e>:8: RuntimeWarning: invalid value encountered in true_divide\n",
            "  return np.mean(np.abs((y_test - y_pred) / y_test)) * 100\n"
          ]
        },
        {
          "metadata": {
            "tags": null
          },
          "name": "stdout",
          "output_type": "stream",
          "text": [
            "| \u001b[0m9        \u001b[0m | \u001b[0m0.4177   \u001b[0m | \u001b[0m0.9401   \u001b[0m | \u001b[0m83.82    \u001b[0m | \u001b[0m0.01144  \u001b[0m | \u001b[0m6.577    \u001b[0m | \u001b[0m0.0161   \u001b[0m | \u001b[0m7.544e+03\u001b[0m | \u001b[0m0.7222   \u001b[0m |\n"
          ]
        },
        {
          "metadata": {
            "tags": null
          },
          "name": "stderr",
          "output_type": "stream",
          "text": [
            "<ipython-input-135-73a8a83e958e>:8: RuntimeWarning: divide by zero encountered in true_divide\n",
            "  return np.mean(np.abs((y_test - y_pred) / y_test)) * 100\n",
            "<ipython-input-135-73a8a83e958e>:8: RuntimeWarning: invalid value encountered in true_divide\n",
            "  return np.mean(np.abs((y_test - y_pred) / y_test)) * 100\n"
          ]
        },
        {
          "metadata": {
            "tags": null
          },
          "name": "stdout",
          "output_type": "stream",
          "text": [
            "| \u001b[95m10       \u001b[0m | \u001b[95m0.5204   \u001b[0m | \u001b[95m0.9855   \u001b[0m | \u001b[95m19.81    \u001b[0m | \u001b[95m0.1866   \u001b[0m | \u001b[95m4.661    \u001b[0m | \u001b[95m1.213    \u001b[0m | \u001b[95m5.081e+03\u001b[0m | \u001b[95m0.8903   \u001b[0m |\n"
          ]
        },
        {
          "metadata": {
            "tags": null
          },
          "name": "stderr",
          "output_type": "stream",
          "text": [
            "<ipython-input-135-73a8a83e958e>:8: RuntimeWarning: divide by zero encountered in true_divide\n",
            "  return np.mean(np.abs((y_test - y_pred) / y_test)) * 100\n",
            "<ipython-input-135-73a8a83e958e>:8: RuntimeWarning: invalid value encountered in true_divide\n",
            "  return np.mean(np.abs((y_test - y_pred) / y_test)) * 100\n"
          ]
        },
        {
          "metadata": {
            "tags": null
          },
          "name": "stdout",
          "output_type": "stream",
          "text": [
            "| \u001b[0m11       \u001b[0m | \u001b[0m0.2007   \u001b[0m | \u001b[0m0.7031   \u001b[0m | \u001b[0m82.86    \u001b[0m | \u001b[0m0.1284   \u001b[0m | \u001b[0m4.32     \u001b[0m | \u001b[0m0.8823   \u001b[0m | \u001b[0m5.455e+03\u001b[0m | \u001b[0m0.5068   \u001b[0m |\n"
          ]
        }
      ]
    },
    {
      "cell_type": "code",
      "source": [],
      "metadata": {
        "id": "nwNV4yNPS3Y9"
      },
      "execution_count": null,
      "outputs": []
    },
    {
      "cell_type": "code",
      "source": [],
      "metadata": {
        "id": "Po2INECmS3a-"
      },
      "execution_count": null,
      "outputs": []
    }
  ],
  "metadata": {
    "colab": {
      "collapsed_sections": [
        "1TNxDFj5BO8M",
        "yRQcXA8McdLo",
        "oAJD8I_KVIzK",
        "IsnYk-ENcRIO",
        "2p1LCbHTAM-x",
        "PljmI03XBoBX",
        "CapMfgxQXobp",
        "Bnh7s2wyaJnn",
        "08FliEL-aPNe",
        "6hF04_TaIPRM",
        "-jEYdiVysw6c",
        "QxYQ1OJSR__F",
        "IsdAoCfOwZy2",
        "qZ0bldvARp9f",
        "Yso573tXL3M2"
      ],
      "toc_visible": true,
      "provenance": [],
      "authorship_tag": "ABX9TyNVbm0rp7m5zQvil/KV5LRo",
      "include_colab_link": true
    },
    "gpuClass": "standard",
    "kernelspec": {
      "display_name": "Python 3",
      "name": "python3"
    },
    "language_info": {
      "name": "python"
    }
  },
  "nbformat": 4,
  "nbformat_minor": 0
}