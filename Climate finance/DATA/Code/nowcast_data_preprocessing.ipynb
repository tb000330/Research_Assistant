{
 "cells": [
  {
   "cell_type": "code",
   "execution_count": 1,
   "id": "eb949bfa",
   "metadata": {
    "pycharm": {
     "name": "#%%\n"
    }
   },
   "outputs": [],
   "source": [
    "import numpy as np\n",
    "import pandas as pd\n",
    "from tqdm import tqdm\n",
    "import re\n",
    "\n",
    "import datetime\n",
    "import time\n",
    "\n",
    "import os\n",
    "import warnings\n",
    "warnings.filterwarnings(action='ignore')"
   ]
  },
  {
   "cell_type": "code",
   "execution_count": 2,
   "id": "0c55bab3",
   "metadata": {
    "pycharm": {
     "name": "#%%\n"
    }
   },
   "outputs": [
    {
     "data": {
      "text/plain": [
       "['.ipynb_checkpoints',\n",
       " 'nowcast_data_preprocessing',\n",
       " 'nowcast_data_preprocessing.ipynb',\n",
       " 'nowcast_data_preprocessing.zip',\n",
       " '가맹점 카드매출액(주,월).csv',\n",
       " '가맹점 현금매출액(월).csv',\n",
       " '신용카드이용금액(주).csv',\n",
       " '실업급여지급건수(월).csv',\n",
       " '실업급여지급금액(월).csv',\n",
       " '온라인채용 모집인원수(주).csv',\n",
       " '전자지급서비스 충전액(주).csv',\n",
       " '통신 모바일 인구이동량 통계(2022년 6월 2주차).csv',\n",
       " '통신 모바일 인구이동량 통계(2022년 6월 3주차).csv']"
      ]
     },
     "execution_count": 2,
     "metadata": {},
     "output_type": "execute_result"
    }
   ],
   "source": [
    "os.listdir('C:/Users/KIMDAEUN/Desktop/gdp_data/기후금융/나우캐스트/')"
   ]
  },
  {
   "cell_type": "code",
   "execution_count": 12,
   "id": "a236178a",
   "metadata": {
    "pycharm": {
     "name": "#%%\n"
    }
   },
   "outputs": [],
   "source": [
    "card = pd.read_csv('C:/Users/KIMDAEUN/Desktop/gdp_data/기후금융/나우캐스트/가맹점 카드매출액(주,월).csv')\n",
    "cash = pd.read_csv('C:/Users/KIMDAEUN/Desktop/gdp_data/기후금융/나우캐스트/가맹점 현금매출액(월).csv')\n",
    "fam_card = pd.read_csv('C:/Users/KIMDAEUN/Desktop/gdp_data/기후금융/나우캐스트/신용카드이용금액(주).csv')\n",
    "un_num = pd.read_csv('C:/Users/KIMDAEUN/Desktop/gdp_data/기후금융/나우캐스트/실업급여지급건수(월).csv')\n",
    "un_amount = pd.read_csv('C:/Users/KIMDAEUN/Desktop/gdp_data/기후금융/나우캐스트/실업급여지급금액(월).csv')\n",
    "job_offer = pd.read_csv('C:/Users/KIMDAEUN/Desktop/gdp_data/기후금융/나우캐스트/온라인채용 모집인원수(주).csv')\n",
    "fam_charge = pd.read_csv('C:/Users/KIMDAEUN/Desktop/gdp_data/기후금융/나우캐스트/전자지급서비스 충전액(주).csv')\n",
    "mobile = pd.read_csv('C:/Users/KIMDAEUN/Desktop/gdp_data/기후금융/나우캐스트/통신 모바일 인구이동량 통계(2022년 6월 3주차).csv')"
   ]
  },
  {
   "cell_type": "code",
   "execution_count": 17,
   "id": "6d882cdd",
   "metadata": {
    "pycharm": {
     "name": "#%%\n"
    }
   },
   "outputs": [
    {
     "data": {
      "text/html": [
       "<div>\n",
       "<style scoped>\n",
       "    .dataframe tbody tr th:only-of-type {\n",
       "        vertical-align: middle;\n",
       "    }\n",
       "\n",
       "    .dataframe tbody tr th {\n",
       "        vertical-align: top;\n",
       "    }\n",
       "\n",
       "    .dataframe thead th {\n",
       "        text-align: right;\n",
       "    }\n",
       "</style>\n",
       "<table border=\"1\" class=\"dataframe\">\n",
       "  <thead>\n",
       "    <tr style=\"text-align: right;\">\n",
       "      <th></th>\n",
       "      <th>Date</th>\n",
       "      <th>전체</th>\n",
       "      <th>전체 4주 이동평균</th>\n",
       "      <th>Date</th>\n",
       "      <th>전체</th>\n",
       "      <th>Date</th>\n",
       "      <th>전체</th>\n",
       "      <th>전체 4주 이동평균</th>\n",
       "      <th>Date</th>\n",
       "      <th>전체</th>\n",
       "      <th>Date</th>\n",
       "      <th>전체</th>\n",
       "      <th>Date</th>\n",
       "      <th>전체</th>\n",
       "      <th>전체 4주 이동평균</th>\n",
       "      <th>Date</th>\n",
       "      <th>전체</th>\n",
       "      <th>전체 4주 이동평균</th>\n",
       "    </tr>\n",
       "  </thead>\n",
       "  <tbody>\n",
       "    <tr>\n",
       "      <th>0</th>\n",
       "      <td>2020-01-10</td>\n",
       "      <td>-0.064023</td>\n",
       "      <td>-6.402267e-02</td>\n",
       "      <td>2020-01-01</td>\n",
       "      <td>0.000000</td>\n",
       "      <td>2020-01-10</td>\n",
       "      <td>-0.049055</td>\n",
       "      <td>-4.905535e-02</td>\n",
       "      <td>2020-01-31</td>\n",
       "      <td>0.000000</td>\n",
       "      <td>2020-01-31</td>\n",
       "      <td>0.000000</td>\n",
       "      <td>2020-01-11</td>\n",
       "      <td>0.005459</td>\n",
       "      <td>0.005459</td>\n",
       "      <td>2020-01-10</td>\n",
       "      <td>-0.034413</td>\n",
       "      <td>-3.441340e-02</td>\n",
       "    </tr>\n",
       "    <tr>\n",
       "      <th>1</th>\n",
       "      <td>2020-01-17</td>\n",
       "      <td>-0.007550</td>\n",
       "      <td>-3.578609e-02</td>\n",
       "      <td>2020-02-01</td>\n",
       "      <td>0.021544</td>\n",
       "      <td>2020-01-17</td>\n",
       "      <td>-0.002792</td>\n",
       "      <td>-2.592385e-02</td>\n",
       "      <td>2020-02-29</td>\n",
       "      <td>0.005373</td>\n",
       "      <td>2020-02-29</td>\n",
       "      <td>0.065120</td>\n",
       "      <td>2020-01-18</td>\n",
       "      <td>0.061890</td>\n",
       "      <td>0.033675</td>\n",
       "      <td>2020-01-17</td>\n",
       "      <td>-0.039314</td>\n",
       "      <td>-3.686354e-02</td>\n",
       "    </tr>\n",
       "    <tr>\n",
       "      <th>2</th>\n",
       "      <td>2020-01-24</td>\n",
       "      <td>0.066036</td>\n",
       "      <td>-1.845543e-03</td>\n",
       "      <td>2020-03-01</td>\n",
       "      <td>-0.135677</td>\n",
       "      <td>2020-01-24</td>\n",
       "      <td>0.074351</td>\n",
       "      <td>7.500977e-03</td>\n",
       "      <td>2020-03-31</td>\n",
       "      <td>0.176891</td>\n",
       "      <td>2020-03-31</td>\n",
       "      <td>0.230657</td>\n",
       "      <td>2020-01-25</td>\n",
       "      <td>-0.067350</td>\n",
       "      <td>0.000000</td>\n",
       "      <td>2020-01-24</td>\n",
       "      <td>0.093355</td>\n",
       "      <td>6.542630e-03</td>\n",
       "    </tr>\n",
       "    <tr>\n",
       "      <th>3</th>\n",
       "      <td>2020-01-31</td>\n",
       "      <td>0.005537</td>\n",
       "      <td>-2.168404e-19</td>\n",
       "      <td>2020-04-01</td>\n",
       "      <td>-0.137917</td>\n",
       "      <td>2020-01-31</td>\n",
       "      <td>-0.022503</td>\n",
       "      <td>-8.673617e-19</td>\n",
       "      <td>2020-04-30</td>\n",
       "      <td>0.258056</td>\n",
       "      <td>2020-04-30</td>\n",
       "      <td>0.355363</td>\n",
       "      <td>2020-02-01</td>\n",
       "      <td>0.212379</td>\n",
       "      <td>0.053095</td>\n",
       "      <td>2020-01-31</td>\n",
       "      <td>-0.019628</td>\n",
       "      <td>2.500000e-09</td>\n",
       "    </tr>\n",
       "    <tr>\n",
       "      <th>4</th>\n",
       "      <td>2020-02-07</td>\n",
       "      <td>-0.193122</td>\n",
       "      <td>-3.227472e-02</td>\n",
       "      <td>2020-05-01</td>\n",
       "      <td>-0.056387</td>\n",
       "      <td>2020-02-07</td>\n",
       "      <td>-0.183668</td>\n",
       "      <td>-3.365319e-02</td>\n",
       "      <td>2020-05-31</td>\n",
       "      <td>0.242322</td>\n",
       "      <td>2020-05-31</td>\n",
       "      <td>0.379569</td>\n",
       "      <td>2020-02-08</td>\n",
       "      <td>0.133046</td>\n",
       "      <td>0.084991</td>\n",
       "      <td>2020-02-07</td>\n",
       "      <td>0.001570</td>\n",
       "      <td>8.995767e-03</td>\n",
       "    </tr>\n",
       "    <tr>\n",
       "      <th>...</th>\n",
       "      <td>...</td>\n",
       "      <td>...</td>\n",
       "      <td>...</td>\n",
       "      <td>...</td>\n",
       "      <td>...</td>\n",
       "      <td>...</td>\n",
       "      <td>...</td>\n",
       "      <td>...</td>\n",
       "      <td>...</td>\n",
       "      <td>...</td>\n",
       "      <td>...</td>\n",
       "      <td>...</td>\n",
       "      <td>...</td>\n",
       "      <td>...</td>\n",
       "      <td>...</td>\n",
       "      <td>...</td>\n",
       "      <td>...</td>\n",
       "      <td>...</td>\n",
       "    </tr>\n",
       "    <tr>\n",
       "      <th>122</th>\n",
       "      <td>2022-05-13</td>\n",
       "      <td>0.205175</td>\n",
       "      <td>1.772388e-01</td>\n",
       "      <td>NaN</td>\n",
       "      <td>NaN</td>\n",
       "      <td>2022-05-13</td>\n",
       "      <td>0.211520</td>\n",
       "      <td>1.648906e-01</td>\n",
       "      <td>NaN</td>\n",
       "      <td>NaN</td>\n",
       "      <td>NaN</td>\n",
       "      <td>NaN</td>\n",
       "      <td>2022-05-14</td>\n",
       "      <td>0.043726</td>\n",
       "      <td>0.257965</td>\n",
       "      <td>2022-05-27</td>\n",
       "      <td>0.737057</td>\n",
       "      <td>7.769838e-01</td>\n",
       "    </tr>\n",
       "    <tr>\n",
       "      <th>123</th>\n",
       "      <td>2022-05-20</td>\n",
       "      <td>0.118175</td>\n",
       "      <td>1.876140e-01</td>\n",
       "      <td>NaN</td>\n",
       "      <td>NaN</td>\n",
       "      <td>2022-05-20</td>\n",
       "      <td>0.116628</td>\n",
       "      <td>1.767616e-01</td>\n",
       "      <td>NaN</td>\n",
       "      <td>NaN</td>\n",
       "      <td>NaN</td>\n",
       "      <td>NaN</td>\n",
       "      <td>2022-05-21</td>\n",
       "      <td>0.483005</td>\n",
       "      <td>0.294000</td>\n",
       "      <td>2022-06-03</td>\n",
       "      <td>0.785399</td>\n",
       "      <td>7.551523e-01</td>\n",
       "    </tr>\n",
       "    <tr>\n",
       "      <th>124</th>\n",
       "      <td>2022-05-27</td>\n",
       "      <td>0.293399</td>\n",
       "      <td>1.654167e-01</td>\n",
       "      <td>NaN</td>\n",
       "      <td>NaN</td>\n",
       "      <td>2022-05-27</td>\n",
       "      <td>0.277204</td>\n",
       "      <td>1.607548e-01</td>\n",
       "      <td>NaN</td>\n",
       "      <td>NaN</td>\n",
       "      <td>NaN</td>\n",
       "      <td>NaN</td>\n",
       "      <td>2022-05-28</td>\n",
       "      <td>0.072052</td>\n",
       "      <td>0.232318</td>\n",
       "      <td>2022-06-10</td>\n",
       "      <td>0.680380</td>\n",
       "      <td>7.063081e-01</td>\n",
       "    </tr>\n",
       "    <tr>\n",
       "      <th>125</th>\n",
       "      <td>2022-06-03</td>\n",
       "      <td>0.189387</td>\n",
       "      <td>2.015339e-01</td>\n",
       "      <td>NaN</td>\n",
       "      <td>NaN</td>\n",
       "      <td>2022-06-03</td>\n",
       "      <td>0.135544</td>\n",
       "      <td>1.852239e-01</td>\n",
       "      <td>NaN</td>\n",
       "      <td>NaN</td>\n",
       "      <td>NaN</td>\n",
       "      <td>NaN</td>\n",
       "      <td>2022-06-04</td>\n",
       "      <td>0.102891</td>\n",
       "      <td>0.175418</td>\n",
       "      <td>2022-06-17</td>\n",
       "      <td>0.700501</td>\n",
       "      <td>7.258345e-01</td>\n",
       "    </tr>\n",
       "    <tr>\n",
       "      <th>126</th>\n",
       "      <td>2022-06-10</td>\n",
       "      <td>0.086447</td>\n",
       "      <td>1.718519e-01</td>\n",
       "      <td>NaN</td>\n",
       "      <td>NaN</td>\n",
       "      <td>2022-06-10</td>\n",
       "      <td>0.102321</td>\n",
       "      <td>1.579243e-01</td>\n",
       "      <td>NaN</td>\n",
       "      <td>NaN</td>\n",
       "      <td>NaN</td>\n",
       "      <td>NaN</td>\n",
       "      <td>NaN</td>\n",
       "      <td>NaN</td>\n",
       "      <td>NaN</td>\n",
       "      <td>NaN</td>\n",
       "      <td>NaN</td>\n",
       "      <td>NaN</td>\n",
       "    </tr>\n",
       "  </tbody>\n",
       "</table>\n",
       "<p>127 rows × 18 columns</p>\n",
       "</div>"
      ],
      "text/plain": [
       "           Date        전체    전체 4주 이동평균        Date        전체        Date  \\\n",
       "0    2020-01-10 -0.064023 -6.402267e-02  2020-01-01  0.000000  2020-01-10   \n",
       "1    2020-01-17 -0.007550 -3.578609e-02  2020-02-01  0.021544  2020-01-17   \n",
       "2    2020-01-24  0.066036 -1.845543e-03  2020-03-01 -0.135677  2020-01-24   \n",
       "3    2020-01-31  0.005537 -2.168404e-19  2020-04-01 -0.137917  2020-01-31   \n",
       "4    2020-02-07 -0.193122 -3.227472e-02  2020-05-01 -0.056387  2020-02-07   \n",
       "..          ...       ...           ...         ...       ...         ...   \n",
       "122  2022-05-13  0.205175  1.772388e-01         NaN       NaN  2022-05-13   \n",
       "123  2022-05-20  0.118175  1.876140e-01         NaN       NaN  2022-05-20   \n",
       "124  2022-05-27  0.293399  1.654167e-01         NaN       NaN  2022-05-27   \n",
       "125  2022-06-03  0.189387  2.015339e-01         NaN       NaN  2022-06-03   \n",
       "126  2022-06-10  0.086447  1.718519e-01         NaN       NaN  2022-06-10   \n",
       "\n",
       "           전체    전체 4주 이동평균        Date        전체        Date        전체  \\\n",
       "0   -0.049055 -4.905535e-02  2020-01-31  0.000000  2020-01-31  0.000000   \n",
       "1   -0.002792 -2.592385e-02  2020-02-29  0.005373  2020-02-29  0.065120   \n",
       "2    0.074351  7.500977e-03  2020-03-31  0.176891  2020-03-31  0.230657   \n",
       "3   -0.022503 -8.673617e-19  2020-04-30  0.258056  2020-04-30  0.355363   \n",
       "4   -0.183668 -3.365319e-02  2020-05-31  0.242322  2020-05-31  0.379569   \n",
       "..        ...           ...         ...       ...         ...       ...   \n",
       "122  0.211520  1.648906e-01         NaN       NaN         NaN       NaN   \n",
       "123  0.116628  1.767616e-01         NaN       NaN         NaN       NaN   \n",
       "124  0.277204  1.607548e-01         NaN       NaN         NaN       NaN   \n",
       "125  0.135544  1.852239e-01         NaN       NaN         NaN       NaN   \n",
       "126  0.102321  1.579243e-01         NaN       NaN         NaN       NaN   \n",
       "\n",
       "           Date        전체  전체 4주 이동평균        Date        전체    전체 4주 이동평균  \n",
       "0    2020-01-11  0.005459    0.005459  2020-01-10 -0.034413 -3.441340e-02  \n",
       "1    2020-01-18  0.061890    0.033675  2020-01-17 -0.039314 -3.686354e-02  \n",
       "2    2020-01-25 -0.067350    0.000000  2020-01-24  0.093355  6.542630e-03  \n",
       "3    2020-02-01  0.212379    0.053095  2020-01-31 -0.019628  2.500000e-09  \n",
       "4    2020-02-08  0.133046    0.084991  2020-02-07  0.001570  8.995767e-03  \n",
       "..          ...       ...         ...         ...       ...           ...  \n",
       "122  2022-05-14  0.043726    0.257965  2022-05-27  0.737057  7.769838e-01  \n",
       "123  2022-05-21  0.483005    0.294000  2022-06-03  0.785399  7.551523e-01  \n",
       "124  2022-05-28  0.072052    0.232318  2022-06-10  0.680380  7.063081e-01  \n",
       "125  2022-06-04  0.102891    0.175418  2022-06-17  0.700501  7.258345e-01  \n",
       "126         NaN       NaN         NaN         NaN       NaN           NaN  \n",
       "\n",
       "[127 rows x 18 columns]"
      ]
     },
     "execution_count": 17,
     "metadata": {},
     "output_type": "execute_result"
    }
   ],
   "source": [
    "all_data = pd.concat([card, cash, fam_card, un_num, un_amount, job_offer, fam_charge], axis=1)\n",
    "all_data"
   ]
  },
  {
   "cell_type": "code",
   "execution_count": 18,
   "id": "cb963c50",
   "metadata": {
    "pycharm": {
     "name": "#%%\n"
    }
   },
   "outputs": [
    {
     "ename": "AttributeError",
     "evalue": "'DataFrame' object has no attribute 'str'",
     "output_type": "error",
     "traceback": [
      "\u001B[1;31m---------------------------------------------------------------------------\u001B[0m",
      "\u001B[1;31mAttributeError\u001B[0m                            Traceback (most recent call last)",
      "\u001B[1;32m<ipython-input-18-f94450fbf506>\u001B[0m in \u001B[0;36m<module>\u001B[1;34m\u001B[0m\n\u001B[1;32m----> 1\u001B[1;33m \u001B[0minput_df_date\u001B[0m\u001B[1;33m(\u001B[0m\u001B[0mall_data\u001B[0m\u001B[1;33m,\u001B[0m \u001B[1;34m'2020-01'\u001B[0m\u001B[1;33m,\u001B[0m \u001B[1;34m'2020-11'\u001B[0m\u001B[1;33m)\u001B[0m\u001B[1;33m\u001B[0m\u001B[1;33m\u001B[0m\u001B[0m\n\u001B[0m",
      "\u001B[1;32m<ipython-input-16-ec9881c785a7>\u001B[0m in \u001B[0;36minput_df_date\u001B[1;34m(df, start_year_month, end_year_month)\u001B[0m\n\u001B[0;32m      4\u001B[0m     \u001B[0mmonth_value_list\u001B[0m \u001B[1;33m=\u001B[0m \u001B[1;33m[\u001B[0m\u001B[1;33m]\u001B[0m\u001B[1;33m\u001B[0m\u001B[1;33m\u001B[0m\u001B[0m\n\u001B[0;32m      5\u001B[0m \u001B[1;33m\u001B[0m\u001B[0m\n\u001B[1;32m----> 6\u001B[1;33m     \u001B[0mdf\u001B[0m\u001B[1;33m[\u001B[0m\u001B[1;34m'year_month'\u001B[0m\u001B[1;33m]\u001B[0m \u001B[1;33m=\u001B[0m \u001B[0mdf\u001B[0m\u001B[1;33m[\u001B[0m\u001B[1;34m'Date'\u001B[0m\u001B[1;33m]\u001B[0m\u001B[1;33m.\u001B[0m\u001B[0mstr\u001B[0m\u001B[1;33m.\u001B[0m\u001B[0mslice\u001B[0m\u001B[1;33m(\u001B[0m\u001B[0mstop\u001B[0m\u001B[1;33m=\u001B[0m\u001B[1;36m7\u001B[0m\u001B[1;33m)\u001B[0m\u001B[1;33m\u001B[0m\u001B[1;33m\u001B[0m\u001B[0m\n\u001B[0m\u001B[0;32m      7\u001B[0m \u001B[1;33m\u001B[0m\u001B[0m\n\u001B[0;32m      8\u001B[0m \u001B[1;31m#     try:\u001B[0m\u001B[1;33m\u001B[0m\u001B[1;33m\u001B[0m\u001B[1;33m\u001B[0m\u001B[0m\n",
      "\u001B[1;32m~\\anaconda3\\lib\\site-packages\\pandas\\core\\generic.py\u001B[0m in \u001B[0;36m__getattr__\u001B[1;34m(self, name)\u001B[0m\n\u001B[0;32m   5573\u001B[0m         ):\n\u001B[0;32m   5574\u001B[0m             \u001B[1;32mreturn\u001B[0m \u001B[0mself\u001B[0m\u001B[1;33m[\u001B[0m\u001B[0mname\u001B[0m\u001B[1;33m]\u001B[0m\u001B[1;33m\u001B[0m\u001B[1;33m\u001B[0m\u001B[0m\n\u001B[1;32m-> 5575\u001B[1;33m         \u001B[1;32mreturn\u001B[0m \u001B[0mobject\u001B[0m\u001B[1;33m.\u001B[0m\u001B[0m__getattribute__\u001B[0m\u001B[1;33m(\u001B[0m\u001B[0mself\u001B[0m\u001B[1;33m,\u001B[0m \u001B[0mname\u001B[0m\u001B[1;33m)\u001B[0m\u001B[1;33m\u001B[0m\u001B[1;33m\u001B[0m\u001B[0m\n\u001B[0m\u001B[0;32m   5576\u001B[0m \u001B[1;33m\u001B[0m\u001B[0m\n\u001B[0;32m   5577\u001B[0m     \u001B[1;32mdef\u001B[0m \u001B[0m__setattr__\u001B[0m\u001B[1;33m(\u001B[0m\u001B[0mself\u001B[0m\u001B[1;33m,\u001B[0m \u001B[0mname\u001B[0m\u001B[1;33m:\u001B[0m \u001B[0mstr\u001B[0m\u001B[1;33m,\u001B[0m \u001B[0mvalue\u001B[0m\u001B[1;33m)\u001B[0m \u001B[1;33m->\u001B[0m \u001B[1;32mNone\u001B[0m\u001B[1;33m:\u001B[0m\u001B[1;33m\u001B[0m\u001B[1;33m\u001B[0m\u001B[0m\n",
      "\u001B[1;31mAttributeError\u001B[0m: 'DataFrame' object has no attribute 'str'"
     ]
    }
   ],
   "source": [
    "input_df_date(all_data, '2020-01', '2020-11')"
   ]
  },
  {
   "cell_type": "markdown",
   "id": "b258b73c",
   "metadata": {
    "pycharm": {
     "name": "#%% md\n"
    }
   },
   "source": [
    "### preprocessing function"
   ]
  },
  {
   "cell_type": "code",
   "execution_count": 16,
   "id": "34f30497",
   "metadata": {
    "pycharm": {
     "name": "#%%\n"
    }
   },
   "outputs": [],
   "source": [
    "## all data preprocessing (monthly variation)\n",
    "def input_df_date(df, start_year_month, end_year_month):\n",
    "    date_list = []\n",
    "    month_value_list = []\n",
    "\n",
    "    try:\n",
    "        df['year_month'] = df['Date'].str.slice(stop=7)\n",
    "        \n",
    "    except:\n",
    "        df = df.T\n",
    "        df.columns = df.iloc[0]\n",
    "        df = df.drop(df.index[0]).reset_index(drop=True)\n",
    "        df = df.drop(['관내', '관외'], axis=1)\n",
    "\n",
    "        df['year_month'] = df['전국 총계'].str.slice(stop=7)\n",
    "        df['year_month'] = [df['year_month'][i].replace('.', '-') for i in range(len(df['year_month']))]\n",
    "        df['전체'] = [int(df['합계'][i].replace(',', '')) for i in range(len(df['year_month']))]\n",
    "\n",
    "        df.drop(['전국 총계', '합계'], axis=1, inplace=True)\n",
    "        \n",
    "\n",
    "    for date in df.year_month.unique():\n",
    "        four_weeks = df[df['year_month']==date].reset_index(drop=True)\n",
    "\n",
    "        week_value_list = []\n",
    "        week_value_list = four_weeks['전체'].to_list()\n",
    "\n",
    "        month_value = np.log(sum([a for a in np.exp(week_value_list)]))\n",
    "        month_value_list.append(month_value)\n",
    "        date_list.append(date)\n",
    "\n",
    "\n",
    "    df_month = pd.DataFrame(columns=['date', 'month_value'])\n",
    "    df_month['date'] = date_list\n",
    "    df_month['month_value'] = month_value_list\n",
    "    \n",
    "    df_month = df_month.set_index('date')\n",
    "\n",
    "    term = df_month.reset_index()\n",
    "    start = term.loc[term['date']==start_year_month].index.values\n",
    "    end = term.loc[term['date']==end_year_month].index.values\n",
    "    result = term.iloc[int(start):int(end)+1]\n",
    "    \n",
    "    result = result.set_index('date')\n",
    "    \n",
    "    return result"
   ]
  },
  {
   "cell_type": "code",
   "execution_count": null,
   "id": "e5f647a5",
   "metadata": {
    "pycharm": {
     "name": "#%%\n"
    }
   },
   "outputs": [],
   "source": []
  },
  {
   "cell_type": "code",
   "execution_count": 7,
   "id": "a8be18dc",
   "metadata": {
    "pycharm": {
     "name": "#%%\n"
    }
   },
   "outputs": [],
   "source": [
    "    mobile = pd.read_csv('C:/Users/KIMDAEUN/Desktop/gdp_data/기후금융/나우캐스트/통신 모바일 인구이동량 통계(2022년 6월 3주차).csv')\n",
    "\n",
    "    date_list = []\n",
    "    month_value_list = []\n",
    "\n",
    "    try:\n",
    "        mobile['year_month'] = mobile['Date'].str.slice(stop=7)\n",
    "        \n",
    "    except:\n",
    "        mobile = mobile.T\n",
    "        mobile.columns = mobile.iloc[0]\n",
    "        mobile = mobile.drop(mobile.index[0]).reset_index(drop=True)\n",
    "        mobile = mobile.drop(['관내', '관외'], axis=1)\n",
    "\n",
    "        mobile['year_month'] = mobile['전국 총계'].str.slice(stop=7)\n",
    "        mobile['year_month'] = [mobile['year_month'][i].replace('.', '-') for i in range(len(mobile['year_month']))]\n",
    "        mobile['전체'] = [int(mobile['합계'][i].replace(',', '')) for i in range(len(mobile['year_month']))]\n",
    "\n",
    "        mobile.drop(['전국 총계', '합계'], axis=1, inplace=True)        \n",
    "\n",
    "    for date in mobile.year_month.unique():\n",
    "        four_weeks = mobile[mobile['year_month']==date].reset_index(drop=True)\n",
    "\n",
    "        week_value_list = []\n",
    "        week_value_list = four_weeks['전체'].to_list()\n",
    "        \n",
    "        \n",
    "        month_value = np.exp(week_value_list)\n",
    "\n",
    "#         month_value = np.log(sum([a for a in np.exp(week_value_list)]))\n",
    "#         month_value_list.append(month_value)\n",
    "#         date_list.append(date)\n",
    "\n",
    "#     mobile_month = pd.DataFrame(columns=['date', 'month_value'])\n",
    "#     mobile_month['date'] = date_list\n",
    "#     mobile_month['month_value'] = month_value_list\n",
    "    \n",
    "#     mobile_month = mobile_month.set_index('date')\n",
    "    \n",
    "#     term = mobile_month.reset_index()\n",
    "#     start = term.loc[term['date']=='2020-01'].index.values\n",
    "#     end = term.loc[term['date']=='2020-11'].index.values\n",
    "#     result = term.iloc[int(start):int(end)+1]\n",
    "    \n",
    "#     result = result.set_index('date')\n",
    "    \n",
    "#     result"
   ]
  },
  {
   "cell_type": "code",
   "execution_count": 8,
   "id": "fa0a2ac3",
   "metadata": {
    "pycharm": {
     "name": "#%%\n"
    }
   },
   "outputs": [
    {
     "data": {
      "text/plain": [
       "array([inf, inf, inf])"
      ]
     },
     "execution_count": 8,
     "metadata": {},
     "output_type": "execute_result"
    }
   ],
   "source": [
    "np.exp(week_value_list)"
   ]
  },
  {
   "cell_type": "markdown",
   "id": "2e938ee3",
   "metadata": {
    "pycharm": {
     "name": "#%% md\n"
    }
   },
   "source": [
    "### function result"
   ]
  },
  {
   "cell_type": "code",
   "execution_count": 18,
   "id": "ffd451ce",
   "metadata": {
    "pycharm": {
     "name": "#%%\n"
    }
   },
   "outputs": [
    {
     "data": {
      "text/html": [
       "<div>\n",
       "<style scoped>\n",
       "    .dataframe tbody tr th:only-of-type {\n",
       "        vertical-align: middle;\n",
       "    }\n",
       "\n",
       "    .dataframe tbody tr th {\n",
       "        vertical-align: top;\n",
       "    }\n",
       "\n",
       "    .dataframe thead th {\n",
       "        text-align: right;\n",
       "    }\n",
       "</style>\n",
       "<table border=\"1\" class=\"dataframe\">\n",
       "  <thead>\n",
       "    <tr style=\"text-align: right;\">\n",
       "      <th></th>\n",
       "      <th>month_value</th>\n",
       "    </tr>\n",
       "    <tr>\n",
       "      <th>date</th>\n",
       "      <th></th>\n",
       "    </tr>\n",
       "  </thead>\n",
       "  <tbody>\n",
       "    <tr>\n",
       "      <th>2020-01</th>\n",
       "      <td>0.000000</td>\n",
       "    </tr>\n",
       "    <tr>\n",
       "      <th>2020-02</th>\n",
       "      <td>0.005373</td>\n",
       "    </tr>\n",
       "    <tr>\n",
       "      <th>2020-03</th>\n",
       "      <td>0.176891</td>\n",
       "    </tr>\n",
       "    <tr>\n",
       "      <th>2020-04</th>\n",
       "      <td>0.258056</td>\n",
       "    </tr>\n",
       "    <tr>\n",
       "      <th>2020-05</th>\n",
       "      <td>0.242322</td>\n",
       "    </tr>\n",
       "    <tr>\n",
       "      <th>2020-06</th>\n",
       "      <td>0.356605</td>\n",
       "    </tr>\n",
       "    <tr>\n",
       "      <th>2020-07</th>\n",
       "      <td>0.444268</td>\n",
       "    </tr>\n",
       "    <tr>\n",
       "      <th>2020-08</th>\n",
       "      <td>0.308331</td>\n",
       "    </tr>\n",
       "    <tr>\n",
       "      <th>2020-09</th>\n",
       "      <td>0.430579</td>\n",
       "    </tr>\n",
       "    <tr>\n",
       "      <th>2020-10</th>\n",
       "      <td>0.196615</td>\n",
       "    </tr>\n",
       "    <tr>\n",
       "      <th>2020-11</th>\n",
       "      <td>0.129967</td>\n",
       "    </tr>\n",
       "  </tbody>\n",
       "</table>\n",
       "</div>"
      ],
      "text/plain": [
       "         month_value\n",
       "date                \n",
       "2020-01     0.000000\n",
       "2020-02     0.005373\n",
       "2020-03     0.176891\n",
       "2020-04     0.258056\n",
       "2020-05     0.242322\n",
       "2020-06     0.356605\n",
       "2020-07     0.444268\n",
       "2020-08     0.308331\n",
       "2020-09     0.430579\n",
       "2020-10     0.196615\n",
       "2020-11     0.129967"
      ]
     },
     "execution_count": 18,
     "metadata": {},
     "output_type": "execute_result"
    }
   ],
   "source": [
    "input_df_date(un_num, '2020-01', '2020-11') ## 모바일인구이동량 통계를 제외하고는 모두 아래 형태로 출력이 됩니다."
   ]
  },
  {
   "cell_type": "code",
   "execution_count": 37,
   "id": "0154ebe2",
   "metadata": {
    "pycharm": {
     "name": "#%%\n"
    }
   },
   "outputs": [
    {
     "data": {
      "text/html": [
       "<div>\n",
       "<style scoped>\n",
       "    .dataframe tbody tr th:only-of-type {\n",
       "        vertical-align: middle;\n",
       "    }\n",
       "\n",
       "    .dataframe tbody tr th {\n",
       "        vertical-align: top;\n",
       "    }\n",
       "\n",
       "    .dataframe thead th {\n",
       "        text-align: right;\n",
       "    }\n",
       "</style>\n",
       "<table border=\"1\" class=\"dataframe\">\n",
       "  <thead>\n",
       "    <tr style=\"text-align: right;\">\n",
       "      <th></th>\n",
       "      <th>month_value</th>\n",
       "    </tr>\n",
       "    <tr>\n",
       "      <th>date</th>\n",
       "      <th></th>\n",
       "    </tr>\n",
       "  </thead>\n",
       "  <tbody>\n",
       "    <tr>\n",
       "      <th>2019-01</th>\n",
       "      <td>inf</td>\n",
       "    </tr>\n",
       "    <tr>\n",
       "      <th>2019-02</th>\n",
       "      <td>inf</td>\n",
       "    </tr>\n",
       "    <tr>\n",
       "      <th>2019-03</th>\n",
       "      <td>inf</td>\n",
       "    </tr>\n",
       "    <tr>\n",
       "      <th>2019-04</th>\n",
       "      <td>inf</td>\n",
       "    </tr>\n",
       "    <tr>\n",
       "      <th>2019-05</th>\n",
       "      <td>inf</td>\n",
       "    </tr>\n",
       "    <tr>\n",
       "      <th>2019-06</th>\n",
       "      <td>inf</td>\n",
       "    </tr>\n",
       "    <tr>\n",
       "      <th>2019-07</th>\n",
       "      <td>inf</td>\n",
       "    </tr>\n",
       "    <tr>\n",
       "      <th>2019-08</th>\n",
       "      <td>inf</td>\n",
       "    </tr>\n",
       "    <tr>\n",
       "      <th>2019-09</th>\n",
       "      <td>inf</td>\n",
       "    </tr>\n",
       "    <tr>\n",
       "      <th>2019-10</th>\n",
       "      <td>inf</td>\n",
       "    </tr>\n",
       "    <tr>\n",
       "      <th>2019-11</th>\n",
       "      <td>inf</td>\n",
       "    </tr>\n",
       "    <tr>\n",
       "      <th>2019-12</th>\n",
       "      <td>inf</td>\n",
       "    </tr>\n",
       "    <tr>\n",
       "      <th>2020-01</th>\n",
       "      <td>inf</td>\n",
       "    </tr>\n",
       "    <tr>\n",
       "      <th>2020-02</th>\n",
       "      <td>inf</td>\n",
       "    </tr>\n",
       "    <tr>\n",
       "      <th>2020-03</th>\n",
       "      <td>inf</td>\n",
       "    </tr>\n",
       "    <tr>\n",
       "      <th>2020-04</th>\n",
       "      <td>inf</td>\n",
       "    </tr>\n",
       "    <tr>\n",
       "      <th>2020-05</th>\n",
       "      <td>inf</td>\n",
       "    </tr>\n",
       "    <tr>\n",
       "      <th>2020-06</th>\n",
       "      <td>inf</td>\n",
       "    </tr>\n",
       "    <tr>\n",
       "      <th>2020-07</th>\n",
       "      <td>inf</td>\n",
       "    </tr>\n",
       "    <tr>\n",
       "      <th>2020-08</th>\n",
       "      <td>inf</td>\n",
       "    </tr>\n",
       "    <tr>\n",
       "      <th>2020-09</th>\n",
       "      <td>inf</td>\n",
       "    </tr>\n",
       "    <tr>\n",
       "      <th>2020-10</th>\n",
       "      <td>inf</td>\n",
       "    </tr>\n",
       "    <tr>\n",
       "      <th>2020-11</th>\n",
       "      <td>inf</td>\n",
       "    </tr>\n",
       "    <tr>\n",
       "      <th>2020-12</th>\n",
       "      <td>inf</td>\n",
       "    </tr>\n",
       "    <tr>\n",
       "      <th>2021-01</th>\n",
       "      <td>inf</td>\n",
       "    </tr>\n",
       "    <tr>\n",
       "      <th>2021-02</th>\n",
       "      <td>inf</td>\n",
       "    </tr>\n",
       "    <tr>\n",
       "      <th>2021-03</th>\n",
       "      <td>inf</td>\n",
       "    </tr>\n",
       "    <tr>\n",
       "      <th>2021-04</th>\n",
       "      <td>inf</td>\n",
       "    </tr>\n",
       "    <tr>\n",
       "      <th>2021-05</th>\n",
       "      <td>inf</td>\n",
       "    </tr>\n",
       "    <tr>\n",
       "      <th>2021-06</th>\n",
       "      <td>inf</td>\n",
       "    </tr>\n",
       "    <tr>\n",
       "      <th>2021-07</th>\n",
       "      <td>inf</td>\n",
       "    </tr>\n",
       "    <tr>\n",
       "      <th>2021-08</th>\n",
       "      <td>inf</td>\n",
       "    </tr>\n",
       "    <tr>\n",
       "      <th>2021-09</th>\n",
       "      <td>inf</td>\n",
       "    </tr>\n",
       "    <tr>\n",
       "      <th>2021-10</th>\n",
       "      <td>inf</td>\n",
       "    </tr>\n",
       "    <tr>\n",
       "      <th>2021-11</th>\n",
       "      <td>inf</td>\n",
       "    </tr>\n",
       "    <tr>\n",
       "      <th>2021-12</th>\n",
       "      <td>inf</td>\n",
       "    </tr>\n",
       "    <tr>\n",
       "      <th>2022-01</th>\n",
       "      <td>inf</td>\n",
       "    </tr>\n",
       "    <tr>\n",
       "      <th>2022-02</th>\n",
       "      <td>inf</td>\n",
       "    </tr>\n",
       "    <tr>\n",
       "      <th>2022-03</th>\n",
       "      <td>inf</td>\n",
       "    </tr>\n",
       "    <tr>\n",
       "      <th>2022-04</th>\n",
       "      <td>inf</td>\n",
       "    </tr>\n",
       "    <tr>\n",
       "      <th>2022-05</th>\n",
       "      <td>inf</td>\n",
       "    </tr>\n",
       "    <tr>\n",
       "      <th>2022-06</th>\n",
       "      <td>inf</td>\n",
       "    </tr>\n",
       "  </tbody>\n",
       "</table>\n",
       "</div>"
      ],
      "text/plain": [
       "         month_value\n",
       "date                \n",
       "2019-01          inf\n",
       "2019-02          inf\n",
       "2019-03          inf\n",
       "2019-04          inf\n",
       "2019-05          inf\n",
       "2019-06          inf\n",
       "2019-07          inf\n",
       "2019-08          inf\n",
       "2019-09          inf\n",
       "2019-10          inf\n",
       "2019-11          inf\n",
       "2019-12          inf\n",
       "2020-01          inf\n",
       "2020-02          inf\n",
       "2020-03          inf\n",
       "2020-04          inf\n",
       "2020-05          inf\n",
       "2020-06          inf\n",
       "2020-07          inf\n",
       "2020-08          inf\n",
       "2020-09          inf\n",
       "2020-10          inf\n",
       "2020-11          inf\n",
       "2020-12          inf\n",
       "2021-01          inf\n",
       "2021-02          inf\n",
       "2021-03          inf\n",
       "2021-04          inf\n",
       "2021-05          inf\n",
       "2021-06          inf\n",
       "2021-07          inf\n",
       "2021-08          inf\n",
       "2021-09          inf\n",
       "2021-10          inf\n",
       "2021-11          inf\n",
       "2021-12          inf\n",
       "2022-01          inf\n",
       "2022-02          inf\n",
       "2022-03          inf\n",
       "2022-04          inf\n",
       "2022-05          inf\n",
       "2022-06          inf"
      ]
     },
     "execution_count": 37,
     "metadata": {},
     "output_type": "execute_result"
    }
   ],
   "source": [
    "week_to_month(mobile)"
   ]
  },
  {
   "cell_type": "code",
   "execution_count": 95,
   "id": "3eefae96",
   "metadata": {
    "pycharm": {
     "name": "#%%\n"
    }
   },
   "outputs": [
    {
     "data": {
      "text/plain": [
       "[-0.06402267, -0.00754951, 0.06603555, 0.00553663]"
      ]
     },
     "execution_count": 95,
     "metadata": {},
     "output_type": "execute_result"
    }
   ],
   "source": [
    "## 1월달 변동량으로 테스트 (수동계산)\n",
    "test = card.iloc[0:4,1].to_list()\n",
    "test"
   ]
  },
  {
   "cell_type": "code",
   "execution_count": 94,
   "id": "bd60cc29",
   "metadata": {
    "pycharm": {
     "name": "#%%\n"
    }
   },
   "outputs": [
    {
     "data": {
      "text/plain": [
       "array([inf, inf, inf, inf])"
      ]
     },
     "execution_count": 94,
     "metadata": {},
     "output_type": "execute_result"
    }
   ],
   "source": [
    "## exp\n",
    "exp_test = np.exp(test)\n",
    "exp_test"
   ]
  },
  {
   "cell_type": "code",
   "execution_count": 9,
   "id": "accdf88e",
   "metadata": {
    "pycharm": {
     "name": "#%%\n"
    }
   },
   "outputs": [
    {
     "data": {
      "text/plain": [
       "0.9379837351984223"
      ]
     },
     "execution_count": 9,
     "metadata": {},
     "output_type": "execute_result"
    }
   ],
   "source": [
    "np.exp(-0.06402267)"
   ]
  },
  {
   "cell_type": "code",
   "execution_count": 10,
   "id": "99e26964",
   "metadata": {
    "pycharm": {
     "name": "#%%\n"
    }
   },
   "outputs": [
    {
     "data": {
      "text/plain": [
       "4.004279329932788"
      ]
     },
     "execution_count": 10,
     "metadata": {},
     "output_type": "execute_result"
    }
   ],
   "source": [
    "## sum\n",
    "sum_exp_test = np.sum(exp_test)\n",
    "sum_exp_test"
   ]
  },
  {
   "cell_type": "code",
   "execution_count": 11,
   "id": "3c4bc6c2",
   "metadata": {
    "pycharm": {
     "name": "#%%\n"
    }
   },
   "outputs": [
    {
     "data": {
      "text/plain": [
       "4.00427934"
      ]
     },
     "execution_count": 11,
     "metadata": {},
     "output_type": "execute_result"
    }
   ],
   "source": [
    "round(0.93798374+0.99247892+1.06826469+1.00555199, 10)"
   ]
  },
  {
   "cell_type": "code",
   "execution_count": 12,
   "id": "a8dc820e",
   "metadata": {
    "pycharm": {
     "name": "#%%\n"
    }
   },
   "outputs": [
    {
     "data": {
      "text/plain": [
       "1.3873636217401453"
      ]
     },
     "execution_count": 12,
     "metadata": {},
     "output_type": "execute_result"
    }
   ],
   "source": [
    "## log\n",
    "log_sum_exp_test = np.log(sum_exp_test)\n",
    "log_sum_exp_test"
   ]
  }
 ],
 "metadata": {
  "kernelspec": {
   "display_name": "Python 3",
   "language": "python",
   "name": "python3"
  },
  "language_info": {
   "codemirror_mode": {
    "name": "ipython",
    "version": 3
   },
   "file_extension": ".py",
   "mimetype": "text/x-python",
   "name": "python",
   "nbconvert_exporter": "python",
   "pygments_lexer": "ipython3",
   "version": "3.8.8"
  }
 },
 "nbformat": 4,
 "nbformat_minor": 5
}