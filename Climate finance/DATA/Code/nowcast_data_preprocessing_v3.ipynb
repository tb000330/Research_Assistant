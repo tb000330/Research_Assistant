{
 "cells": [
  {
   "cell_type": "code",
   "execution_count": 11,
   "id": "eb949bfa",
   "metadata": {
    "pycharm": {
     "name": "#%%\n"
    }
   },
   "outputs": [],
   "source": [
    "import numpy as np\n",
    "import pandas as pd\n",
    "from tqdm import tqdm\n",
    "import re\n",
    "\n",
    "import datetime\n",
    "import time\n",
    "\n",
    "import os\n",
    "import warnings\n",
    "warnings.filterwarnings(action='ignore')"
   ]
  },
  {
   "cell_type": "code",
   "execution_count": 12,
   "id": "0c55bab3",
   "metadata": {
    "pycharm": {
     "name": "#%%\n"
    }
   },
   "outputs": [
    {
     "data": {
      "text/plain": [
       "['.ipynb_checkpoints',\n",
       " 'nowcast_data_preprocessing',\n",
       " 'nowcast_data_preprocessing.ipynb',\n",
       " 'nowcast_data_preprocessing.zip',\n",
       " 'nowcast_data_preprocessing_v2.ipynb',\n",
       " '가맹점 카드매출액(주,월).csv',\n",
       " '가맹점 현금매출액(월).csv',\n",
       " '신용카드이용금액(주).csv',\n",
       " '실업급여지급건수(월).csv',\n",
       " '실업급여지급금액(월).csv',\n",
       " '온라인채용 모집인원수(주).csv',\n",
       " '전자지급서비스 충전액(주).csv',\n",
       " '통신 모바일 인구이동량 통계(2022년 6월 2주차).csv',\n",
       " '통신 모바일 인구이동량 통계(2022년 6월 3주차).csv']"
      ]
     },
     "execution_count": 12,
     "metadata": {},
     "output_type": "execute_result"
    }
   ],
   "source": [
    "os.listdir('C:/Users/KIMDAEUN/Desktop/gdp_data/기후금융/나우캐스트/')"
   ]
  },
  {
   "cell_type": "code",
   "execution_count": 62,
   "id": "a236178a",
   "metadata": {
    "pycharm": {
     "name": "#%%\n"
    }
   },
   "outputs": [],
   "source": [
    "card = pd.read_csv('C:/Users/KIMDAEUN/Desktop/gdp_data/기후금융/나우캐스트/가맹점 카드매출액(주,월).csv')\n",
    "cash = pd.read_csv('C:/Users/KIMDAEUN/Desktop/gdp_data/기후금융/나우캐스트/가맹점 현금매출액(월).csv')\n",
    "fam_card = pd.read_csv('C:/Users/KIMDAEUN/Desktop/gdp_data/기후금융/나우캐스트/신용카드이용금액(주).csv')\n",
    "un_num = pd.read_csv('C:/Users/KIMDAEUN/Desktop/gdp_data/기후금융/나우캐스트/실업급여지급건수(월).csv')\n",
    "un_amount = pd.read_csv('C:/Users/KIMDAEUN/Desktop/gdp_data/기후금융/나우캐스트/실업급여지급금액(월).csv')\n",
    "job_offer = pd.read_csv('C:/Users/KIMDAEUN/Desktop/gdp_data/기후금융/나우캐스트/온라인채용 모집인원수(주).csv')\n",
    "fam_charge = pd.read_csv('C:/Users/KIMDAEUN/Desktop/gdp_data/기후금융/나우캐스트/전자지급서비스 충전액(주).csv')\n",
    "mobile = pd.read_csv('C:/Users/KIMDAEUN/Desktop/gdp_data/기후금융/나우캐스트/통신 모바일 인구이동량 통계(2022년 6월 3주차).csv')"
   ]
  },
  {
   "cell_type": "markdown",
   "id": "b258b73c",
   "metadata": {
    "pycharm": {
     "name": "#%% md\n"
    }
   },
   "source": [
    "### preprocessing function"
   ]
  },
  {
   "cell_type": "markdown",
   "id": "912850e8",
   "metadata": {
    "pycharm": {
     "name": "#%% md\n"
    }
   },
   "source": [
    "##### *두 함수 모두 실행"
   ]
  },
  {
   "cell_type": "code",
   "execution_count": 187,
   "id": "34f30497",
   "metadata": {
    "pycharm": {
     "name": "#%%\n"
    }
   },
   "outputs": [],
   "source": [
    "## all data preprocessing (monthly variation)\n",
    "def input_df_date(df):\n",
    "    date_list = []\n",
    "    month_value_list = []\n",
    "\n",
    "    try:\n",
    "        df['year_month'] = df['Date'].str.slice(stop=7)\n",
    "        \n",
    "        for date in df.year_month.unique():\n",
    "            four_weeks = df[df['year_month']==date].reset_index(drop=True)\n",
    "\n",
    "            week_value_list = []\n",
    "            week_value_list = four_weeks['전체'].to_list()\n",
    "\n",
    "            month_value = np.log(sum([a for a in np.exp(week_value_list)]))\n",
    "            month_value_list.append(month_value)\n",
    "            date_list.append(date)\n",
    "        \n",
    "    except: ## mobile\n",
    "        df = df.T\n",
    "        df.columns = df.iloc[0]\n",
    "        df = df.drop(df.index[0]).reset_index(drop=True)\n",
    "        df = df.drop(['관내', '관외'], axis=1)\n",
    "\n",
    "        df['year_month'] = df['전국 총계'].str.slice(stop=7)\n",
    "        df['year_month'] = [df['year_month'][i].replace('.', '-') for i in range(len(df['year_month']))]\n",
    "        df['전체'] = [int(df['합계'][i].replace(',', '')) for i in range(len(df['year_month']))]\n",
    "\n",
    "        df.drop(['전국 총계', '합계'], axis=1, inplace=True)\n",
    "        \n",
    "        for date in df.year_month.unique():\n",
    "            four_weeks = df[df['year_month']==date].reset_index(drop=True)\n",
    "\n",
    "            week_value_list = []\n",
    "            week_value_list = four_weeks['전체'].to_list()\n",
    "\n",
    "            month_value = sum(week_value_list)\n",
    "            month_value_list.append(month_value)\n",
    "            date_list.append(date)\n",
    "            \n",
    "    df_month = pd.DataFrame(columns=['date', 'month_value'])\n",
    "    df_month['date'] = date_list\n",
    "    df_month['month_value'] = month_value_list\n",
    "    \n",
    "    df_month = df_month.set_index('date')\n",
    "    \n",
    "    return df_month"
   ]
  },
  {
   "cell_type": "code",
   "execution_count": 278,
   "id": "1a1aa401",
   "metadata": {
    "pycharm": {
     "name": "#%%\n"
    }
   },
   "outputs": [],
   "source": [
    "def input_date_alldata(start_year_month, end_year_month, *all_data):\n",
    "    \n",
    "    alldata_list = [input_df_date(sep) for sep in all_data]\n",
    "    \n",
    "    for i in range(len(alldata_list)):\n",
    "        if alldata_list[i].loc['2020-02','month_value'] == 1.334110997696652:\n",
    "            alldata_list[i].rename(columns={'month_value':'card'},inplace=True)\n",
    "        elif alldata_list[i].loc['2020-02','month_value'] == 0.021544330000000007:\n",
    "            alldata_list[i].rename(columns={'month_value':'cash'},inplace=True)\n",
    "        elif alldata_list[i].loc['2020-02','month_value'] == 1.334864568442162:\n",
    "            alldata_list[i].rename(columns={'month_value':'fam_card'},inplace=True)\n",
    "        elif alldata_list[i].loc['2020-02','month_value'] == 0.005372560000000047:\n",
    "            alldata_list[i].rename(columns={'month_value':'un_num'},inplace=True)\n",
    "        elif alldata_list[i].loc['2020-02','month_value'] == 0.06512040000000005:\n",
    "            alldata_list[i].rename(columns={'month_value':'un_amount'},inplace=True)\n",
    "        elif alldata_list[i].loc['2020-02','month_value'] == 1.7124564799025555:\n",
    "            alldata_list[i].rename(columns={'month_value':'job_offer'},inplace=True)\n",
    "        elif alldata_list[i].loc['2020-02','month_value'] == 1.4243140303594255:\n",
    "            alldata_list[i].rename(columns={'month_value':'fam_charg'},inplace=True)\n",
    "        elif alldata_list[i].loc['2020-02','month_value'] == 1.4243140303594255:\n",
    "            alldata_list[i].rename(columns={'month_value':'fam_charg'},inplace=True)\n",
    "        elif alldata_list[i].loc['2020-02','month_value'] == 407998403:\n",
    "            alldata_list[i].rename(columns={'month_value':'mobile'},inplace=True)\n",
    "    \n",
    "    term = pd.concat(alldata_list, axis=1).sort_values('date').reset_index()\n",
    "    start = term.loc[term['date']==start_year_month].index.values\n",
    "    end = term.loc[term['date']==end_year_month].index.values\n",
    "    result = term.iloc[int(start):int(end)+1]\n",
    "    \n",
    "    result = result.set_index('date')\n",
    "    \n",
    "    return result"
   ]
  },
  {
   "cell_type": "markdown",
   "id": "2e938ee3",
   "metadata": {
    "pycharm": {
     "name": "#%% md\n"
    }
   },
   "source": [
    "### function result"
   ]
  },
  {
   "cell_type": "code",
   "execution_count": 280,
   "id": "0154ebe2",
   "metadata": {
    "pycharm": {
     "name": "#%%\n"
    }
   },
   "outputs": [
    {
     "data": {
      "text/html": [
       "<div>\n",
       "<style scoped>\n",
       "    .dataframe tbody tr th:only-of-type {\n",
       "        vertical-align: middle;\n",
       "    }\n",
       "\n",
       "    .dataframe tbody tr th {\n",
       "        vertical-align: top;\n",
       "    }\n",
       "\n",
       "    .dataframe thead th {\n",
       "        text-align: right;\n",
       "    }\n",
       "</style>\n",
       "<table border=\"1\" class=\"dataframe\">\n",
       "  <thead>\n",
       "    <tr style=\"text-align: right;\">\n",
       "      <th></th>\n",
       "      <th>card</th>\n",
       "      <th>cash</th>\n",
       "      <th>fam_card</th>\n",
       "      <th>un_num</th>\n",
       "      <th>un_amount</th>\n",
       "      <th>mobile</th>\n",
       "    </tr>\n",
       "    <tr>\n",
       "      <th>date</th>\n",
       "      <th></th>\n",
       "      <th></th>\n",
       "      <th></th>\n",
       "      <th></th>\n",
       "      <th></th>\n",
       "      <th></th>\n",
       "    </tr>\n",
       "  </thead>\n",
       "  <tbody>\n",
       "    <tr>\n",
       "      <th>2019-01</th>\n",
       "      <td>NaN</td>\n",
       "      <td>NaN</td>\n",
       "      <td>NaN</td>\n",
       "      <td>NaN</td>\n",
       "      <td>NaN</td>\n",
       "      <td>548705610</td>\n",
       "    </tr>\n",
       "    <tr>\n",
       "      <th>2019-02</th>\n",
       "      <td>NaN</td>\n",
       "      <td>NaN</td>\n",
       "      <td>NaN</td>\n",
       "      <td>NaN</td>\n",
       "      <td>NaN</td>\n",
       "      <td>429729149</td>\n",
       "    </tr>\n",
       "    <tr>\n",
       "      <th>2019-03</th>\n",
       "      <td>NaN</td>\n",
       "      <td>NaN</td>\n",
       "      <td>NaN</td>\n",
       "      <td>NaN</td>\n",
       "      <td>NaN</td>\n",
       "      <td>453005338</td>\n",
       "    </tr>\n",
       "    <tr>\n",
       "      <th>2019-04</th>\n",
       "      <td>NaN</td>\n",
       "      <td>NaN</td>\n",
       "      <td>NaN</td>\n",
       "      <td>NaN</td>\n",
       "      <td>NaN</td>\n",
       "      <td>460709859</td>\n",
       "    </tr>\n",
       "    <tr>\n",
       "      <th>2019-05</th>\n",
       "      <td>NaN</td>\n",
       "      <td>NaN</td>\n",
       "      <td>NaN</td>\n",
       "      <td>NaN</td>\n",
       "      <td>NaN</td>\n",
       "      <td>583466070</td>\n",
       "    </tr>\n",
       "    <tr>\n",
       "      <th>2019-06</th>\n",
       "      <td>NaN</td>\n",
       "      <td>NaN</td>\n",
       "      <td>NaN</td>\n",
       "      <td>NaN</td>\n",
       "      <td>NaN</td>\n",
       "      <td>460463571</td>\n",
       "    </tr>\n",
       "    <tr>\n",
       "      <th>2019-07</th>\n",
       "      <td>NaN</td>\n",
       "      <td>NaN</td>\n",
       "      <td>NaN</td>\n",
       "      <td>NaN</td>\n",
       "      <td>NaN</td>\n",
       "      <td>456753971</td>\n",
       "    </tr>\n",
       "    <tr>\n",
       "      <th>2019-08</th>\n",
       "      <td>NaN</td>\n",
       "      <td>NaN</td>\n",
       "      <td>NaN</td>\n",
       "      <td>NaN</td>\n",
       "      <td>NaN</td>\n",
       "      <td>562112879</td>\n",
       "    </tr>\n",
       "    <tr>\n",
       "      <th>2019-09</th>\n",
       "      <td>NaN</td>\n",
       "      <td>NaN</td>\n",
       "      <td>NaN</td>\n",
       "      <td>NaN</td>\n",
       "      <td>NaN</td>\n",
       "      <td>449666567</td>\n",
       "    </tr>\n",
       "    <tr>\n",
       "      <th>2019-10</th>\n",
       "      <td>NaN</td>\n",
       "      <td>NaN</td>\n",
       "      <td>NaN</td>\n",
       "      <td>NaN</td>\n",
       "      <td>NaN</td>\n",
       "      <td>574659966</td>\n",
       "    </tr>\n",
       "    <tr>\n",
       "      <th>2019-11</th>\n",
       "      <td>NaN</td>\n",
       "      <td>NaN</td>\n",
       "      <td>NaN</td>\n",
       "      <td>NaN</td>\n",
       "      <td>NaN</td>\n",
       "      <td>459145593</td>\n",
       "    </tr>\n",
       "    <tr>\n",
       "      <th>2019-12</th>\n",
       "      <td>NaN</td>\n",
       "      <td>NaN</td>\n",
       "      <td>NaN</td>\n",
       "      <td>NaN</td>\n",
       "      <td>NaN</td>\n",
       "      <td>456891388</td>\n",
       "    </tr>\n",
       "    <tr>\n",
       "      <th>2020-01</th>\n",
       "      <td>1.387364</td>\n",
       "      <td>0.000000</td>\n",
       "      <td>1.387362</td>\n",
       "      <td>0.000000</td>\n",
       "      <td>0.000000</td>\n",
       "      <td>541208928</td>\n",
       "    </tr>\n",
       "    <tr>\n",
       "      <th>2020-02</th>\n",
       "      <td>1.334111</td>\n",
       "      <td>0.021544</td>\n",
       "      <td>1.334865</td>\n",
       "      <td>0.005373</td>\n",
       "      <td>0.065120</td>\n",
       "      <td>407998403</td>\n",
       "    </tr>\n",
       "    <tr>\n",
       "      <th>2020-03</th>\n",
       "      <td>1.265188</td>\n",
       "      <td>-0.135677</td>\n",
       "      <td>1.272476</td>\n",
       "      <td>0.176891</td>\n",
       "      <td>0.230657</td>\n",
       "      <td>390562486</td>\n",
       "    </tr>\n",
       "    <tr>\n",
       "      <th>2020-04</th>\n",
       "      <td>1.303867</td>\n",
       "      <td>-0.137917</td>\n",
       "      <td>1.283870</td>\n",
       "      <td>0.258056</td>\n",
       "      <td>0.355363</td>\n",
       "      <td>519691400</td>\n",
       "    </tr>\n",
       "    <tr>\n",
       "      <th>2020-05</th>\n",
       "      <td>1.677738</td>\n",
       "      <td>-0.056387</td>\n",
       "      <td>1.593531</td>\n",
       "      <td>0.242322</td>\n",
       "      <td>0.379569</td>\n",
       "      <td>433815734</td>\n",
       "    </tr>\n",
       "    <tr>\n",
       "      <th>2020-06</th>\n",
       "      <td>1.367723</td>\n",
       "      <td>0.036103</td>\n",
       "      <td>1.353400</td>\n",
       "      <td>0.356605</td>\n",
       "      <td>0.499871</td>\n",
       "      <td>438161325</td>\n",
       "    </tr>\n",
       "    <tr>\n",
       "      <th>2020-07</th>\n",
       "      <td>1.619545</td>\n",
       "      <td>0.009759</td>\n",
       "      <td>1.603375</td>\n",
       "      <td>0.444268</td>\n",
       "      <td>0.601677</td>\n",
       "      <td>545573261</td>\n",
       "    </tr>\n",
       "    <tr>\n",
       "      <th>2020-08</th>\n",
       "      <td>1.357114</td>\n",
       "      <td>-0.083221</td>\n",
       "      <td>1.353754</td>\n",
       "      <td>0.308331</td>\n",
       "      <td>0.476931</td>\n",
       "      <td>423078601</td>\n",
       "    </tr>\n",
       "    <tr>\n",
       "      <th>2020-09</th>\n",
       "      <td>1.380647</td>\n",
       "      <td>-0.070351</td>\n",
       "      <td>1.359750</td>\n",
       "      <td>0.430579</td>\n",
       "      <td>0.571413</td>\n",
       "      <td>415256992</td>\n",
       "    </tr>\n",
       "    <tr>\n",
       "      <th>2020-10</th>\n",
       "      <td>1.623250</td>\n",
       "      <td>-0.067147</td>\n",
       "      <td>1.605556</td>\n",
       "      <td>0.196615</td>\n",
       "      <td>0.342304</td>\n",
       "      <td>544391467</td>\n",
       "    </tr>\n",
       "  </tbody>\n",
       "</table>\n",
       "</div>"
      ],
      "text/plain": [
       "             card      cash  fam_card    un_num  un_amount     mobile\n",
       "date                                                                 \n",
       "2019-01       NaN       NaN       NaN       NaN        NaN  548705610\n",
       "2019-02       NaN       NaN       NaN       NaN        NaN  429729149\n",
       "2019-03       NaN       NaN       NaN       NaN        NaN  453005338\n",
       "2019-04       NaN       NaN       NaN       NaN        NaN  460709859\n",
       "2019-05       NaN       NaN       NaN       NaN        NaN  583466070\n",
       "2019-06       NaN       NaN       NaN       NaN        NaN  460463571\n",
       "2019-07       NaN       NaN       NaN       NaN        NaN  456753971\n",
       "2019-08       NaN       NaN       NaN       NaN        NaN  562112879\n",
       "2019-09       NaN       NaN       NaN       NaN        NaN  449666567\n",
       "2019-10       NaN       NaN       NaN       NaN        NaN  574659966\n",
       "2019-11       NaN       NaN       NaN       NaN        NaN  459145593\n",
       "2019-12       NaN       NaN       NaN       NaN        NaN  456891388\n",
       "2020-01  1.387364  0.000000  1.387362  0.000000   0.000000  541208928\n",
       "2020-02  1.334111  0.021544  1.334865  0.005373   0.065120  407998403\n",
       "2020-03  1.265188 -0.135677  1.272476  0.176891   0.230657  390562486\n",
       "2020-04  1.303867 -0.137917  1.283870  0.258056   0.355363  519691400\n",
       "2020-05  1.677738 -0.056387  1.593531  0.242322   0.379569  433815734\n",
       "2020-06  1.367723  0.036103  1.353400  0.356605   0.499871  438161325\n",
       "2020-07  1.619545  0.009759  1.603375  0.444268   0.601677  545573261\n",
       "2020-08  1.357114 -0.083221  1.353754  0.308331   0.476931  423078601\n",
       "2020-09  1.380647 -0.070351  1.359750  0.430579   0.571413  415256992\n",
       "2020-10  1.623250 -0.067147  1.605556  0.196615   0.342304  544391467"
      ]
     },
     "execution_count": 280,
     "metadata": {},
     "output_type": "execute_result"
    }
   ],
   "source": [
    "input_date_alldata('2019-01', '2020-10', card, cash, fam_card, un_num, un_amount, mobile)\n",
    "#최종적으로 사용할 함수입니다. 사용하실 데이터를 *all_data에 개수 상관없이 넣으시면 됩니다."
   ]
  },
  {
   "cell_type": "markdown",
   "id": "915e1aab",
   "metadata": {
    "pycharm": {
     "name": "#%% md\n"
    }
   },
   "source": [
    "### mobile 주별->월별 합계"
   ]
  },
  {
   "cell_type": "code",
   "execution_count": 286,
   "id": "e30115bc",
   "metadata": {
    "pycharm": {
     "name": "#%%\n"
    }
   },
   "outputs": [
    {
     "data": {
      "text/html": [
       "<div>\n",
       "<style scoped>\n",
       "    .dataframe tbody tr th:only-of-type {\n",
       "        vertical-align: middle;\n",
       "    }\n",
       "\n",
       "    .dataframe tbody tr th {\n",
       "        vertical-align: top;\n",
       "    }\n",
       "\n",
       "    .dataframe thead th {\n",
       "        text-align: right;\n",
       "    }\n",
       "</style>\n",
       "<table border=\"1\" class=\"dataframe\">\n",
       "  <thead>\n",
       "    <tr style=\"text-align: right;\">\n",
       "      <th></th>\n",
       "      <th>Unnamed: 0</th>\n",
       "      <th>Unnamed: 1</th>\n",
       "      <th>Unnamed: 2</th>\n",
       "      <th>Unnamed: 3</th>\n",
       "      <th>Unnamed: 4</th>\n",
       "      <th>Unnamed: 5</th>\n",
       "      <th>Unnamed: 6</th>\n",
       "      <th>Unnamed: 7</th>\n",
       "      <th>Unnamed: 8</th>\n",
       "      <th>Unnamed: 9</th>\n",
       "      <th>...</th>\n",
       "      <th>Unnamed: 172</th>\n",
       "      <th>Unnamed: 173</th>\n",
       "      <th>Unnamed: 174</th>\n",
       "      <th>Unnamed: 175</th>\n",
       "      <th>Unnamed: 176</th>\n",
       "      <th>Unnamed: 177</th>\n",
       "      <th>Unnamed: 178</th>\n",
       "      <th>Unnamed: 179</th>\n",
       "      <th>Unnamed: 180</th>\n",
       "      <th>Unnamed: 181</th>\n",
       "    </tr>\n",
       "  </thead>\n",
       "  <tbody>\n",
       "    <tr>\n",
       "      <th>0</th>\n",
       "      <td>전국 총계</td>\n",
       "      <td>2019.01.1주차</td>\n",
       "      <td>2019.01.2주차</td>\n",
       "      <td>2019.01.3주차</td>\n",
       "      <td>2019.01.4주차</td>\n",
       "      <td>2019.01.5주차</td>\n",
       "      <td>2019.02.1주차</td>\n",
       "      <td>2019.02.2주차</td>\n",
       "      <td>2019.02.3주차</td>\n",
       "      <td>2019.02.4주차</td>\n",
       "      <td>...</td>\n",
       "      <td>2022.04.2주차</td>\n",
       "      <td>2022.04.3주차</td>\n",
       "      <td>2022.04.4주차</td>\n",
       "      <td>2022.05.1주차</td>\n",
       "      <td>2022.05.2주차</td>\n",
       "      <td>2022.05.3주차</td>\n",
       "      <td>2022.05.4주차</td>\n",
       "      <td>2022.06.1주차</td>\n",
       "      <td>2022.06.2주차</td>\n",
       "      <td>2022.06.3주차</td>\n",
       "    </tr>\n",
       "    <tr>\n",
       "      <th>1</th>\n",
       "      <td>합계</td>\n",
       "      <td>107,286,640</td>\n",
       "      <td>109,856,167</td>\n",
       "      <td>110,428,194</td>\n",
       "      <td>110,926,323</td>\n",
       "      <td>110,208,286</td>\n",
       "      <td>101,977,829</td>\n",
       "      <td>110,300,567</td>\n",
       "      <td>108,797,073</td>\n",
       "      <td>108,653,680</td>\n",
       "      <td>...</td>\n",
       "      <td>110,261,543</td>\n",
       "      <td>111,961,232</td>\n",
       "      <td>112,862,176</td>\n",
       "      <td>116,758,112</td>\n",
       "      <td>115,073,267</td>\n",
       "      <td>114,863,737</td>\n",
       "      <td>114,184,894</td>\n",
       "      <td>114,538,278</td>\n",
       "      <td>113,024,843</td>\n",
       "      <td>113,813,636</td>\n",
       "    </tr>\n",
       "    <tr>\n",
       "      <th>2</th>\n",
       "      <td>관내</td>\n",
       "      <td>73,267,421</td>\n",
       "      <td>75,223,704</td>\n",
       "      <td>75,492,823</td>\n",
       "      <td>75,842,477</td>\n",
       "      <td>74,530,848</td>\n",
       "      <td>66,169,221</td>\n",
       "      <td>75,359,200</td>\n",
       "      <td>73,779,392</td>\n",
       "      <td>72,528,942</td>\n",
       "      <td>...</td>\n",
       "      <td>75,865,320</td>\n",
       "      <td>76,347,851</td>\n",
       "      <td>76,410,038</td>\n",
       "      <td>76,294,533</td>\n",
       "      <td>77,823,228</td>\n",
       "      <td>77,441,082</td>\n",
       "      <td>77,050,155</td>\n",
       "      <td>76,428,715</td>\n",
       "      <td>76,853,876</td>\n",
       "      <td>77,245,099</td>\n",
       "    </tr>\n",
       "    <tr>\n",
       "      <th>3</th>\n",
       "      <td>관외</td>\n",
       "      <td>34,019,219</td>\n",
       "      <td>34,632,463</td>\n",
       "      <td>34,935,371</td>\n",
       "      <td>35,083,846</td>\n",
       "      <td>35,677,438</td>\n",
       "      <td>35,808,608</td>\n",
       "      <td>34,941,367</td>\n",
       "      <td>35,017,681</td>\n",
       "      <td>36,124,738</td>\n",
       "      <td>...</td>\n",
       "      <td>34,396,223</td>\n",
       "      <td>35,613,381</td>\n",
       "      <td>36,452,138</td>\n",
       "      <td>40,463,579</td>\n",
       "      <td>37,250,039</td>\n",
       "      <td>37,422,655</td>\n",
       "      <td>37,134,739</td>\n",
       "      <td>38,109,563</td>\n",
       "      <td>36,170,967</td>\n",
       "      <td>36,568,537</td>\n",
       "    </tr>\n",
       "  </tbody>\n",
       "</table>\n",
       "<p>4 rows × 182 columns</p>\n",
       "</div>"
      ],
      "text/plain": [
       "  Unnamed: 0     Unnamed: 1     Unnamed: 2     Unnamed: 3     Unnamed: 4  \\\n",
       "0      전국 총계    2019.01.1주차    2019.01.2주차    2019.01.3주차    2019.01.4주차   \n",
       "1         합계   107,286,640    109,856,167    110,428,194    110,926,323    \n",
       "2         관내    73,267,421     75,223,704     75,492,823     75,842,477    \n",
       "3         관외    34,019,219     34,632,463     34,935,371     35,083,846    \n",
       "\n",
       "      Unnamed: 5     Unnamed: 6     Unnamed: 7     Unnamed: 8     Unnamed: 9  \\\n",
       "0    2019.01.5주차    2019.02.1주차    2019.02.2주차    2019.02.3주차    2019.02.4주차   \n",
       "1   110,208,286    101,977,829    110,300,567    108,797,073    108,653,680    \n",
       "2    74,530,848     66,169,221     75,359,200     73,779,392     72,528,942    \n",
       "3    35,677,438     35,808,608     34,941,367     35,017,681     36,124,738    \n",
       "\n",
       "   ...   Unnamed: 172   Unnamed: 173   Unnamed: 174   Unnamed: 175  \\\n",
       "0  ...    2022.04.2주차    2022.04.3주차    2022.04.4주차    2022.05.1주차   \n",
       "1  ...   110,261,543    111,961,232    112,862,176    116,758,112    \n",
       "2  ...    75,865,320     76,347,851     76,410,038     76,294,533    \n",
       "3  ...    34,396,223     35,613,381     36,452,138     40,463,579    \n",
       "\n",
       "    Unnamed: 176   Unnamed: 177   Unnamed: 178   Unnamed: 179   Unnamed: 180  \\\n",
       "0    2022.05.2주차    2022.05.3주차    2022.05.4주차    2022.06.1주차    2022.06.2주차   \n",
       "1   115,073,267    114,863,737    114,184,894    114,538,278    113,024,843    \n",
       "2    77,823,228     77,441,082     77,050,155     76,428,715     76,853,876    \n",
       "3    37,250,039     37,422,655     37,134,739     38,109,563     36,170,967    \n",
       "\n",
       "    Unnamed: 181  \n",
       "0    2022.06.3주차  \n",
       "1   113,813,636   \n",
       "2    77,245,099   \n",
       "3    36,568,537   \n",
       "\n",
       "[4 rows x 182 columns]"
      ]
     },
     "execution_count": 286,
     "metadata": {},
     "output_type": "execute_result"
    }
   ],
   "source": [
    "mobile = pd.read_csv('C:/Users/KIMDAEUN/Desktop/gdp_data/기후금융/나우캐스트/통신 모바일 인구이동량 통계(2022년 6월 3주차).csv')\n",
    "mobile"
   ]
  },
  {
   "cell_type": "code",
   "execution_count": 295,
   "id": "8c4eda27",
   "metadata": {
    "pycharm": {
     "name": "#%%\n"
    }
   },
   "outputs": [],
   "source": [
    "mobile = pd.read_csv('C:/Users/KIMDAEUN/Desktop/gdp_data/기후금융/나우캐스트/통신 모바일 인구이동량 통계(2022년 6월 3주차).csv')\n",
    "mobile = mobile.T\n",
    "mobile.columns = mobile.iloc[0]\n",
    "mobile = mobile.drop(mobile.index[0]).reset_index(drop=True)\n",
    "mobile = mobile.drop(['관내', '관외'], axis=1)\n",
    "\n",
    "mobile['year_month'] = mobile['전국 총계'].str.slice(stop=7)\n",
    "mobile['year_month'] = [mobile['year_month'][i].replace('.', '-') for i in range(len(mobile['year_month']))]\n",
    "mobile['전체'] = [int(mobile['합계'][i].replace(',', '')) for i in range(len(mobile['year_month']))]\n",
    "\n",
    "mobile.drop(['전국 총계', '합계'], axis=1, inplace=True)"
   ]
  },
  {
   "cell_type": "code",
   "execution_count": 297,
   "id": "be4640f7",
   "metadata": {
    "pycharm": {
     "name": "#%%\n"
    }
   },
   "outputs": [
    {
     "data": {
      "text/plain": [
       "0    107286640\n",
       "1    109856167\n",
       "2    110428194\n",
       "3    110926323\n",
       "4    110208286\n",
       "Name: 전체, dtype: int64"
      ]
     },
     "execution_count": 297,
     "metadata": {},
     "output_type": "execute_result"
    }
   ],
   "source": [
    "jan_list = mobile.iloc[0:5,1]\n",
    "jan_list"
   ]
  },
  {
   "cell_type": "code",
   "execution_count": 298,
   "id": "de5c44ec",
   "metadata": {
    "pycharm": {
     "name": "#%%\n"
    }
   },
   "outputs": [
    {
     "data": {
      "text/plain": [
       "548705610"
      ]
     },
     "execution_count": 298,
     "metadata": {},
     "output_type": "execute_result"
    }
   ],
   "source": [
    "sum(jan_list)"
   ]
  },
  {
   "cell_type": "markdown",
   "id": "d46cda69",
   "metadata": {
    "pycharm": {
     "name": "#%% md\n"
    }
   },
   "source": [
    "### test 주별->월별 수식"
   ]
  },
  {
   "cell_type": "code",
   "execution_count": 277,
   "id": "3eefae96",
   "metadata": {
    "pycharm": {
     "name": "#%%\n"
    }
   },
   "outputs": [
    {
     "data": {
      "text/plain": [
       "[-0.06402267, -0.00754951, 0.06603555, 0.00553663]"
      ]
     },
     "execution_count": 277,
     "metadata": {},
     "output_type": "execute_result"
    }
   ],
   "source": [
    "## 1월달 변동량으로 테스트 (수동계산)\n",
    "test = card.iloc[0:4,1].to_list()\n",
    "test"
   ]
  },
  {
   "cell_type": "code",
   "execution_count": 94,
   "id": "bd60cc29",
   "metadata": {
    "pycharm": {
     "name": "#%%\n"
    }
   },
   "outputs": [
    {
     "data": {
      "text/plain": [
       "array([inf, inf, inf, inf])"
      ]
     },
     "execution_count": 94,
     "metadata": {},
     "output_type": "execute_result"
    }
   ],
   "source": [
    "## exp\n",
    "exp_test = np.exp(test)\n",
    "exp_test"
   ]
  },
  {
   "cell_type": "code",
   "execution_count": 9,
   "id": "accdf88e",
   "metadata": {
    "pycharm": {
     "name": "#%%\n"
    }
   },
   "outputs": [
    {
     "data": {
      "text/plain": [
       "0.9379837351984223"
      ]
     },
     "execution_count": 9,
     "metadata": {},
     "output_type": "execute_result"
    }
   ],
   "source": [
    "np.exp(-0.06402267)"
   ]
  },
  {
   "cell_type": "code",
   "execution_count": 10,
   "id": "99e26964",
   "metadata": {
    "pycharm": {
     "name": "#%%\n"
    }
   },
   "outputs": [
    {
     "data": {
      "text/plain": [
       "4.004279329932788"
      ]
     },
     "execution_count": 10,
     "metadata": {},
     "output_type": "execute_result"
    }
   ],
   "source": [
    "## sum\n",
    "sum_exp_test = np.sum(exp_test)\n",
    "sum_exp_test"
   ]
  },
  {
   "cell_type": "code",
   "execution_count": 11,
   "id": "3c4bc6c2",
   "metadata": {
    "pycharm": {
     "name": "#%%\n"
    }
   },
   "outputs": [
    {
     "data": {
      "text/plain": [
       "4.00427934"
      ]
     },
     "execution_count": 11,
     "metadata": {},
     "output_type": "execute_result"
    }
   ],
   "source": [
    "round(0.93798374+0.99247892+1.06826469+1.00555199, 10)"
   ]
  },
  {
   "cell_type": "code",
   "execution_count": 12,
   "id": "a8dc820e",
   "metadata": {
    "pycharm": {
     "name": "#%%\n"
    }
   },
   "outputs": [
    {
     "data": {
      "text/plain": [
       "1.3873636217401453"
      ]
     },
     "execution_count": 12,
     "metadata": {},
     "output_type": "execute_result"
    }
   ],
   "source": [
    "## log\n",
    "log_sum_exp_test = np.log(sum_exp_test)\n",
    "log_sum_exp_test"
   ]
  }
 ],
 "metadata": {
  "kernelspec": {
   "display_name": "Python 3",
   "language": "python",
   "name": "python3"
  },
  "language_info": {
   "codemirror_mode": {
    "name": "ipython",
    "version": 3
   },
   "file_extension": ".py",
   "mimetype": "text/x-python",
   "name": "python",
   "nbconvert_exporter": "python",
   "pygments_lexer": "ipython3",
   "version": "3.8.8"
  }
 },
 "nbformat": 4,
 "nbformat_minor": 5
}